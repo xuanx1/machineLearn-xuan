{
  "cells": [
    {
      "cell_type": "markdown",
      "metadata": {
        "id": "QshK8s21WBrf"
      },
      "source": [
        "# Week 10\n",
        "\n",
        "Text Processing and Analysis"
      ]
    },
    {
      "cell_type": "markdown",
      "metadata": {
        "id": "7Hf8SXUwWOho"
      },
      "source": [
        "## Setup\n",
        "\n",
        "Run the following 2 cells to import all necessary libraries and helpers for this week's exercises"
      ]
    },
    {
      "cell_type": "code",
      "execution_count": 1,
      "metadata": {},
      "outputs": [
        {
          "name": "stdout",
          "output_type": "stream",
          "text": [
            "tar: Ignoring unknown extended header keyword 'LIBARCHIVE.xattr.com.apple.macl'\n",
            "tar: Ignoring unknown extended header keyword 'LIBARCHIVE.xattr.com.apple.macl'\n"
          ]
        }
      ],
      "source": [
        "!wget -q https://github.com/PSAM-5020-2025S-A/5020-utils/raw/main/src/data_utils.py\n",
        "!wget -q https://github.com/PSAM-5020-2025S-A/5020-utils/raw/main/src/text_utils.py\n",
        "!wget -qO- https://github.com/PSAM-5020-2025S-A/5020-utils/raw/main/datasets/text/movie_reviews.tar.gz | tar xz"
      ]
    },
    {
      "cell_type": "markdown",
      "metadata": {},
      "source": [
        "### All Scikit-Learn Now!"
      ]
    },
    {
      "cell_type": "code",
      "execution_count": 2,
      "metadata": {},
      "outputs": [],
      "source": [
        "import matplotlib.pyplot as plt\n",
        "import pandas as pd\n",
        "import string\n",
        "\n",
        "from sklearn.cluster import KMeans\n",
        "from sklearn.decomposition import NMF, TruncatedSVD, PCA\n",
        "from sklearn.ensemble import RandomForestClassifier\n",
        "from sklearn.feature_extraction.text import CountVectorizer, TfidfVectorizer\n",
        "from sklearn.metrics import accuracy_score\n",
        "from sklearn.model_selection import train_test_split\n",
        "from sklearn.naive_bayes import MultinomialNB\n",
        "\n",
        "from data_utils import MinMaxScaler\n",
        "from data_utils import display_confusion_matrix\n",
        "\n",
        "from text_utils import get_top_words"
      ]
    },
    {
      "cell_type": "markdown",
      "metadata": {},
      "source": [
        "## Text Classification\n",
        "\n",
        "Let's try to predict whether a given review expresses positive or negative feelings towards a movie.\n",
        "\n",
        "We have a dataset that basically has $2$ features per record: `review` and `sentiment`.\n",
        "\n",
        "Let's load and look:"
      ]
    },
    {
      "cell_type": "code",
      "execution_count": 3,
      "metadata": {},
      "outputs": [
        {
          "data": {
            "text/html": [
              "<div>\n",
              "<style scoped>\n",
              "    .dataframe tbody tr th:only-of-type {\n",
              "        vertical-align: middle;\n",
              "    }\n",
              "\n",
              "    .dataframe tbody tr th {\n",
              "        vertical-align: top;\n",
              "    }\n",
              "\n",
              "    .dataframe thead th {\n",
              "        text-align: right;\n",
              "    }\n",
              "</style>\n",
              "<table border=\"1\" class=\"dataframe\">\n",
              "  <thead>\n",
              "    <tr style=\"text-align: right;\">\n",
              "      <th></th>\n",
              "      <th>review</th>\n",
              "      <th>sentiment</th>\n",
              "    </tr>\n",
              "  </thead>\n",
              "  <tbody>\n",
              "    <tr>\n",
              "      <th>0</th>\n",
              "      <td>With all this stuff going down at the moment w...</td>\n",
              "      <td>1</td>\n",
              "    </tr>\n",
              "    <tr>\n",
              "      <th>1</th>\n",
              "      <td>\"The Classic War of the Worlds\" by Timothy Hin...</td>\n",
              "      <td>1</td>\n",
              "    </tr>\n",
              "    <tr>\n",
              "      <th>2</th>\n",
              "      <td>The film starts with a manager (Nicholas Bell)...</td>\n",
              "      <td>0</td>\n",
              "    </tr>\n",
              "    <tr>\n",
              "      <th>3</th>\n",
              "      <td>It must be assumed that those who praised this...</td>\n",
              "      <td>0</td>\n",
              "    </tr>\n",
              "    <tr>\n",
              "      <th>4</th>\n",
              "      <td>Superbly trashy and wondrously unpretentious 8...</td>\n",
              "      <td>1</td>\n",
              "    </tr>\n",
              "    <tr>\n",
              "      <th>...</th>\n",
              "      <td>...</td>\n",
              "      <td>...</td>\n",
              "    </tr>\n",
              "    <tr>\n",
              "      <th>24995</th>\n",
              "      <td>It seems like more consideration has gone into...</td>\n",
              "      <td>0</td>\n",
              "    </tr>\n",
              "    <tr>\n",
              "      <th>24996</th>\n",
              "      <td>I don't believe they made this film. Completel...</td>\n",
              "      <td>0</td>\n",
              "    </tr>\n",
              "    <tr>\n",
              "      <th>24997</th>\n",
              "      <td>Guy is a loser. Can't get girls, needs to buil...</td>\n",
              "      <td>0</td>\n",
              "    </tr>\n",
              "    <tr>\n",
              "      <th>24998</th>\n",
              "      <td>This 30 minute documentary Buñuel made in the ...</td>\n",
              "      <td>0</td>\n",
              "    </tr>\n",
              "    <tr>\n",
              "      <th>24999</th>\n",
              "      <td>I saw this movie as a child and it broke my he...</td>\n",
              "      <td>1</td>\n",
              "    </tr>\n",
              "  </tbody>\n",
              "</table>\n",
              "<p>25000 rows × 2 columns</p>\n",
              "</div>"
            ],
            "text/plain": [
              "                                                  review  sentiment\n",
              "0      With all this stuff going down at the moment w...          1\n",
              "1      \"The Classic War of the Worlds\" by Timothy Hin...          1\n",
              "2      The film starts with a manager (Nicholas Bell)...          0\n",
              "3      It must be assumed that those who praised this...          0\n",
              "4      Superbly trashy and wondrously unpretentious 8...          1\n",
              "...                                                  ...        ...\n",
              "24995  It seems like more consideration has gone into...          0\n",
              "24996  I don't believe they made this film. Completel...          0\n",
              "24997  Guy is a loser. Can't get girls, needs to buil...          0\n",
              "24998  This 30 minute documentary Buñuel made in the ...          0\n",
              "24999  I saw this movie as a child and it broke my he...          1\n",
              "\n",
              "[25000 rows x 2 columns]"
            ]
          },
          "execution_count": 3,
          "metadata": {},
          "output_type": "execute_result"
        }
      ],
      "source": [
        "reviews_df = pd.read_csv(\"./data/text/movie_reviews.csv\")\n",
        "reviews_df"
      ]
    },
    {
      "cell_type": "markdown",
      "metadata": {},
      "source": [
        "### Features\n",
        "\n",
        "Text is a very different kind of feature...\n",
        "\n",
        "We do want to turn it into numbers somehow in order to apply some of the methods and models we've been learning about, but how to do that exactly is not entirely obvious.\n",
        "\n",
        "We can try to extract some numerical information about the review text. Maybe something like the length of the review or the relative amount of punctuation marks or digits can be indicative of its sentiment.\n",
        "\n",
        "Let's define some helper functions."
      ]
    },
    {
      "cell_type": "code",
      "execution_count": 4,
      "metadata": {},
      "outputs": [],
      "source": [
        "def count_characters(st):\n",
        "  return len(\"\".join(st.split()))\n",
        "\n",
        "def count_words(st):\n",
        "  return len(st.split(\" \"))\n",
        "\n",
        "def count_punctuation(st):\n",
        "  return len([c for c in st if c in string.punctuation])\n",
        "\n",
        "def count_digits(st):\n",
        "  return len([c for c in st if c in string.digits])\n",
        "\n",
        "def get_punctuation_pct(st):\n",
        "  return count_punctuation(st) / count_characters(st)\n",
        "\n",
        "def get_digit_pct(st):\n",
        "  return count_digits(st) / count_characters(st)"
      ]
    },
    {
      "cell_type": "markdown",
      "metadata": {},
      "source": [
        "Now, let's apply some of these to our `DataFrame` to create numerical features that we can eventually use in a classifier."
      ]
    },
    {
      "cell_type": "code",
      "execution_count": 5,
      "metadata": {},
      "outputs": [
        {
          "data": {
            "text/html": [
              "<div>\n",
              "<style scoped>\n",
              "    .dataframe tbody tr th:only-of-type {\n",
              "        vertical-align: middle;\n",
              "    }\n",
              "\n",
              "    .dataframe tbody tr th {\n",
              "        vertical-align: top;\n",
              "    }\n",
              "\n",
              "    .dataframe thead th {\n",
              "        text-align: right;\n",
              "    }\n",
              "</style>\n",
              "<table border=\"1\" class=\"dataframe\">\n",
              "  <thead>\n",
              "    <tr style=\"text-align: right;\">\n",
              "      <th></th>\n",
              "      <th>review</th>\n",
              "      <th>sentiment</th>\n",
              "      <th>char_count</th>\n",
              "      <th>word_count</th>\n",
              "      <th>punctuation_pct</th>\n",
              "      <th>digit_pct</th>\n",
              "    </tr>\n",
              "  </thead>\n",
              "  <tbody>\n",
              "    <tr>\n",
              "      <th>0</th>\n",
              "      <td>With all this stuff going down at the moment w...</td>\n",
              "      <td>1</td>\n",
              "      <td>1830</td>\n",
              "      <td>429</td>\n",
              "      <td>0.023497</td>\n",
              "      <td>0.001093</td>\n",
              "    </tr>\n",
              "    <tr>\n",
              "      <th>1</th>\n",
              "      <td>\"The Classic War of the Worlds\" by Timothy Hin...</td>\n",
              "      <td>1</td>\n",
              "      <td>781</td>\n",
              "      <td>158</td>\n",
              "      <td>0.043534</td>\n",
              "      <td>0.000000</td>\n",
              "    </tr>\n",
              "    <tr>\n",
              "      <th>2</th>\n",
              "      <td>The film starts with a manager (Nicholas Bell)...</td>\n",
              "      <td>0</td>\n",
              "      <td>2062</td>\n",
              "      <td>377</td>\n",
              "      <td>0.031523</td>\n",
              "      <td>0.006305</td>\n",
              "    </tr>\n",
              "    <tr>\n",
              "      <th>3</th>\n",
              "      <td>It must be assumed that those who praised this...</td>\n",
              "      <td>0</td>\n",
              "      <td>1841</td>\n",
              "      <td>377</td>\n",
              "      <td>0.041282</td>\n",
              "      <td>0.002173</td>\n",
              "    </tr>\n",
              "    <tr>\n",
              "      <th>4</th>\n",
              "      <td>Superbly trashy and wondrously unpretentious 8...</td>\n",
              "      <td>1</td>\n",
              "      <td>1859</td>\n",
              "      <td>367</td>\n",
              "      <td>0.032275</td>\n",
              "      <td>0.002152</td>\n",
              "    </tr>\n",
              "    <tr>\n",
              "      <th>...</th>\n",
              "      <td>...</td>\n",
              "      <td>...</td>\n",
              "      <td>...</td>\n",
              "      <td>...</td>\n",
              "      <td>...</td>\n",
              "      <td>...</td>\n",
              "    </tr>\n",
              "    <tr>\n",
              "      <th>24995</th>\n",
              "      <td>It seems like more consideration has gone into...</td>\n",
              "      <td>0</td>\n",
              "      <td>406</td>\n",
              "      <td>87</td>\n",
              "      <td>0.044335</td>\n",
              "      <td>0.000000</td>\n",
              "    </tr>\n",
              "    <tr>\n",
              "      <th>24996</th>\n",
              "      <td>I don't believe they made this film. Completel...</td>\n",
              "      <td>0</td>\n",
              "      <td>802</td>\n",
              "      <td>174</td>\n",
              "      <td>0.043641</td>\n",
              "      <td>0.001247</td>\n",
              "    </tr>\n",
              "    <tr>\n",
              "      <th>24997</th>\n",
              "      <td>Guy is a loser. Can't get girls, needs to buil...</td>\n",
              "      <td>0</td>\n",
              "      <td>503</td>\n",
              "      <td>126</td>\n",
              "      <td>0.057654</td>\n",
              "      <td>0.007952</td>\n",
              "    </tr>\n",
              "    <tr>\n",
              "      <th>24998</th>\n",
              "      <td>This 30 minute documentary Buñuel made in the ...</td>\n",
              "      <td>0</td>\n",
              "      <td>945</td>\n",
              "      <td>197</td>\n",
              "      <td>0.031746</td>\n",
              "      <td>0.008466</td>\n",
              "    </tr>\n",
              "    <tr>\n",
              "      <th>24999</th>\n",
              "      <td>I saw this movie as a child and it broke my he...</td>\n",
              "      <td>1</td>\n",
              "      <td>757</td>\n",
              "      <td>184</td>\n",
              "      <td>0.046235</td>\n",
              "      <td>0.000000</td>\n",
              "    </tr>\n",
              "  </tbody>\n",
              "</table>\n",
              "<p>25000 rows × 6 columns</p>\n",
              "</div>"
            ],
            "text/plain": [
              "                                                  review  sentiment  \\\n",
              "0      With all this stuff going down at the moment w...          1   \n",
              "1      \"The Classic War of the Worlds\" by Timothy Hin...          1   \n",
              "2      The film starts with a manager (Nicholas Bell)...          0   \n",
              "3      It must be assumed that those who praised this...          0   \n",
              "4      Superbly trashy and wondrously unpretentious 8...          1   \n",
              "...                                                  ...        ...   \n",
              "24995  It seems like more consideration has gone into...          0   \n",
              "24996  I don't believe they made this film. Completel...          0   \n",
              "24997  Guy is a loser. Can't get girls, needs to buil...          0   \n",
              "24998  This 30 minute documentary Buñuel made in the ...          0   \n",
              "24999  I saw this movie as a child and it broke my he...          1   \n",
              "\n",
              "       char_count  word_count  punctuation_pct  digit_pct  \n",
              "0            1830         429         0.023497   0.001093  \n",
              "1             781         158         0.043534   0.000000  \n",
              "2            2062         377         0.031523   0.006305  \n",
              "3            1841         377         0.041282   0.002173  \n",
              "4            1859         367         0.032275   0.002152  \n",
              "...           ...         ...              ...        ...  \n",
              "24995         406          87         0.044335   0.000000  \n",
              "24996         802         174         0.043641   0.001247  \n",
              "24997         503         126         0.057654   0.007952  \n",
              "24998         945         197         0.031746   0.008466  \n",
              "24999         757         184         0.046235   0.000000  \n",
              "\n",
              "[25000 rows x 6 columns]"
            ]
          },
          "execution_count": 5,
          "metadata": {},
          "output_type": "execute_result"
        }
      ],
      "source": [
        "reviews_df[\"char_count\"] = reviews_df[\"review\"].apply(count_characters)\n",
        "reviews_df[\"word_count\"] = reviews_df[\"review\"].apply(count_words)\n",
        "reviews_df[\"punctuation_pct\"] = reviews_df[\"review\"].apply(get_punctuation_pct)\n",
        "reviews_df[\"digit_pct\"] = reviews_df[\"review\"].apply(get_digit_pct)\n",
        "\n",
        "reviews_df"
      ]
    },
    {
      "cell_type": "markdown",
      "metadata": {},
      "source": [
        "Before we model this data, let's look at some of these features and see if we can visually identify the negative and positive reviews on plots."
      ]
    },
    {
      "cell_type": "code",
      "execution_count": 7,
      "metadata": {},
      "outputs": [
        {
          "data": {
            "image/png": "[encoded data removed]",
            "text/plain": [
              "<Figure size 640x480 with 1 Axes>"
            ]
          },
          "metadata": {},
          "output_type": "display_data"
        },
        {
          "data": {
            "image/png": "[encoded data removed]",
            "text/plain": [
              "<Figure size 640x480 with 1 Axes>"
            ]
          },
          "metadata": {},
          "output_type": "display_data"
        },
        {
          "data": {
            "image/png": "[encoded data removed]",
            "text/plain": [
              "<Figure size 640x480 with 1 Axes>"
            ]
          },
          "metadata": {},
          "output_type": "display_data"
        }
      ],
      "source": [
        "plt.scatter(reviews_df[\"word_count\"], reviews_df[\"punctuation_pct\"], c=reviews_df[\"sentiment\"])\n",
        "plt.title(\"Punctuation % x Word Count\")\n",
        "plt.show()\n",
        "\n",
        "plt.scatter(reviews_df[\"digit_pct\"], reviews_df[\"punctuation_pct\"], c=reviews_df[\"sentiment\"])\n",
        "plt.title(\"Digit % x Word Count\")\n",
        "plt.show()\n",
        "\n",
        "plt.scatter(reviews_df[\"word_count\"], reviews_df[\"char_count\"], c=reviews_df[\"sentiment\"])\n",
        "plt.title(\"Character Count x Word Count\")\n",
        "plt.show()"
      ]
    },
    {
      "cell_type": "markdown",
      "metadata": {},
      "source": [
        "This is not very promising. It doesn't seem like these features contain enough information to help us extract meaning from the reviews.\n",
        "\n",
        "Let's just confirm this suspicion by creating a classifier.\n",
        "\n",
        "We'll use a `MinMaxScaler` since some of the features are already in a $[0,1]$ range."
      ]
    },
    {
      "cell_type": "code",
      "execution_count": 6,
      "metadata": {},
      "outputs": [
        {
          "data": {
            "text/html": [
              "<div>\n",
              "<style scoped>\n",
              "    .dataframe tbody tr th:only-of-type {\n",
              "        vertical-align: middle;\n",
              "    }\n",
              "\n",
              "    .dataframe tbody tr th {\n",
              "        vertical-align: top;\n",
              "    }\n",
              "\n",
              "    .dataframe thead th {\n",
              "        text-align: right;\n",
              "    }\n",
              "</style>\n",
              "<table border=\"1\" class=\"dataframe\">\n",
              "  <thead>\n",
              "    <tr style=\"text-align: right;\">\n",
              "      <th></th>\n",
              "      <th>char_count</th>\n",
              "      <th>word_count</th>\n",
              "      <th>punctuation_pct</th>\n",
              "      <th>digit_pct</th>\n",
              "      <th>sentiment</th>\n",
              "    </tr>\n",
              "  </thead>\n",
              "  <tbody>\n",
              "    <tr>\n",
              "      <th>0</th>\n",
              "      <td>0.161107</td>\n",
              "      <td>0.171090</td>\n",
              "      <td>0.030472</td>\n",
              "      <td>0.004608</td>\n",
              "      <td>1</td>\n",
              "    </tr>\n",
              "    <tr>\n",
              "      <th>1</th>\n",
              "      <td>0.066534</td>\n",
              "      <td>0.060433</td>\n",
              "      <td>0.056456</td>\n",
              "      <td>0.000000</td>\n",
              "      <td>1</td>\n",
              "    </tr>\n",
              "    <tr>\n",
              "      <th>2</th>\n",
              "      <td>0.182023</td>\n",
              "      <td>0.149857</td>\n",
              "      <td>0.040879</td>\n",
              "      <td>0.026581</td>\n",
              "      <td>0</td>\n",
              "    </tr>\n",
              "    <tr>\n",
              "      <th>3</th>\n",
              "      <td>0.162099</td>\n",
              "      <td>0.149857</td>\n",
              "      <td>0.053535</td>\n",
              "      <td>0.009161</td>\n",
              "      <td>0</td>\n",
              "    </tr>\n",
              "    <tr>\n",
              "      <th>4</th>\n",
              "      <td>0.163722</td>\n",
              "      <td>0.145774</td>\n",
              "      <td>0.041855</td>\n",
              "      <td>0.009072</td>\n",
              "      <td>1</td>\n",
              "    </tr>\n",
              "    <tr>\n",
              "      <th>...</th>\n",
              "      <td>...</td>\n",
              "      <td>...</td>\n",
              "      <td>...</td>\n",
              "      <td>...</td>\n",
              "      <td>...</td>\n",
              "    </tr>\n",
              "    <tr>\n",
              "      <th>24995</th>\n",
              "      <td>0.032726</td>\n",
              "      <td>0.031441</td>\n",
              "      <td>0.057494</td>\n",
              "      <td>0.000000</td>\n",
              "      <td>0</td>\n",
              "    </tr>\n",
              "    <tr>\n",
              "      <th>24996</th>\n",
              "      <td>0.068428</td>\n",
              "      <td>0.066966</td>\n",
              "      <td>0.056594</td>\n",
              "      <td>0.005257</td>\n",
              "      <td>0</td>\n",
              "    </tr>\n",
              "    <tr>\n",
              "      <th>24997</th>\n",
              "      <td>0.041471</td>\n",
              "      <td>0.047366</td>\n",
              "      <td>0.074767</td>\n",
              "      <td>0.033529</td>\n",
              "      <td>0</td>\n",
              "    </tr>\n",
              "    <tr>\n",
              "      <th>24998</th>\n",
              "      <td>0.081320</td>\n",
              "      <td>0.076358</td>\n",
              "      <td>0.041169</td>\n",
              "      <td>0.035693</td>\n",
              "      <td>0</td>\n",
              "    </tr>\n",
              "    <tr>\n",
              "      <th>24999</th>\n",
              "      <td>0.064371</td>\n",
              "      <td>0.071049</td>\n",
              "      <td>0.059959</td>\n",
              "      <td>0.000000</td>\n",
              "      <td>1</td>\n",
              "    </tr>\n",
              "  </tbody>\n",
              "</table>\n",
              "<p>25000 rows × 5 columns</p>\n",
              "</div>"
            ],
            "text/plain": [
              "       char_count  word_count  punctuation_pct  digit_pct  sentiment\n",
              "0        0.161107    0.171090         0.030472   0.004608          1\n",
              "1        0.066534    0.060433         0.056456   0.000000          1\n",
              "2        0.182023    0.149857         0.040879   0.026581          0\n",
              "3        0.162099    0.149857         0.053535   0.009161          0\n",
              "4        0.163722    0.145774         0.041855   0.009072          1\n",
              "...           ...         ...              ...        ...        ...\n",
              "24995    0.032726    0.031441         0.057494   0.000000          0\n",
              "24996    0.068428    0.066966         0.056594   0.005257          0\n",
              "24997    0.041471    0.047366         0.074767   0.033529          0\n",
              "24998    0.081320    0.076358         0.041169   0.035693          0\n",
              "24999    0.064371    0.071049         0.059959   0.000000          1\n",
              "\n",
              "[25000 rows x 5 columns]"
            ]
          },
          "execution_count": 6,
          "metadata": {},
          "output_type": "execute_result"
        }
      ],
      "source": [
        "mScaler = MinMaxScaler()\n",
        "\n",
        "simple_feats_df = reviews_df.drop(columns=[\"review\", \"sentiment\"])\n",
        "simple_feats_scaled_df = mScaler.fit_transform(simple_feats_df)\n",
        "\n",
        "simple_feats_scaled_df[\"sentiment\"] = reviews_df[\"sentiment\"]\n",
        "\n",
        "simple_feats_scaled_df"
      ]
    },
    {
      "cell_type": "markdown",
      "metadata": {},
      "source": [
        "Train/Test splitting should've been done before scaling, but this is just a quick experiment."
      ]
    },
    {
      "cell_type": "code",
      "execution_count": 7,
      "metadata": {},
      "outputs": [
        {
          "data": {
            "text/html": [
              "<div>\n",
              "<style scoped>\n",
              "    .dataframe tbody tr th:only-of-type {\n",
              "        vertical-align: middle;\n",
              "    }\n",
              "\n",
              "    .dataframe tbody tr th {\n",
              "        vertical-align: top;\n",
              "    }\n",
              "\n",
              "    .dataframe thead th {\n",
              "        text-align: right;\n",
              "    }\n",
              "</style>\n",
              "<table border=\"1\" class=\"dataframe\">\n",
              "  <thead>\n",
              "    <tr style=\"text-align: right;\">\n",
              "      <th></th>\n",
              "      <th>char_count</th>\n",
              "      <th>word_count</th>\n",
              "      <th>punctuation_pct</th>\n",
              "      <th>digit_pct</th>\n",
              "      <th>sentiment</th>\n",
              "    </tr>\n",
              "  </thead>\n",
              "  <tbody>\n",
              "    <tr>\n",
              "      <th>12398</th>\n",
              "      <td>0.132167</td>\n",
              "      <td>0.129849</td>\n",
              "      <td>0.053282</td>\n",
              "      <td>0.027940</td>\n",
              "      <td>1</td>\n",
              "    </tr>\n",
              "    <tr>\n",
              "      <th>11849</th>\n",
              "      <td>0.042553</td>\n",
              "      <td>0.046958</td>\n",
              "      <td>0.030217</td>\n",
              "      <td>0.016374</td>\n",
              "      <td>0</td>\n",
              "    </tr>\n",
              "    <tr>\n",
              "      <th>15724</th>\n",
              "      <td>0.066354</td>\n",
              "      <td>0.061249</td>\n",
              "      <td>0.063260</td>\n",
              "      <td>0.000000</td>\n",
              "      <td>1</td>\n",
              "    </tr>\n",
              "    <tr>\n",
              "      <th>21841</th>\n",
              "      <td>0.079336</td>\n",
              "      <td>0.075541</td>\n",
              "      <td>0.047770</td>\n",
              "      <td>0.000000</td>\n",
              "      <td>0</td>\n",
              "    </tr>\n",
              "    <tr>\n",
              "      <th>2134</th>\n",
              "      <td>0.070231</td>\n",
              "      <td>0.070641</td>\n",
              "      <td>0.033130</td>\n",
              "      <td>0.000000</td>\n",
              "      <td>1</td>\n",
              "    </tr>\n",
              "    <tr>\n",
              "      <th>...</th>\n",
              "      <td>...</td>\n",
              "      <td>...</td>\n",
              "      <td>...</td>\n",
              "      <td>...</td>\n",
              "      <td>...</td>\n",
              "    </tr>\n",
              "    <tr>\n",
              "      <th>23135</th>\n",
              "      <td>0.073927</td>\n",
              "      <td>0.073499</td>\n",
              "      <td>0.037567</td>\n",
              "      <td>0.000000</td>\n",
              "      <td>1</td>\n",
              "    </tr>\n",
              "    <tr>\n",
              "      <th>1500</th>\n",
              "      <td>0.020555</td>\n",
              "      <td>0.021641</td>\n",
              "      <td>0.052638</td>\n",
              "      <td>0.046674</td>\n",
              "      <td>1</td>\n",
              "    </tr>\n",
              "    <tr>\n",
              "      <th>4979</th>\n",
              "      <td>0.060224</td>\n",
              "      <td>0.064108</td>\n",
              "      <td>0.047422</td>\n",
              "      <td>0.005930</td>\n",
              "      <td>0</td>\n",
              "    </tr>\n",
              "    <tr>\n",
              "      <th>7756</th>\n",
              "      <td>0.048233</td>\n",
              "      <td>0.046958</td>\n",
              "      <td>0.042629</td>\n",
              "      <td>0.029178</td>\n",
              "      <td>1</td>\n",
              "    </tr>\n",
              "    <tr>\n",
              "      <th>1853</th>\n",
              "      <td>0.078074</td>\n",
              "      <td>0.076358</td>\n",
              "      <td>0.064199</td>\n",
              "      <td>0.009277</td>\n",
              "      <td>1</td>\n",
              "    </tr>\n",
              "  </tbody>\n",
              "</table>\n",
              "<p>20000 rows × 5 columns</p>\n",
              "</div>"
            ],
            "text/plain": [
              "       char_count  word_count  punctuation_pct  digit_pct  sentiment\n",
              "12398    0.132167    0.129849         0.053282   0.027940          1\n",
              "11849    0.042553    0.046958         0.030217   0.016374          0\n",
              "15724    0.066354    0.061249         0.063260   0.000000          1\n",
              "21841    0.079336    0.075541         0.047770   0.000000          0\n",
              "2134     0.070231    0.070641         0.033130   0.000000          1\n",
              "...           ...         ...              ...        ...        ...\n",
              "23135    0.073927    0.073499         0.037567   0.000000          1\n",
              "1500     0.020555    0.021641         0.052638   0.046674          1\n",
              "4979     0.060224    0.064108         0.047422   0.005930          0\n",
              "7756     0.048233    0.046958         0.042629   0.029178          1\n",
              "1853     0.078074    0.076358         0.064199   0.009277          1\n",
              "\n",
              "[20000 rows x 5 columns]"
            ]
          },
          "execution_count": 7,
          "metadata": {},
          "output_type": "execute_result"
        }
      ],
      "source": [
        "reviews_train_df, reviews_test_df = train_test_split(simple_feats_scaled_df, test_size=0.2)\n",
        "\n",
        "reviews_train_df"
      ]
    },
    {
      "cell_type": "code",
      "execution_count": 8,
      "metadata": {},
      "outputs": [
        {
          "data": {
            "text/plain": [
              "0.9985"
            ]
          },
          "execution_count": 8,
          "metadata": {},
          "output_type": "execute_result"
        }
      ],
      "source": [
        "mClassifier = RandomForestClassifier()\n",
        "\n",
        "train_feats = reviews_train_df.drop(columns=[\"sentiment\"])\n",
        "train_labels = reviews_train_df[\"sentiment\"]\n",
        "\n",
        "mClassifier.fit(train_feats, train_labels)\n",
        "\n",
        "train_preds = mClassifier.predict(train_feats)\n",
        "\n",
        "accuracy_score(train_labels, train_preds)"
      ]
    },
    {
      "cell_type": "code",
      "execution_count": 9,
      "metadata": {},
      "outputs": [
        {
          "data": {
            "text/plain": [
              "0.535"
            ]
          },
          "execution_count": 9,
          "metadata": {},
          "output_type": "execute_result"
        }
      ],
      "source": [
        "test_feats = reviews_test_df.drop(columns=[\"sentiment\"])\n",
        "test_labels = reviews_test_df[\"sentiment\"]\n",
        "\n",
        "test_preds = mClassifier.predict(test_feats)\n",
        "\n",
        "accuracy_score(test_labels, test_preds)"
      ]
    },
    {
      "cell_type": "markdown",
      "metadata": {},
      "source": [
        "# 🤔\n",
        "\n",
        "Our model is just as good as a random guess.\n",
        "\n",
        "We'll have to use something else.\n",
        "\n",
        "Back to the drawing board."
      ]
    },
    {
      "cell_type": "markdown",
      "metadata": {},
      "source": [
        "### Bag-of-Words (BoW)\n",
        "\n",
        "This is a way of modeling sentences as a function of their words. We can think of it as a specialized version of One-Hot Encoding, where we turn our single-column `review` feature into a series of numbers that represent which words are present in that review. If a word is not present, that column gets a $0$, if the word is present, the column gets an integer that represents the total number of times that word was used in the review.\n",
        "\n",
        "There are some specificities to keep in mind when we encode text this way. We need to figure out what constitutes a _word_ and what kind of words we want to ignore.\n",
        "\n",
        "Do we consider the words `type`, `types`, `typed` as the same word or $3$ different words ?\n",
        "\n",
        "Do we consider words like `a`, `the`, `of`, `in`, etc ... in our encoding ? What other kinds of words should be treated differently ?\n",
        "\n",
        "The first consideration is part of the process of _tokenization_, or, how we turn sequences (of words) into its constitutive components (tokens). There are libraries and pre-trained models that can help us with that task.\n",
        "\n",
        "To answer part of the second question: it's best to remove common words from text before processing it because they don't add meaning or variance to our data. These words are commonly referred to as _stop words_, or _negative dictionary_, and, again, we can find lists of common _stop words_ for different languages in text-processing libraries and packages.\n",
        "\n",
        "<img src=\"./imgs/tokens-00.jpg\" width=\"720px\" />\n",
        "\n",
        "Our dataset can have other words that show up very frequently, but aren't generally considered _stop words_. For example, a dataset about movie reviews might have the words `movie`, `good`, `director`, etc in every single review. While not typical _stop words_, they should be ignored during encoding because they add no meaningful differentiation to our data.\n",
        "\n",
        "The same is true for words that are rare and only show up in a small fraction of our sentences/reviews.\n",
        "\n",
        "This process of encoding text sequences by the count of their words is called Vectorization. This method of encoding keeps track of which words are present in a series of words, and how common they are, but without any significant information about the order of the words or where they occurred in the original text.\n",
        "\n",
        "That's why models created this way are called _Bag-of-Word_ models: they model _what_ words are there, but not _where_ they occurred."
      ]
    },
    {
      "cell_type": "markdown",
      "metadata": {},
      "source": [
        "### Vectorize by Count\n",
        "\n",
        "Let's use the `Scikit-Learn` class `CountVectorizer` to encode our reviews.\n",
        "\n",
        "The `min_df` and `max_df` parameters to the class constructor determine the minimum and maximum document frequencies to consider when encoding our data.\n",
        "\n",
        "With `min_df=5` and `max_df=0.75`, the vectorizer ignores words that show up in less than $5$ reviews and words that show up in more than $75\\%$ of reviews."
      ]
    },
    {
      "cell_type": "code",
      "execution_count": 10,
      "metadata": {},
      "outputs": [
        {
          "data": {
            "text/html": [
              "<div>\n",
              "<style scoped>\n",
              "    .dataframe tbody tr th:only-of-type {\n",
              "        vertical-align: middle;\n",
              "    }\n",
              "\n",
              "    .dataframe tbody tr th {\n",
              "        vertical-align: top;\n",
              "    }\n",
              "\n",
              "    .dataframe thead th {\n",
              "        text-align: right;\n",
              "    }\n",
              "</style>\n",
              "<table border=\"1\" class=\"dataframe\">\n",
              "  <thead>\n",
              "    <tr style=\"text-align: right;\">\n",
              "      <th></th>\n",
              "      <th>review</th>\n",
              "      <th>sentiment</th>\n",
              "    </tr>\n",
              "  </thead>\n",
              "  <tbody>\n",
              "    <tr>\n",
              "      <th>16933</th>\n",
              "      <td>I have to admit that for the first half hour o...</td>\n",
              "      <td>1</td>\n",
              "    </tr>\n",
              "    <tr>\n",
              "      <th>16265</th>\n",
              "      <td>This really is the worst film I have ever seen...</td>\n",
              "      <td>0</td>\n",
              "    </tr>\n",
              "    <tr>\n",
              "      <th>10749</th>\n",
              "      <td>I don't know what it is with these Brady kids....</td>\n",
              "      <td>0</td>\n",
              "    </tr>\n",
              "    <tr>\n",
              "      <th>9197</th>\n",
              "      <td>This movie was not made by Who fans. Most of t...</td>\n",
              "      <td>0</td>\n",
              "    </tr>\n",
              "    <tr>\n",
              "      <th>1788</th>\n",
              "      <td>\"Fever Pitch\" is a sweet and charming addition...</td>\n",
              "      <td>1</td>\n",
              "    </tr>\n",
              "    <tr>\n",
              "      <th>...</th>\n",
              "      <td>...</td>\n",
              "      <td>...</td>\n",
              "    </tr>\n",
              "    <tr>\n",
              "      <th>4906</th>\n",
              "      <td>What a thrill ride! Twisted and thought provok...</td>\n",
              "      <td>1</td>\n",
              "    </tr>\n",
              "    <tr>\n",
              "      <th>6851</th>\n",
              "      <td>Why else would he do this to me? Not that I ex...</td>\n",
              "      <td>0</td>\n",
              "    </tr>\n",
              "    <tr>\n",
              "      <th>23029</th>\n",
              "      <td>This place in England during 1940. Three orpha...</td>\n",
              "      <td>1</td>\n",
              "    </tr>\n",
              "    <tr>\n",
              "      <th>8394</th>\n",
              "      <td>this was one of those $.50 cent deals of yore-...</td>\n",
              "      <td>1</td>\n",
              "    </tr>\n",
              "    <tr>\n",
              "      <th>18120</th>\n",
              "      <td>CHANCES ARE is a charming romantic fantasy abo...</td>\n",
              "      <td>1</td>\n",
              "    </tr>\n",
              "  </tbody>\n",
              "</table>\n",
              "<p>20000 rows × 2 columns</p>\n",
              "</div>"
            ],
            "text/plain": [
              "                                                  review  sentiment\n",
              "16933  I have to admit that for the first half hour o...          1\n",
              "16265  This really is the worst film I have ever seen...          0\n",
              "10749  I don't know what it is with these Brady kids....          0\n",
              "9197   This movie was not made by Who fans. Most of t...          0\n",
              "1788   \"Fever Pitch\" is a sweet and charming addition...          1\n",
              "...                                                  ...        ...\n",
              "4906   What a thrill ride! Twisted and thought provok...          1\n",
              "6851   Why else would he do this to me? Not that I ex...          0\n",
              "23029  This place in England during 1940. Three orpha...          1\n",
              "8394   this was one of those $.50 cent deals of yore-...          1\n",
              "18120  CHANCES ARE is a charming romantic fantasy abo...          1\n",
              "\n",
              "[20000 rows x 2 columns]"
            ]
          },
          "execution_count": 10,
          "metadata": {},
          "output_type": "execute_result"
        }
      ],
      "source": [
        "reviews_df = pd.read_csv(\"./data/text/movie_reviews.csv\")\n",
        "\n",
        "reviews_train_df, reviews_test_df = train_test_split(reviews_df, test_size=0.2, random_state=1010)\n",
        "reviews_train_df"
      ]
    },
    {
      "cell_type": "code",
      "execution_count": 11,
      "metadata": {},
      "outputs": [],
      "source": [
        "mCV = CountVectorizer(stop_words=\"english\", min_df=5, max_df=0.75, max_features=10_000)\n",
        "\n",
        "reviews_train_vct = mCV.fit_transform(reviews_train_df[\"review\"])\n",
        "reviews_test_vct = mCV.transform(reviews_test_df[\"review\"])"
      ]
    },
    {
      "cell_type": "markdown",
      "metadata": {},
      "source": [
        "If we print our encoded features, we should see something like this:\n",
        "\n",
        "<img src=\"./imgs/vector-00.jpg\" width=\"720px\" />"
      ]
    },
    {
      "cell_type": "code",
      "execution_count": 12,
      "metadata": {},
      "outputs": [
        {
          "data": {
            "text/plain": [
              "<Compressed Sparse Row sparse matrix of dtype 'int64'\n",
              "\twith 1563221 stored elements and shape (20000, 10000)>"
            ]
          },
          "execution_count": 12,
          "metadata": {},
          "output_type": "execute_result"
        }
      ],
      "source": [
        "reviews_train_vct"
      ]
    },
    {
      "cell_type": "markdown",
      "metadata": {},
      "source": [
        "But we don't.\n",
        "\n",
        "What !?\n",
        "\n",
        "### Sparse Matrices\n",
        "\n",
        "This is why we have to move beyond `DataFrames` for text encoding.\n",
        "\n",
        "We have thousands of reviews and thousands of possible words in our vocabulary. Encoding this information using a `DataFrame` would be extremely inefficient and wasteful because most of the columns for any given row is most likely a $0$. Even if a review used $1\\text{,}000$ unique words, that would still mean that only about $10\\%%$ of our columns would have non-zero values."
      ]
    },
    {
      "cell_type": "markdown",
      "metadata": {},
      "source": [
        "### Using Sparse Matrices\n",
        "\n",
        "The `CountVectorizer` object has functions that give us information about the words it encountered.\n",
        "\n",
        "`get_feature_names_out()`: returns a list of the words seen in the dataset and encoded.\n",
        "\n",
        "`inverse_transform()`: can be used to turn a sequence of word counts back into actual words, but without the order information of the original sentence.\n",
        "\n",
        "And, we can index into our vector of reviews with `[]` to get a specific review. These are encoded as sparse matrices, so we have to do a bit of work to get to the actual words and their counts:\n",
        "\n",
        "- It helps to use the `nonzero()` function to get a list of the indices of words that are actually present in that review.\n",
        "\n",
        "- Once we have the indices, we can use them to access the review vector, and get the non-zero word counts from specific locations in the sparse matrix."
      ]
    },
    {
      "cell_type": "code",
      "execution_count": 13,
      "metadata": {},
      "outputs": [
        {
          "name": "stdout",
          "output_type": "stream",
          "text": [
            "10000\n"
          ]
        },
        {
          "data": {
            "text/plain": [
              "array(['00', '000', '10', ..., 'zoom', 'zorro', 'zu'],\n",
              "      shape=(10000,), dtype=object)"
            ]
          },
          "metadata": {},
          "output_type": "display_data"
        }
      ],
      "source": [
        "vocab = mCV.get_feature_names_out()\n",
        "\n",
        "print(len(vocab))\n",
        "display(vocab)"
      ]
    },
    {
      "cell_type": "markdown",
      "metadata": {},
      "source": [
        "Get indices of non-zero counts for words in the first review:"
      ]
    },
    {
      "cell_type": "code",
      "execution_count": 14,
      "metadata": {},
      "outputs": [
        {
          "data": {
            "text/plain": [
              "(array([0, 0, 0, 0, 0, 0, 0, 0, 0, 0, 0, 0, 0, 0, 0, 0, 0, 0, 0, 0, 0, 0,\n",
              "        0, 0, 0, 0, 0, 0, 0, 0, 0, 0, 0, 0, 0, 0, 0, 0, 0, 0, 0, 0, 0, 0,\n",
              "        0, 0, 0, 0, 0, 0, 0, 0, 0, 0, 0, 0, 0, 0, 0, 0, 0, 0, 0, 0, 0, 0,\n",
              "        0, 0, 0, 0, 0, 0, 0, 0, 0, 0, 0, 0, 0, 0, 0, 0, 0, 0, 0, 0, 0, 0,\n",
              "        0, 0, 0, 0, 0, 0, 0, 0, 0, 0], dtype=int32),\n",
              " array([ 286, 4104, 4397, 5933,  864, 5391, 5759,  464, 4424,  974, 6704,\n",
              "        3829, 7923, 9540, 5498, 9022, 9711, 9086,  552, 7227, 8720, 7221,\n",
              "        3097, 5860, 7219, 2810, 7801, 3969, 3337, 3230, 4142, 3123, 4943,\n",
              "        8719, 5657, 5123, 6723, 1586, 5897, 3705, 8509, 9427,  242, 3514,\n",
              "        5317, 6956, 1423, 3935, 6687, 8767, 5512, 8408, 2369, 7432, 7608,\n",
              "        5676, 1116, 7795, 6689, 6519, 9527, 9680, 5248, 4248, 6860, 4879,\n",
              "        4726, 4738, 7209, 9283, 3755, 9718, 1569, 4467, 2197, 6380, 9606,\n",
              "        5334, 8901, 8598, 4005, 8610, 1918,  938, 8348, 1846, 7621, 3411,\n",
              "        2361, 1618, 3441,  921, 8568, 3062, 9309, 2455, 1587,    2],\n",
              "       dtype=int32))"
            ]
          },
          "execution_count": 14,
          "metadata": {},
          "output_type": "execute_result"
        }
      ],
      "source": [
        "reviews_train_vct[0].nonzero()"
      ]
    },
    {
      "cell_type": "markdown",
      "metadata": {},
      "source": [
        "Get counts from those indices:"
      ]
    },
    {
      "cell_type": "code",
      "execution_count": 15,
      "metadata": {},
      "outputs": [
        {
          "data": {
            "text/plain": [
              "matrix([[1, 1, 1, 4, 1, 2, 1, 1, 1, 1, 1, 1, 1, 1, 1, 1, 1, 1, 1, 1, 2,\n",
              "         2, 1, 1, 1, 1, 1, 1, 1, 1, 1, 1, 1, 1, 1, 1, 1, 1, 1, 2, 1, 1,\n",
              "         1, 1, 1, 1, 1, 1, 1, 2, 1, 1, 1, 1, 2, 1, 1, 1, 1, 1, 2, 1, 2,\n",
              "         1, 1, 1, 1, 1, 1, 1, 1, 1, 1, 1, 1, 1, 1, 1, 1, 1, 1, 1, 1, 1,\n",
              "         1, 1, 1, 1, 1, 1, 1, 1, 1, 1, 1, 1, 1, 1]])"
            ]
          },
          "execution_count": 15,
          "metadata": {},
          "output_type": "execute_result"
        }
      ],
      "source": [
        "reviews_train_vct[reviews_train_vct[0].nonzero()]"
      ]
    },
    {
      "cell_type": "markdown",
      "metadata": {},
      "source": [
        "Get words in a review:"
      ]
    },
    {
      "cell_type": "code",
      "execution_count": 16,
      "metadata": {},
      "outputs": [
        {
          "data": {
            "text/plain": [
              "[array(['admit', 'half', 'hour', 'movie', 'basically', 'lost', 'mildly',\n",
              "        'amusing', 'humour', 'best', 'plot', 'general', 'sense', 'verge',\n",
              "        'making', 'think', 'wasting', 'time', 'apparent', 'reason',\n",
              "        'suddenly', 'realized', 'enjoying', 'moment', 'realization',\n",
              "        'dramatic', 'scene', 'grabbed', 'fact', 'exciting', 'happens',\n",
              "        'entire', 'just', 'sudden', 'meant', 'largely', 'pointless',\n",
              "        'charm', 'morgan', 'freeman', 'starred', 'unnamed', 'actor',\n",
              "        'finds', 'little', 'project', 'career', 'going', 'play',\n",
              "        'supermarket', 'manager', 'spends', 'day', 'research', 'role',\n",
              "        'meets', 'bonds', 'scarlet', 'played', 'paz', 'vega', 'wants',\n",
              "        'life', 'helps', 'prepare', 'job', 'interview', 'introduces',\n",
              "        'real', 'truly', 'funny', 'watching', 'character', 'identified',\n",
              "        'credits', 'overwhelmed', 'visit', 'local', 'target', 'store',\n",
              "        'great', 'strange', 'completely', 'believable', 'sort', 'combined',\n",
              "        'romantic', 'father', 'daughter', 'chemistry', 'feel', 'beginning',\n",
              "        'stick', 'end', 'turns', 'delightfully', 'charming', '10'],\n",
              "       dtype='<U17')]"
            ]
          },
          "execution_count": 16,
          "metadata": {},
          "output_type": "execute_result"
        }
      ],
      "source": [
        "mCV.inverse_transform(reviews_train_vct[0])"
      ]
    },
    {
      "cell_type": "markdown",
      "metadata": {},
      "source": [
        "Or, using the non-zero indices to index into the `vocab` list:"
      ]
    },
    {
      "cell_type": "code",
      "execution_count": 17,
      "metadata": {},
      "outputs": [
        {
          "data": {
            "text/plain": [
              "array(['admit', 'half', 'hour', 'movie', 'basically', 'lost', 'mildly',\n",
              "       'amusing', 'humour', 'best', 'plot', 'general', 'sense', 'verge',\n",
              "       'making', 'think', 'wasting', 'time', 'apparent', 'reason',\n",
              "       'suddenly', 'realized', 'enjoying', 'moment', 'realization',\n",
              "       'dramatic', 'scene', 'grabbed', 'fact', 'exciting', 'happens',\n",
              "       'entire', 'just', 'sudden', 'meant', 'largely', 'pointless',\n",
              "       'charm', 'morgan', 'freeman', 'starred', 'unnamed', 'actor',\n",
              "       'finds', 'little', 'project', 'career', 'going', 'play',\n",
              "       'supermarket', 'manager', 'spends', 'day', 'research', 'role',\n",
              "       'meets', 'bonds', 'scarlet', 'played', 'paz', 'vega', 'wants',\n",
              "       'life', 'helps', 'prepare', 'job', 'interview', 'introduces',\n",
              "       'real', 'truly', 'funny', 'watching', 'character', 'identified',\n",
              "       'credits', 'overwhelmed', 'visit', 'local', 'target', 'store',\n",
              "       'great', 'strange', 'completely', 'believable', 'sort', 'combined',\n",
              "       'romantic', 'father', 'daughter', 'chemistry', 'feel', 'beginning',\n",
              "       'stick', 'end', 'turns', 'delightfully', 'charming', '10'],\n",
              "      dtype=object)"
            ]
          },
          "execution_count": 17,
          "metadata": {},
          "output_type": "execute_result"
        }
      ],
      "source": [
        "vocab[reviews_train_vct[0].nonzero()[1]]"
      ]
    },
    {
      "cell_type": "markdown",
      "metadata": {},
      "source": [
        "We can use these functions to order the words of a review by frequency.\n",
        "\n",
        "The process is:\n",
        "\n",
        "- Get a `review` by indexing into our list of encoded reviews\n",
        "- Count the number of tokens/words in the review\n",
        "- Use [argsort()](https://numpy.org/doc/2.1/reference/generated/numpy.argsort.html) to get the order of indices that would sort the word counts\n",
        "  - Use negative counts to get the counts ordered from largest to smallest\n",
        "- Use the first `word_count` items of this array to index into our vocab and get the actual words of the review"
      ]
    },
    {
      "cell_type": "code",
      "execution_count": 18,
      "metadata": {},
      "outputs": [
        {
          "data": {
            "text/plain": [
              "array(['movie', 'vega', 'supermarket', 'suddenly', 'role', 'life', 'lost',\n",
              "       'realized', 'freeman', 'turns', 'truly', 'unnamed', 'target',\n",
              "       'verge', 'visit', 'time', 'strange', 'sudden', 'store', 'stick',\n",
              "       'sort', 'sense', 'starred', 'spends', 'scene', 'scarlet',\n",
              "       'research', 'romantic', 'realization', 'think', 'wants',\n",
              "       'watching', 'project', 'real', 'reason', 'plot', 'played', 'play',\n",
              "       'paz', 'prepare', 'overwhelmed', 'morgan', 'mildly', 'moment',\n",
              "       'meets', 'meant', 'manager', 'pointless', 'making', 'local',\n",
              "       'little', 'largely', 'just', 'job', 'introduces', 'interview',\n",
              "       'identified', 'humour', 'hour', 'helps', 'happens', 'half',\n",
              "       'great', 'wasting', 'grabbed', 'going', 'general', 'funny',\n",
              "       'finds', 'feel', 'father', 'fact', 'exciting', 'entire',\n",
              "       'enjoying', 'end', 'dramatic', 'delightfully', 'day', 'daughter',\n",
              "       'credits', 'completely', 'combined', 'chemistry', 'charm',\n",
              "       'charming', 'character', 'career', 'bonds', 'best', 'believable',\n",
              "       'beginning', 'basically', 'apparent', 'amusing', 'admit', 'actor',\n",
              "       '10'], dtype=object)"
            ]
          },
          "execution_count": 18,
          "metadata": {},
          "output_type": "execute_result"
        }
      ],
      "source": [
        "review = reviews_train_vct[0]\n",
        "\n",
        "word_count = len(review.nonzero()[0])\n",
        "\n",
        "sorted_idxs = (-review.toarray()[0]).argsort()\n",
        "\n",
        "vocab[sorted_idxs[:word_count]]"
      ]
    },
    {
      "cell_type": "markdown",
      "metadata": {},
      "source": [
        "This seems like a useful enough operation, that maybe it should be a function that we can use on any sparse matrix of frequency counts...\n",
        "\n",
        "The `get_top_words(cnt, vocab, n)` function in `text_utils` will return the top `n` words of `cnt`, a count vector or count matrix (list of vectors).\n",
        "\n",
        "Omitting `n` makes the function return all of the words present in the sequences, ordered by frequency.\n",
        "\n",
        "The returned value is a tuple of words and their counts."
      ]
    },
    {
      "cell_type": "code",
      "execution_count": 19,
      "metadata": {},
      "outputs": [
        {
          "data": {
            "text/plain": [
              "([array(['movie', 'vega', 'supermarket', 'suddenly', 'role', 'life', 'lost',\n",
              "         'realized', 'freeman', 'turns', 'truly', 'unnamed', 'target',\n",
              "         'verge', 'visit', 'time', 'strange', 'sudden', 'store', 'stick',\n",
              "         'sort', 'sense', 'starred', 'spends', 'scene', 'scarlet',\n",
              "         'research', 'romantic', 'realization', 'think', 'wants',\n",
              "         'watching', 'project', 'real', 'reason', 'plot', 'played', 'play',\n",
              "         'paz', 'prepare', 'overwhelmed', 'morgan', 'mildly', 'moment',\n",
              "         'meets', 'meant', 'manager', 'pointless', 'making', 'local',\n",
              "         'little', 'largely', 'just', 'job', 'introduces', 'interview',\n",
              "         'identified', 'humour', 'hour', 'helps', 'happens', 'half',\n",
              "         'great', 'wasting', 'grabbed', 'going', 'general', 'funny',\n",
              "         'finds', 'feel', 'father', 'fact', 'exciting', 'entire',\n",
              "         'enjoying', 'end', 'dramatic', 'delightfully', 'day', 'daughter',\n",
              "         'credits', 'completely', 'combined', 'chemistry', 'charm',\n",
              "         'charming', 'character', 'career', 'bonds', 'best', 'believable',\n",
              "         'beginning', 'basically', 'apparent', 'amusing', 'admit', 'actor',\n",
              "         '10'], dtype=object),\n",
              "  array(['film', 'worst', 'watch', 'way', 'vote', 'turd', 'time', 'wall',\n",
              "         'sticking', 'steaming', 'sit', 'seen', 'script', 'scene', 'scenes',\n",
              "         'strong', 'relevance', 'really', 'priest', 'poorly', 'point',\n",
              "         'period', 'partner', 'paid', 'overall', 'nailed', 'movie', 'medal',\n",
              "         'like', 'ledger', 'kick', 'running', 'incredibly', 'incoherent',\n",
              "         'hopefully', 'imdb', 'help', 'heath', 'got', 'ghost', 'entire',\n",
              "         'dull', 'don', 'dire', 'cast', 'answers', 'actually', 'acted',\n",
              "         '50', '10', '100'], dtype=object)],\n",
              " [array([4, 2, 2, 2, 2, 2, 2, 2, 2, 1, 1, 1, 1, 1, 1, 1, 1, 1, 1, 1, 1, 1,\n",
              "         1, 1, 1, 1, 1, 1, 1, 1, 1, 1, 1, 1, 1, 1, 1, 1, 1, 1, 1, 1, 1, 1,\n",
              "         1, 1, 1, 1, 1, 1, 1, 1, 1, 1, 1, 1, 1, 1, 1, 1, 1, 1, 1, 1, 1, 1,\n",
              "         1, 1, 1, 1, 1, 1, 1, 1, 1, 1, 1, 1, 1, 1, 1, 1, 1, 1, 1, 1, 1, 1,\n",
              "         1, 1, 1, 1, 1, 1, 1, 1, 1, 1]),\n",
              "  array([4, 1, 1, 1, 1, 1, 1, 1, 1, 1, 1, 1, 1, 1, 1, 1, 1, 1, 1, 1, 1, 1,\n",
              "         1, 1, 1, 1, 1, 1, 1, 1, 1, 1, 1, 1, 1, 1, 1, 1, 1, 1, 1, 1, 1, 1,\n",
              "         1, 1, 1, 1, 1, 1, 1])])"
            ]
          },
          "execution_count": 19,
          "metadata": {},
          "output_type": "execute_result"
        }
      ],
      "source": [
        "from text_utils import get_top_words\n",
        "\n",
        "get_top_words(reviews_train_vct[:2], vocab)"
      ]
    },
    {
      "cell_type": "markdown",
      "metadata": {},
      "source": [
        "### Classifying by Count\n",
        "\n",
        "Ok. After that little bit of a detour to explore vector count sparse matrices, we are back to our classification problem.\n",
        "\n",
        "Seems like we should be able to classify whether a review is positive or negative by looking at the words used...\n",
        "\n",
        "Let's train a `RandomForestClassifier` and validate with our test dataset."
      ]
    },
    {
      "cell_type": "code",
      "execution_count": 20,
      "metadata": {},
      "outputs": [
        {
          "data": {
            "text/plain": [
              "1.0"
            ]
          },
          "execution_count": 20,
          "metadata": {},
          "output_type": "execute_result"
        }
      ],
      "source": [
        "mClassifier = RandomForestClassifier()\n",
        "\n",
        "train_labels = reviews_train_df[\"sentiment\"]\n",
        "\n",
        "mClassifier.fit(reviews_train_vct, train_labels)\n",
        "\n",
        "train_preds = mClassifier.predict(reviews_train_vct)\n",
        "\n",
        "accuracy_score(train_labels, train_preds)"
      ]
    },
    {
      "cell_type": "markdown",
      "metadata": {},
      "source": [
        "Not bad. Promising."
      ]
    },
    {
      "cell_type": "code",
      "execution_count": 21,
      "metadata": {},
      "outputs": [
        {
          "data": {
            "text/plain": [
              "0.8458"
            ]
          },
          "execution_count": 21,
          "metadata": {},
          "output_type": "execute_result"
        }
      ],
      "source": [
        "test_labels = reviews_test_df[\"sentiment\"]\n",
        "\n",
        "test_preds = mClassifier.predict(reviews_test_vct)\n",
        "\n",
        "accuracy_score(test_labels, test_preds)"
      ]
    },
    {
      "cell_type": "markdown",
      "metadata": {},
      "source": [
        "Ok! This is not bad.\n",
        "\n",
        "After learning about count vectorization and sparse matrices, the code for doing this is actually quite simple.\n",
        "\n",
        "We could adjust parameters of the classifier or the vectorizer to improve this, but using a `RandomForestClassifier` for this task is quite inefficient.\n",
        "\n",
        "Let's look at a different kind of classifier before we continue exploring vectorization."
      ]
    },
    {
      "cell_type": "markdown",
      "metadata": {},
      "source": [
        "### Naive Bayes\n",
        "\n",
        "Bayesian statistics is a complete and complex field of math and philosophy. At a high level, it's a theory that allows for probabilities (of events, measurements, classifications, etc) to be updated based on the presence of (new) data.\n",
        "\n",
        "We are going to look at a very slim portion of Bayesian statistics to get a basic understanding of how this theory can be applied within Machine Learning algorithms.\n",
        "\n",
        "The Naive Bayes methods are a set of supervised learning algorithms based on a version of Bayes' theorem that assumes that all of our features are independent.\n",
        "\n",
        "As applied to a classification problem, this theorem has the following form:\n",
        "\n",
        "$$P\\left(y \\middle| x_1, x_2, \\ldots, x_n\\right) = \\frac{P\\left(y\\right)P\\left(x_1, x_2, \\ldots, x_n \\middle| y \\right)}{P\\left(x_1, x_2, \\ldots, x_n\\right)}$$\n",
        "\n",
        "This is an eyeful, but given that $y$ is the class associated with feature measurements $x_1, x_2, \\ldots, x_n$, it reads:\n",
        "\n",
        "The probability that a given set of measurements ($x_1, x_2, \\ldots, x_n$) represents an object of class $y$ is equal to the probability of seeing an object of class $y$ in our dataset, multiplied by the probability that an object of class $y$ has measurements $x_1, x_2, \\ldots, x_n$, divided by how common that particular set of measurements are.\n",
        "\n",
        "$P\\left(y\\right)$ is calculated by measuring how many items of our dataset represent an object of class $y$. If we have $10$ objects that are $y$ in a dataset of $50$ objects, our $P\\left(y\\right) = \\frac{10}{50}$.\n",
        "\n",
        "Likewise, $P\\left(x_1, x_2, \\ldots, x_n\\right)$ represents how many times this exact combination of measurements showed up in our dataset. If only one row out of $50$ has this combination of input features, then $P\\left(x_1, x_2, \\ldots, x_n\\right) = \\frac{1}{50}$.\n",
        "\n",
        "$P\\left(x_1, x_2, \\ldots, x_n \\middle| y \\right)$ is the trickier bit, but it gets simplified by the _naive_ assumption of feature independence and can be split into multiple terms:\n",
        "\n",
        "$P\\left(x_1 \\middle| y \\right) \\cdot P\\left(x_2 \\middle| y \\right) \\cdot\\ldots\\cdot P\\left(x_n \\middle| y \\right)$\n",
        "\n",
        "These are the probabilities that items of class $y$ have specific values for $x_1, x_2, \\ldots x_n$. For example, if in our dataset of $50$ elements, $10$ have class $y$, and $2$ out of those $10$ have a particular value $x_1$ for the first feature, $P\\left(x_1 \\middle| y \\right) = \\frac{2}{10}$."
      ]
    },
    {
      "cell_type": "markdown",
      "metadata": {},
      "source": [
        "#### Naive Bayes Text Example\n",
        "\n",
        "Let's pretend we want to calculate the probability that a review with the words `awful`, `bloody`, `guns` and `park` is **negative**.\n",
        "\n",
        "This is equivalent to calculating:\n",
        "$$P\\left(negative \\middle| \\text{awful}, \\text{bloody}, \\text{guns}, \\text{park} \\right) = \\frac{P\\left(negative\\right) P\\left(\\text{awful}, \\text{bloody}, \\text{guns}, \\text{park} \\middle| negative \\right)}{P\\left(\\text{awful}, \\text{bloody}, \\text{guns}, \\text{park}\\right)}$$\n",
        "\n",
        "$P\\left(\\text{negative}\\right)$ is equal to the proportion of **negative** reviews in the dataset. If half are positive and half are negative, $P\\left(\\text{negative}\\right) = 0.5$.\n",
        "\n",
        "$P\\left(\\text{awful}, \\text{bloody}, \\text{guns}, \\text{park}\\right)$ is the proportion of the number of reviews in the dataset that have all four words `awful`, `bloody`, `guns` and `park`.\n",
        "\n",
        "$P\\left(\\text{awful}, \\text{bloody}, \\text{guns}, \\text{park} \\middle| negative \\right)$ can be simplified to $P\\left(\\text{awful} \\middle| negative \\right) \\cdot P\\left(\\text{bloody} \\middle| negative \\right) \\cdot P\\left(\\text{guns} \\middle| negative \\right) \\cdot P\\left(\\text{park} \\middle| negative \\right)$\n",
        "\n",
        "$P\\left(\\text{awful} \\middle| negative \\right)$ is the proportion of negative reviews that have the word `awful`, $P\\left(\\text{bloody} \\middle| negative \\right)$ is the proportion of negative review with `bloody` in it, etc etc etc."
      ]
    },
    {
      "cell_type": "markdown",
      "metadata": {},
      "source": [
        "### Why ????\n",
        "\n",
        "It might not be obvious at first, but when used for classification of datasets with sparse feature vectors, the process described above can be extremely efficient because _fitting_ the model means calculating a few probability constants from our training dataset. All of the $P()$ terms on the right hand side of the Bayes equation are basic proportions calculated with addition and division operations.\n",
        "\n",
        "`Scikit-Learn` has different flavors of Naive Bayes classifiers that make further assumptions about the distributions of the input features and how $P\\left(X \\middle| y \\right)$ can be simplified.\n",
        "\n",
        "- [Gaussian](https://scikit-learn.org/stable/modules/generated/sklearn.naive_bayes.GaussianNB.html) Naive Bayes assumes the features have gaussian distributions. This is good for datasets with continuous-valued inputs.\n",
        "- [Bernoulli](https://scikit-learn.org/stable/modules/generated/sklearn.naive_bayes.BernoulliNB.html) Naive Bayes assumes the features are all binary values (One-Hot Encoding).\n",
        "- [Categorical](https://scikit-learn.org/stable/modules/generated/sklearn.naive_bayes.CategoricalNB.html) Naive Bayes assumes our features are integers that represent categories (Ordinal Encoding).\n",
        "- [Multinomial](https://scikit-learn.org/stable/modules/generated/sklearn.naive_bayes.MultinomialNB.html) Naive Bayes assumes our features are discrete measurements.\n",
        "\n",
        "Given that the feature vectors computed with `CountVectorizer` represent word counts, it makes sense for us to use a Multinomial classifier for this task."
      ]
    },
    {
      "cell_type": "code",
      "execution_count": 22,
      "metadata": {},
      "outputs": [
        {
          "data": {
            "text/plain": [
              "0.874"
            ]
          },
          "execution_count": 22,
          "metadata": {},
          "output_type": "execute_result"
        }
      ],
      "source": [
        "# TODO: repeat classification using the appropriate Bayes model\n",
        "mClassifier = MultinomialNB()\n",
        "mClassifier.fit(reviews_train_vct, train_labels)\n",
        "\n",
        "#train data\n",
        "train_preds = mClassifier.predict(reviews_train_vct)\n",
        "accuracy_score(train_labels, train_preds)"
      ]
    },
    {
      "cell_type": "code",
      "execution_count": 23,
      "metadata": {},
      "outputs": [
        {
          "data": {
            "text/plain": [
              "0.8486"
            ]
          },
          "execution_count": 23,
          "metadata": {},
          "output_type": "execute_result"
        }
      ],
      "source": [
        "# test data\n",
        "test_preds = mClassifier.predict(reviews_test_vct)\n",
        "accuracy_score(test_labels, test_preds)"
      ]
    },
    {
      "cell_type": "markdown",
      "metadata": {},
      "source": [
        "### N-Grams\n",
        "\n",
        "Now that we have an efficient classifier for sparse count feature vectors we can finally experiment with n-grams.\n",
        "\n",
        "In its simplest form, the Bag-of-Words method doesn't take into consideration any information about the order or location of the words in a sequence of words. We can, however, set it up to count pairs (or triplets, or quadruplets, etc) of words instead of single words.\n",
        "\n",
        "So, instead of breaking up \"_it was a good movie_\", like this:\n",
        "|it|was|a|good|movie|\n",
        "|-|-|-|-|-|\n",
        "\n",
        "It breaks it up like this:\n",
        "\n",
        "|it was|was a|a good|good movie|\n",
        "|-|-|-|-|\n",
        "\n",
        "These are the 2-grams (or bi-grams) of our sentence, but the concept can be extended to any integer value of $n$ to extract counts for different lengths of n-grams.\n",
        "\n",
        "While this doesn't help with location information, it does extract some information about word order and common phrases.\n",
        "\n",
        "To extract n-grams during vectorization, we can give `CountVectorizer` a range of values to consider with the parameter `ngram_range`. A value of $(2,2)$ will only extract bigrams, while $(1,2)$ will extract counts for single words and pairs of words."
      ]
    },
    {
      "cell_type": "code",
      "execution_count": 24,
      "metadata": {},
      "outputs": [],
      "source": [
        "mCV = CountVectorizer(stop_words=\"english\", min_df=5, max_df=0.75, max_features=50_000, ngram_range=(2, 2))\n",
        "\n",
        "reviews_train_vct = mCV.fit_transform(reviews_train_df[\"review\"])\n",
        "reviews_test_vct = mCV.transform(reviews_test_df[\"review\"])"
      ]
    },
    {
      "cell_type": "markdown",
      "metadata": {},
      "source": [
        "The `CountVectorizer` functions we saw above and our `get_top_words()` function will work the same way. The only difference is that right now our features represent counts for pairs of words."
      ]
    },
    {
      "cell_type": "code",
      "execution_count": 25,
      "metadata": {},
      "outputs": [
        {
          "name": "stdout",
          "output_type": "stream",
          "text": [
            "39056\n"
          ]
        },
        {
          "data": {
            "text/plain": [
              "array(['000 00', '000 000', '000 budget', ..., 'zone episode',\n",
              "       'zorro fighting', 'zu warriors'], shape=(39056,), dtype=object)"
            ]
          },
          "execution_count": 25,
          "metadata": {},
          "output_type": "execute_result"
        }
      ],
      "source": [
        "vocab = mCV.get_feature_names_out()\n",
        "print(len(vocab))\n",
        "vocab"
      ]
    },
    {
      "cell_type": "code",
      "execution_count": 26,
      "metadata": {},
      "outputs": [
        {
          "data": {
            "text/plain": [
              "[array(['half hour', 'hour movie', 'movie basically', 'mildly amusing',\n",
              "        'plot general', 'making think', 'wasting time', 'apparent reason',\n",
              "        'dramatic scene', 'exciting happens', 'entire movie', 'movie just',\n",
              "        'realized movie', 'movie meant', 'morgan freeman', 'career going',\n",
              "        'paz vega', 'job interview', 'real life', 'truly funny',\n",
              "        'funny watching', 'completely believable', 'father daughter',\n",
              "        'feel lost', 'end turns', 'charming movie', 'movie 10'],\n",
              "       dtype='<U29')]"
            ]
          },
          "execution_count": 26,
          "metadata": {},
          "output_type": "execute_result"
        }
      ],
      "source": [
        "mCV.inverse_transform(reviews_train_vct[0])"
      ]
    },
    {
      "cell_type": "code",
      "execution_count": 27,
      "metadata": {},
      "outputs": [
        {
          "data": {
            "text/plain": [
              "(['wasting time',\n",
              "  'truly funny',\n",
              "  'realized movie',\n",
              "  'real life',\n",
              "  'plot general',\n",
              "  'paz vega',\n",
              "  'movie meant',\n",
              "  'movie just',\n",
              "  'movie basically',\n",
              "  'movie 10',\n",
              "  'morgan freeman',\n",
              "  'mildly amusing',\n",
              "  'making think',\n",
              "  'job interview',\n",
              "  'hour movie',\n",
              "  'half hour',\n",
              "  'funny watching',\n",
              "  'feel lost',\n",
              "  'father daughter',\n",
              "  'exciting happens',\n",
              "  'entire movie',\n",
              "  'end turns',\n",
              "  'dramatic scene',\n",
              "  'completely believable',\n",
              "  'charming movie',\n",
              "  'career going',\n",
              "  'apparent reason'],\n",
              " [1,\n",
              "  1,\n",
              "  1,\n",
              "  1,\n",
              "  1,\n",
              "  1,\n",
              "  1,\n",
              "  1,\n",
              "  1,\n",
              "  1,\n",
              "  1,\n",
              "  1,\n",
              "  1,\n",
              "  1,\n",
              "  1,\n",
              "  1,\n",
              "  1,\n",
              "  1,\n",
              "  1,\n",
              "  1,\n",
              "  1,\n",
              "  1,\n",
              "  1,\n",
              "  1,\n",
              "  1,\n",
              "  1,\n",
              "  1])"
            ]
          },
          "execution_count": 27,
          "metadata": {},
          "output_type": "execute_result"
        }
      ],
      "source": [
        "get_top_words(reviews_train_vct[0], vocab)"
      ]
    },
    {
      "cell_type": "markdown",
      "metadata": {},
      "source": [
        "### Train and Validate\n",
        "\n",
        "Let's try it out !"
      ]
    },
    {
      "cell_type": "code",
      "execution_count": 28,
      "metadata": {},
      "outputs": [
        {
          "data": {
            "text/plain": [
              "0.93795"
            ]
          },
          "execution_count": 28,
          "metadata": {},
          "output_type": "execute_result"
        }
      ],
      "source": [
        "mClassifier = MultinomialNB()\n",
        "\n",
        "train_labels = reviews_train_df[\"sentiment\"]\n",
        "\n",
        "mClassifier.fit(reviews_train_vct, train_labels)\n",
        "\n",
        "train_preds = mClassifier.predict(reviews_train_vct)\n",
        "\n",
        "accuracy_score(train_labels, train_preds)"
      ]
    },
    {
      "cell_type": "code",
      "execution_count": 29,
      "metadata": {},
      "outputs": [
        {
          "data": {
            "text/plain": [
              "0.8438"
            ]
          },
          "execution_count": 29,
          "metadata": {},
          "output_type": "execute_result"
        }
      ],
      "source": [
        "test_labels = reviews_test_df[\"sentiment\"]\n",
        "\n",
        "test_preds = mClassifier.predict(reviews_test_vct)\n",
        "\n",
        "accuracy_score(test_labels, test_preds)"
      ]
    },
    {
      "cell_type": "markdown",
      "metadata": {},
      "source": [
        "### TF-IDF\n",
        "\n",
        "Another way to vectorize our reviews into a Bag-of-Words is to use a slightly smarter and more specific way of counting words in our reviews.\n",
        "\n",
        "Term Frequency-Inverse Document Frequency is a technique used to \"count\" words and scale the counts by how important a word might be to a document/review.\n",
        "\n",
        "It does this by calculating two values for each tokenized word in a review:\n",
        "- _**Term Frequency**_: the relative frequency of the word within a document/review.\n",
        "- _**Document Frequency**_: the relative frequency of the number of documents in the dataset that have this word. It measures how much information a word carries by calculating how rare it is. What gets used in the actual `tf-idf` calculation is the $log()$ of the inverse of this value.\n",
        "\n",
        "In math, this is:\n",
        "\n",
        "$$ tf(t, d) = \\frac{Count(t)}{| d |} \\hspace{20pt}\\hspace{20pt} idf(t, D) = log\\left(\\frac{| D |}{Count(d : t \\in d)}\\right)$$\n",
        "\n",
        "Where:\n",
        "- $Count(t)$ is the number of times a word appears in a document.\n",
        "- $| d |$ is the length of the document, in words.\n",
        "- $| D |$ is the total number of documents in the dataset.\n",
        "- $Count(d : t \\in d)$ is the number of documents in the dataset that have the word $t$ in them.\n",
        "\n",
        "Of course `cikit-Learn` has a builtin tf-idf Vectorizer that will do this for us. We instantiate it just like the `CountVectorizer`:"
      ]
    },
    {
      "cell_type": "code",
      "execution_count": 31,
      "metadata": {},
      "outputs": [],
      "source": [
        "mTfidV = TfidfVectorizer(stop_words=\"english\", min_df=5, max_df=0.75, max_features=50_000, ngram_range=(1, 1))\n",
        "\n",
        "reviews_train_vct = mTfidV.fit_transform(reviews_train_df[\"review\"])\n",
        "reviews_test_vct = mTfidV.transform(reviews_test_df[\"review\"])"
      ]
    },
    {
      "cell_type": "markdown",
      "metadata": {},
      "source": [
        "The `TfidfVectorizer` has all the functions we saw above in the `CountVectorizer` object, and our `get_top_words()` function will work the same way with our tf-idf vectors. The difference is that now our features are not plain integer counts of words or n-grams, but our tf-idf importance metric. The higher the metric, the more significant the word (or n-gram) within our vocabulary."
      ]
    },
    {
      "cell_type": "code",
      "execution_count": 96,
      "metadata": {},
      "outputs": [
        {
          "name": "stdout",
          "output_type": "stream",
          "text": [
            "50000\n"
          ]
        },
        {
          "data": {
            "text/plain": [
              "array(['00', '000', '000 00', ..., 'zucker', 'zulu', 'zuniga'],\n",
              "      shape=(50000,), dtype=object)"
            ]
          },
          "execution_count": 96,
          "metadata": {},
          "output_type": "execute_result"
        }
      ],
      "source": [
        "vocab = mTfidV.get_feature_names_out()\n",
        "print(len(vocab))\n",
        "vocab"
      ]
    },
    {
      "cell_type": "code",
      "execution_count": 97,
      "metadata": {},
      "outputs": [
        {
          "data": {
            "text/plain": [
              "[array(['admit', 'half', 'hour', 'movie', 'basically', 'lost', 'mildly',\n",
              "        'amusing', 'humour', 'best', 'plot', 'general', 'sense',\n",
              "        'pointlessness', 'verge', 'making', 'think', 'wasting', 'time',\n",
              "        'apparent', 'reason', 'suddenly', 'realized', 'enjoying',\n",
              "        'blinding', 'moment', 'realization', 'dramatic', 'scene',\n",
              "        'grabbed', 'fact', 'exciting', 'happens', 'entire', 'just',\n",
              "        'sudden', 'meant', 'largely', 'pointless', 'charm', 'morgan',\n",
              "        'freeman', 'starred', 'unnamed', 'actor', 'finds', 'little',\n",
              "        'project', 'career', 'going', 'play', 'supermarket', 'manager',\n",
              "        'spends', 'day', 'neighbourhood', 'research', 'role', 'meets',\n",
              "        'bonds', 'scarlet', 'played', 'paz', 'vega', 'cashier', 'wants',\n",
              "        'life', 'helps', 'prepare', 'job', 'interview', 'auditioning',\n",
              "        'introduces', 'real', 'truly', 'funny', 'watching', 'character',\n",
              "        'identified', 'credits', 'overwhelmed', 'visit', 'local', 'target',\n",
              "        'store', 'great', 'strange', 'completely', 'believable', 'sort',\n",
              "        'combined', 'romantic', 'father', 'daughter', 'chemistry', 'feel',\n",
              "        'beginning', 'stick', 'end', 'turns', 'delightfully', 'charming',\n",
              "        '10', 'half hour', 'hour movie', 'movie basically',\n",
              "        'mildly amusing', 'making think', 'wasting time',\n",
              "        'apparent reason', 'dramatic scene', 'exciting happens',\n",
              "        'entire movie', 'movie just', 'realized movie', 'movie meant',\n",
              "        'morgan freeman', 'paz vega', 'job interview', 'real life',\n",
              "        'truly funny', 'funny watching', 'completely believable',\n",
              "        'father daughter', 'feel lost', 'end turns', 'charming movie',\n",
              "        'movie 10', 'half hour movie'], dtype='<U35')]"
            ]
          },
          "execution_count": 97,
          "metadata": {},
          "output_type": "execute_result"
        }
      ],
      "source": [
        "mTfidV.inverse_transform(reviews_train_vct[0])"
      ]
    },
    {
      "cell_type": "code",
      "execution_count": 98,
      "metadata": {},
      "outputs": [
        {
          "data": {
            "text/plain": [
              "(['pointlessness',\n",
              "  'vega',\n",
              "  'supermarket',\n",
              "  'freeman',\n",
              "  'realized',\n",
              "  'suddenly',\n",
              "  'exciting happens',\n",
              "  'blinding',\n",
              "  'end turns',\n",
              "  'neighbourhood'],\n",
              " [0.23070862531566066,\n",
              "  0.21492302505356076,\n",
              "  0.20850963342394152,\n",
              "  0.18149196804575618,\n",
              "  0.14913131141939445,\n",
              "  0.13535732273706216,\n",
              "  0.12207072784439377,\n",
              "  0.12207072784439377,\n",
              "  0.12207072784439377,\n",
              "  0.12044134157359115])"
            ]
          },
          "execution_count": 98,
          "metadata": {},
          "output_type": "execute_result"
        }
      ],
      "source": [
        "get_top_words(reviews_train_vct[0], vocab, 10)"
      ]
    },
    {
      "cell_type": "markdown",
      "metadata": {},
      "source": [
        "### Classification with tf-idf\n",
        "\n",
        "This stays the same.\n",
        "\n",
        "While the multinomial classifier normally requires integer features, in practice, fractional counts such as the ones computed with a `TfidfVectorizer` also work.\n",
        "\n",
        "We could turn these into `int`s by multiplying them by $100$... but we don't have to. A `MultinomialNB` is still the best option because our td-idf values represent a kind of count. They aren't continuous, unbounded, `float` values, so it wouldn't make sense to use a Gaussian Bayes classifier, for example."
      ]
    },
    {
      "cell_type": "code",
      "execution_count": 99,
      "metadata": {},
      "outputs": [
        {
          "data": {
            "text/plain": [
              "0.9239"
            ]
          },
          "execution_count": 99,
          "metadata": {},
          "output_type": "execute_result"
        }
      ],
      "source": [
        "mClassifier = MultinomialNB()\n",
        "\n",
        "train_labels = reviews_train_df[\"sentiment\"]\n",
        "\n",
        "mClassifier.fit(reviews_train_vct, train_labels)\n",
        "\n",
        "train_preds = mClassifier.predict(reviews_train_vct)\n",
        "\n",
        "accuracy_score(train_labels, train_preds)"
      ]
    },
    {
      "cell_type": "code",
      "execution_count": 100,
      "metadata": {},
      "outputs": [
        {
          "data": {
            "text/plain": [
              "0.874"
            ]
          },
          "execution_count": 100,
          "metadata": {},
          "output_type": "execute_result"
        }
      ],
      "source": [
        "test_labels = reviews_test_df[\"sentiment\"]\n",
        "\n",
        "test_preds = mClassifier.predict(reviews_test_vct)\n",
        "\n",
        "accuracy_score(test_labels, test_preds)"
      ]
    },
    {
      "cell_type": "markdown",
      "metadata": {},
      "source": [
        "Not bad.\n",
        "\n",
        "How does the choice of n-gram range affect classification by tf-idf ?"
      ]
    },
    {
      "cell_type": "code",
      "execution_count": null,
      "metadata": {},
      "outputs": [],
      "source": [
        "# TODO: Evaluate the effect of n-grams in the TfidfVectorizer\n",
        "\n",
        "# > ngram range, > loading time, > accuracy"
      ]
    },
    {
      "cell_type": "markdown",
      "metadata": {},
      "source": [
        "## Unsupervised Learning\n",
        "\n",
        "Our movie reviews dataset is rich in information. It contains details and descriptions of movies, actors, directors, etc, along with other patterns and trends that weren't directly used while training our binary sentiment classifier. This is probably true of most natural language text datasets, and probably has to due with the nature of languages and how they evolved to have structure and carry dense amounts of information... Unlike a pixel, a single word by itself will mean something, even if ambiguously.\n",
        "\n",
        "What this means is, there are usually other patterns and trends, that are independent of outcome variables, that we can try to extract from datasets like this.\n",
        "\n",
        "How do we extract information when we don't have \"answers\" in our dataset ? Unsupervised Learning! And in this case we'll start by looking at Clustering."
      ]
    },
    {
      "cell_type": "markdown",
      "metadata": {},
      "source": [
        "### Clustering\n",
        "\n",
        "Just like we clustered numerical data and pixels by finding locations in our feature space to represent, or capture, sections of our dataset, we can imagine finding specific locations in our feature space to represent sub-sets of our reviews.\n",
        "\n",
        "When we clustered pixels, our original features were `R`, `G`, `B` channel values, and so our cluster centers could be considered a set of representative colors for our image.\n",
        "\n",
        "When we clustered wines, the cluster centers had the same $10$ features as our original dataset, and represented meaningful characteristics for the wines in each clusters.\n",
        "\n",
        "For reviews ... our dataset has $10\\text{,}000$ to $50\\text{,}000$ features after we vectorize our reviews. Even if most of these values are $0$, we still have a dataset with $50\\text{,}000$ features. If we cluster based on these features, the resulting cluster centers will have the same features and values with the same meaning as the original data.\n",
        "\n",
        "This means that instead of being representative colors or wine characteristics, our cluster centers will be sets of words that represent a subsection of out dataset.\n",
        "\n",
        "Let's take a look. We'll start by clustering our reviews into $8$ groups:"
      ]
    },
    {
      "cell_type": "code",
      "execution_count": 32,
      "metadata": {},
      "outputs": [],
      "source": [
        "reviews_df = pd.read_csv(\"./data/text/movie_reviews.csv\")"
      ]
    },
    {
      "cell_type": "code",
      "execution_count": null,
      "metadata": {},
      "outputs": [],
      "source": [
        "mVec = TfidfVectorizer(stop_words=\"english\", min_df=5, max_df=0.5, max_features=50_000, ngram_range=(2, 3))\n",
        "\n",
        "reviews_vct = mVec.fit_transform(reviews_df[\"review\"])"
      ]
    },
    {
      "cell_type": "code",
      "execution_count": 67,
      "metadata": {},
      "outputs": [
        {
          "name": "stdout",
          "output_type": "stream",
          "text": [
            "50000\n"
          ]
        }
      ],
      "source": [
        "vocab = mVec.get_feature_names_out()\n",
        "print(len(vocab))"
      ]
    },
    {
      "cell_type": "code",
      "execution_count": 68,
      "metadata": {},
      "outputs": [],
      "source": [
        "mClust = KMeans(n_clusters=8, random_state=800)\n",
        "reviews_km = mClust.fit_predict(reviews_vct)"
      ]
    },
    {
      "cell_type": "markdown",
      "metadata": {},
      "source": [
        "We can check our cluster centers:"
      ]
    },
    {
      "cell_type": "code",
      "execution_count": 69,
      "metadata": {},
      "outputs": [
        {
          "data": {
            "text/plain": [
              "array([[0.        , 0.        , 0.00039602, ..., 0.00019561, 0.00019561,\n",
              "        0.00040856],\n",
              "       [0.00064305, 0.00043253, 0.        , ..., 0.        , 0.        ,\n",
              "        0.        ],\n",
              "       [0.        , 0.        , 0.        , ..., 0.        , 0.        ,\n",
              "        0.        ],\n",
              "       ...,\n",
              "       [0.        , 0.00025883, 0.        , ..., 0.        , 0.        ,\n",
              "        0.        ],\n",
              "       [0.        , 0.        , 0.        , ..., 0.        , 0.        ,\n",
              "        0.        ],\n",
              "       [0.        , 0.00012353, 0.        , ..., 0.        , 0.        ,\n",
              "        0.        ]], shape=(8, 50000))"
            ]
          },
          "execution_count": 69,
          "metadata": {},
          "output_type": "execute_result"
        }
      ],
      "source": [
        "mClust.cluster_centers_"
      ]
    },
    {
      "cell_type": "markdown",
      "metadata": {},
      "source": [
        "# 🤔\n",
        "Maybe we can check the shape of these... "
      ]
    },
    {
      "cell_type": "code",
      "execution_count": 70,
      "metadata": {},
      "outputs": [
        {
          "data": {
            "text/plain": [
              "(8, 50000)"
            ]
          },
          "execution_count": 70,
          "metadata": {},
          "output_type": "execute_result"
        }
      ],
      "source": [
        "mClust.cluster_centers_.shape"
      ]
    },
    {
      "cell_type": "markdown",
      "metadata": {},
      "source": [
        "Ok. That makes sense. We have $8$ clusters with about $24\\text{,}000$ features each.\n",
        "\n",
        "We can think of these as the list of words that would've been in the $8$ most representative reviews of our dataset.\n",
        "\n",
        "We can \"unpack\" them using our `get_top_words()` function. The cluster centers are the reviews, the `TfidfVectorizer` object has our vocabulary and we can look at the top $8$ - $10$ words in each review:"
      ]
    },
    {
      "cell_type": "code",
      "execution_count": 71,
      "metadata": {},
      "outputs": [
        {
          "data": {
            "text/plain": [
              "[['don know',\n",
              "  've seen',\n",
              "  'movie don',\n",
              "  'movie don know',\n",
              "  'don think',\n",
              "  'just don',\n",
              "  'really don',\n",
              "  'really don know'],\n",
              " ['low budget',\n",
              "  'low budget movie',\n",
              "  'budget film',\n",
              "  'budget movie',\n",
              "  'low budget film',\n",
              "  'budget horror',\n",
              "  'low budget horror',\n",
              "  'special effects'],\n",
              " ['don waste',\n",
              "  'don waste time',\n",
              "  'waste time',\n",
              "  'waste time money',\n",
              "  'time money',\n",
              "  'waste time watching',\n",
              "  'time watching',\n",
              "  'don waste money'],\n",
              " ['special effects',\n",
              "  'looks like',\n",
              "  'look like',\n",
              "  'sci fi',\n",
              "  've seen',\n",
              "  'science fiction',\n",
              "  'really bad',\n",
              "  'bad acting'],\n",
              " ['ve seen',\n",
              "  'year old',\n",
              "  'new york',\n",
              "  'years ago',\n",
              "  'real life',\n",
              "  'movie just',\n",
              "  'don think',\n",
              "  'watch movie'],\n",
              " ['main characters',\n",
              "  'movie watch',\n",
              "  'watch movie',\n",
              "  've seen',\n",
              "  'great movie',\n",
              "  'good movie',\n",
              "  'great movie watch',\n",
              "  'really good'],\n",
              " ['watching movie',\n",
              "  'worth watching',\n",
              "  'end movie',\n",
              "  'movie worth watching',\n",
              "  'movie worth',\n",
              "  'film worth watching',\n",
              "  'movie movie',\n",
              "  'film worth'],\n",
              " ['good movie',\n",
              "  'waste time',\n",
              "  'complete waste',\n",
              "  'complete waste time',\n",
              "  'time money',\n",
              "  'waste time money',\n",
              "  'total waste time',\n",
              "  'total waste']]"
            ]
          },
          "execution_count": 71,
          "metadata": {},
          "output_type": "execute_result"
        }
      ],
      "source": [
        "get_top_words(mClust.cluster_centers_, vocab, 8)[0]"
      ]
    },
    {
      "cell_type": "markdown",
      "metadata": {},
      "source": [
        "### Interpretation\n",
        "\n",
        "There's something here.\n",
        "\n",
        "Some of the cluster center words seem to be indicative of the type of movies in those cluster, or even whether they are TV series.\n",
        "\n",
        "Can we improve the legibility of our clusters ?"
      ]
    },
    {
      "cell_type": "code",
      "execution_count": 39,
      "metadata": {},
      "outputs": [
        {
          "name": "stdout",
          "output_type": "stream",
          "text": [
            "26964\n"
          ]
        },
        {
          "data": {
            "text/plain": [
              "(8, 26964)"
            ]
          },
          "execution_count": 39,
          "metadata": {},
          "output_type": "execute_result"
        }
      ],
      "source": [
        "# TODO: Experiment with CountVectorizer, the TfidfVectorizer parameters and/or N-grams\n",
        "\n",
        "\n",
        "# ngram 1,1 - (8, 26964)\n",
        "# ngram 1,3 - (8, 50000)\n",
        "# ngram 2,3 - (8, 50000)"
      ]
    },
    {
      "cell_type": "markdown",
      "metadata": {},
      "source": [
        "### Decomposition\n",
        "\n",
        "We're clustering over $20\\text{,}000$ - $50\\text{,}000$ features of very sparse data. KMeans clustering and other algorithms might benefit from a reduction in the number of features that they have to consider.\n",
        "\n",
        "Last week we saw how to do something like this with `PCA`. `PCA` is the MVP of all decomposition algorithms, and we could use `PCA` here, but given our type of data, we should use something a little more specific.\n",
        "\n",
        "If we read the documentation for `PCA` it will mention something about how it _centers the data_ before calculating the decomposition, meaning that it shifts all of the input features so their average is $0$. This is fine for continuous features, and in most of those cases our data will already have been shifted and normalized using something like `StandardScaler` by the time it gets to `PCA`.\n",
        "\n",
        "But, it doesn't make sense to do that with our text features here due to the scale and sparseness of our data. First, it is very inefficient to go through the process of calculating averages and shifting these features. Second, even if we are using tf-idf values that aren't whole numbers, they don't really represent continuous values of a distribution; they're more like counters that use floating point values, so calculating these averages can introduce unwanted distortions to our data."
      ]
    },
    {
      "cell_type": "markdown",
      "metadata": {},
      "source": [
        "### Singular Value Decomposition\n",
        "\n",
        "We can use a more general form of the `PCA` algorithm called _Singular Value Decomposition_ that, like `PCA`, will decompose our dataset into smaller datasets of combined features ordered by importance, but unlike `PCA` it doesn't have to center our data before processing.\n",
        "\n",
        "The computation for doing `SVD` and `PCA` decomposition is the same, but due to the centering of the data, `PCA` can take some shortcuts.\n",
        "\n",
        "If we can think of `PCA` decomposition as something that refactors our dataset into two dense matrices like this, where the first one holds our new features and can be _abbreviated_ by selecting columns with the greatest amount of combined variance:\n",
        "\n",
        "<img src=\"./imgs/pca-01.jpg\" width=\"720px\" />\n",
        "\n",
        "Singular Value Decomposition does something like this:\n",
        "\n",
        "<img src=\"./imgs/svd-01.jpg\" width=\"720px\" />\n",
        "\n",
        "It refactors our data into $3$ matrices, where one of them only has elements on the diagonal. We get our transformed dataset by multiplying the first matrix by a _truncated_/_abbreviated_ version of this diagonal matrix.\n",
        "\n",
        "Same... but different.\n",
        "\n",
        "The details of the math aren't very crucial, since `Scikit-Learn` will handle all of the computations for us, we just have to remember that when decomposing sparse feature vectors or features that represent counts, it is better to use `SVD` instead of `PCA`."
      ]
    },
    {
      "cell_type": "markdown",
      "metadata": {},
      "source": [
        "### Latent Semantic Analysis\n",
        "\n",
        "Using `TruncatedSVD` on a feature vector of tf-idf values is so common that it has its own name, _Latent Semantic Analysis_, and like `PCA` or clustering, we can use it to uncover some hidden patterns in our data.\n",
        "\n",
        "We'll use it in a slightly different manner than how we used `PCA` to reduce our data before modeling.\n",
        "\n",
        "Like `PCA`, the components of our `TruncatedSVD` decomposition represent new axes for our transformed data, and are linear combinations of the original features in our dataset.\n",
        "\n",
        "Unlike the data we looked at with `PCA`, our feature space here has so many dimensions, that just looking at the top features that contribute to each of our components can give us an idea of the topics in our dataset.\n",
        "\n",
        "This isn't always possible with non-sparse datasets because when every row of a dataset has a value for every feature, and we have few features, a lot of the `PCA` components might end up having the same contributing features, but with different weights.\n",
        "\n",
        "For example, if we consider the diamond dataset, maybe the components from our `PCA` are all mostly made up of different combinations of `length`, `width` and `height`.\n",
        "\n",
        "With a dataset of sparse word count features, maybe our first component is mostly made up of a combination of the words `car` and `bottle`, the second component is mostly a combination of the words `flower` and `water`, etc..."
      ]
    },
    {
      "cell_type": "markdown",
      "metadata": {},
      "source": [
        "#### Reload Dataset\n",
        "\n",
        "Let's start afresh: let's reload our dataset and run `tf-idf` vectorization.\n",
        "\n",
        "Like with clustering, we won't worry about separating our dataset into train/test subsets since this is mostly exploratory data analysis and we're not so much interested in the predictive capabilities of our models right now."
      ]
    },
    {
      "cell_type": "code",
      "execution_count": 47,
      "metadata": {},
      "outputs": [],
      "source": [
        "reviews_df = pd.read_csv(\"./data/text/movie_reviews.csv\")"
      ]
    },
    {
      "cell_type": "code",
      "execution_count": 48,
      "metadata": {},
      "outputs": [],
      "source": [
        "mVec = TfidfVectorizer(stop_words=\"english\", min_df=5, max_df=0.9, max_features=50_000, ngram_range=(1, 2))\n",
        "\n",
        "reviews_vct = mVec.fit_transform(reviews_df[\"review\"])"
      ]
    },
    {
      "cell_type": "code",
      "execution_count": 49,
      "metadata": {},
      "outputs": [
        {
          "name": "stdout",
          "output_type": "stream",
          "text": [
            "50000\n"
          ]
        }
      ],
      "source": [
        "vocab = mVec.get_feature_names_out()\n",
        "print(len(vocab))"
      ]
    },
    {
      "cell_type": "markdown",
      "metadata": {},
      "source": [
        "#### Decompose\n",
        "\n",
        "We'll decompose our dataset into $10$ components.\n",
        "\n",
        "This means that we'll transform our original $25\\text{,}000 \\times 50\\text{,}000$ sparse tf-idf document matrix into a dense $25\\text{,}000 \\times 10$."
      ]
    },
    {
      "cell_type": "code",
      "execution_count": 50,
      "metadata": {},
      "outputs": [],
      "source": [
        "svd = TruncatedSVD(n_components=10, random_state=1010)\n",
        "reviews_svd = svd.fit_transform(reviews_vct)"
      ]
    },
    {
      "cell_type": "markdown",
      "metadata": {},
      "source": [
        "These are the first few rows of our transformed dataset. Like with `PCA`, the original meaning of our columns is gone and each of these $10$ columns is a linear combination of the original $50\\text{,}000$ features."
      ]
    },
    {
      "cell_type": "code",
      "execution_count": 51,
      "metadata": {},
      "outputs": [
        {
          "data": {
            "text/plain": [
              "array([[ 0.14799118,  0.0130868 ,  0.02139894, -0.04085307,  0.00829327,\n",
              "        -0.06758722,  0.018244  , -0.0096642 ,  0.00286645,  0.00422302],\n",
              "       [ 0.10883462, -0.01894415, -0.0158388 ,  0.0495169 ,  0.02284049,\n",
              "         0.00502068, -0.04114517, -0.02569973, -0.00408058, -0.00057093],\n",
              "       [ 0.10560815, -0.0441824 , -0.0177544 , -0.0138997 , -0.06387948,\n",
              "         0.03662942, -0.03435587, -0.00103323,  0.02271885, -0.01542301],\n",
              "       [ 0.11628391, -0.04564684,  0.02027474,  0.01818848,  0.01917333,\n",
              "        -0.01818767, -0.0025584 , -0.00594817, -0.00447358,  0.011977  ],\n",
              "       [ 0.1225766 , -0.02709449, -0.02635288, -0.01862161, -0.04801883,\n",
              "        -0.02032132, -0.01130515,  0.0129694 , -0.00535179, -0.0231041 ]])"
            ]
          },
          "execution_count": 51,
          "metadata": {},
          "output_type": "execute_result"
        }
      ],
      "source": [
        "reviews_svd[:5]"
      ]
    },
    {
      "cell_type": "markdown",
      "metadata": {},
      "source": [
        "### Topic Extraction\n",
        "\n",
        "Unlike `PCA`, the $\\text{top-}8$ features in each of these components should give us an idea of the kinds of documents/records we have in our dataset."
      ]
    },
    {
      "cell_type": "code",
      "execution_count": 52,
      "metadata": {},
      "outputs": [
        {
          "data": {
            "text/plain": [
              "[['movie', 'film', 'like', 'just', 'good', 'really', 'story'],\n",
              " ['movie', 'movies', 'bad', 'watch', 'don', 'worst', 'watch movie'],\n",
              " ['film', 'bad', 'worst', 'horror', 'acting', 'films', 'waste'],\n",
              " ['movie', 'film', 'great', 'story', 'book', 'love', 'excellent'],\n",
              " ['series', 'great', 'film', 'think', 'watch', 'seen', 've'],\n",
              " ['good', 'series', 'great', 'action', 'acting', 'best', 'cast'],\n",
              " ['good', 'funny', 'really', 'comedy', 'great', 'just', 'love'],\n",
              " ['seen', 've', 've seen', 'funny', 'worst', 'comedy', 'best'],\n",
              " ['horror', 'films', 'gore', 'like', 'budget', 'really', 'horror movie'],\n",
              " ['story', 've', 've seen', 'seen', 'characters', 'character', 'book']]"
            ]
          },
          "execution_count": 52,
          "metadata": {},
          "output_type": "execute_result"
        }
      ],
      "source": [
        "get_top_words(svd.components_, vocab, 7)[0]"
      ]
    },
    {
      "cell_type": "markdown",
      "metadata": {},
      "source": [
        "### Interpretation\n",
        "\n",
        "Just like with clustering above, further refinement of the dataset would be needed in order to get very separated and unique topics, but the lists above do show trends in the content of the reviews. We can see certain movie genres and even some indication of the sentiment of the reviews.\n",
        "\n",
        "A possible next step would further filter out the list of allowed words in our initial tokenization and remove certain common words like `movie`, `movies`, `film`, `good`, `bad`, `like`, etc."
      ]
    },
    {
      "cell_type": "markdown",
      "metadata": {},
      "source": [
        "## Classification for other dataset.\n",
        "\n",
        "Now that we know all of the tricks of working with text data, let's look at more significant text classification problems.\n",
        "\n",
        "The datasets [HERE](https://github.com/PSAM-5020-2025S-A/5020-utils/tree/refs/heads/main/datasets/text/amazon_reviews) have review information for different categories of amazon products.\n",
        "\n",
        "Books is the largest of the datasets, so we can start with that one.\n",
        "\n",
        "The dataset not only has the text of each review, and some irrelevant information about the reviewer, but also includes a numerical rating of the product. These ratings are whole numbers between $1$ and $5$, which means we're looking at a multi-class classification problem."
      ]
    },
    {
      "cell_type": "markdown",
      "metadata": {},
      "source": [
        "### Let's Load\n",
        "\n",
        "Let's download, load and take a look at our data."
      ]
    },
    {
      "cell_type": "code",
      "execution_count": 72,
      "metadata": {},
      "outputs": [
        {
          "name": "stdout",
          "output_type": "stream",
          "text": [
            "tar: Ignoring unknown extended header keyword 'LIBARCHIVE.xattr.com.apple.macl'\n"
          ]
        }
      ],
      "source": [
        "!wget -qO- https://github.com/PSAM-5020-2025S-A/5020-utils/raw/refs/heads/main/datasets/text/amazon_reviews/books.tar.gz | tar xz"
      ]
    },
    {
      "cell_type": "code",
      "execution_count": 73,
      "metadata": {},
      "outputs": [
        {
          "data": {
            "text/html": [
              "<div>\n",
              "<style scoped>\n",
              "    .dataframe tbody tr th:only-of-type {\n",
              "        vertical-align: middle;\n",
              "    }\n",
              "\n",
              "    .dataframe tbody tr th {\n",
              "        vertical-align: top;\n",
              "    }\n",
              "\n",
              "    .dataframe thead th {\n",
              "        text-align: right;\n",
              "    }\n",
              "</style>\n",
              "<table border=\"1\" class=\"dataframe\">\n",
              "  <thead>\n",
              "    <tr style=\"text-align: right;\">\n",
              "      <th></th>\n",
              "      <th>asin</th>\n",
              "      <th>date</th>\n",
              "      <th>product_name</th>\n",
              "      <th>rating</th>\n",
              "      <th>review_text</th>\n",
              "      <th>reviewer</th>\n",
              "      <th>title</th>\n",
              "    </tr>\n",
              "  </thead>\n",
              "  <tbody>\n",
              "    <tr>\n",
              "      <th>0</th>\n",
              "      <td>1884956068</td>\n",
              "      <td>April 6, 2000</td>\n",
              "      <td>Manual pediï¿½trico para los dueï¿½os del nuev...</td>\n",
              "      <td>5.0</td>\n",
              "      <td>This all-Spanish handbook for parents with new...</td>\n",
              "      <td>Midwest Book Review</td>\n",
              "      <td>A mainstay reference for Spanish-speaking home...</td>\n",
              "    </tr>\n",
              "    <tr>\n",
              "      <th>1</th>\n",
              "      <td>0679728740</td>\n",
              "      <td>October 20, 2006</td>\n",
              "      <td>Child of God: Books: Cormac Mccarthy</td>\n",
              "      <td>5.0</td>\n",
              "      <td>McCarthy's writing and portrayal of Lester Bal...</td>\n",
              "      <td>Brian Asquith</td>\n",
              "      <td>You want the necrophiliac to escape?</td>\n",
              "    </tr>\n",
              "    <tr>\n",
              "      <th>2</th>\n",
              "      <td>0679728740</td>\n",
              "      <td>September 26, 2006</td>\n",
              "      <td>Child of God: Books: Cormac Mccarthy</td>\n",
              "      <td>2.0</td>\n",
              "      <td>Do you giggle uncontrollably when poking corps...</td>\n",
              "      <td>Bruce Miller</td>\n",
              "      <td>Low brow and juvenile</td>\n",
              "    </tr>\n",
              "    <tr>\n",
              "      <th>3</th>\n",
              "      <td>0679728740</td>\n",
              "      <td>July 24, 2005</td>\n",
              "      <td>Child of God: Books: Cormac Mccarthy</td>\n",
              "      <td>5.0</td>\n",
              "      <td>I was initiated into the world of Cormac McCar...</td>\n",
              "      <td>Christopher Davis \"Christopher E.D.\"</td>\n",
              "      <td>McCarthy, a brave writer with an incredible co...</td>\n",
              "    </tr>\n",
              "    <tr>\n",
              "      <th>4</th>\n",
              "      <td>0679728740</td>\n",
              "      <td>November 20, 2002</td>\n",
              "      <td>Child of God: Books: Cormac Mccarthy</td>\n",
              "      <td>4.0</td>\n",
              "      <td>I cannot speak to the literary points in the n...</td>\n",
              "      <td>Alex Johnson</td>\n",
              "      <td>SEVIERVILLE in Child of God</td>\n",
              "    </tr>\n",
              "    <tr>\n",
              "      <th>...</th>\n",
              "      <td>...</td>\n",
              "      <td>...</td>\n",
              "      <td>...</td>\n",
              "      <td>...</td>\n",
              "      <td>...</td>\n",
              "      <td>...</td>\n",
              "      <td>...</td>\n",
              "    </tr>\n",
              "    <tr>\n",
              "      <th>219995</th>\n",
              "      <td>0374158940</td>\n",
              "      <td>November 6, 2006</td>\n",
              "      <td>From Beirut to Jerusalem: Books: Thomas L Frie...</td>\n",
              "      <td>4.0</td>\n",
              "      <td>Consent &amp; deny. Filling in the gaps with retro...</td>\n",
              "      <td>tom c</td>\n",
              "      <td>Tommy 2-pews</td>\n",
              "    </tr>\n",
              "    <tr>\n",
              "      <th>219996</th>\n",
              "      <td>0374158940</td>\n",
              "      <td>November 5, 2006</td>\n",
              "      <td>From Beirut to Jerusalem: Books: Thomas L Frie...</td>\n",
              "      <td>4.0</td>\n",
              "      <td>Having spent the last year in the Near East, I...</td>\n",
              "      <td>Aaron Mang</td>\n",
              "      <td>From Beirut to Jerusalem</td>\n",
              "    </tr>\n",
              "    <tr>\n",
              "      <th>219997</th>\n",
              "      <td>0374158940</td>\n",
              "      <td>November 3, 2006</td>\n",
              "      <td>From Beirut to Jerusalem: Books: Thomas L Frie...</td>\n",
              "      <td>5.0</td>\n",
              "      <td>This story tells a well articulated synopsis a...</td>\n",
              "      <td>Michael Rehmeyer \"exmeromotu\"</td>\n",
              "      <td>Lebanon Synopsis</td>\n",
              "    </tr>\n",
              "    <tr>\n",
              "      <th>219998</th>\n",
              "      <td>0374158940</td>\n",
              "      <td>October 31, 2006</td>\n",
              "      <td>From Beirut to Jerusalem: Books: Thomas L Frie...</td>\n",
              "      <td>5.0</td>\n",
              "      <td>For century's it has been back and forth and b...</td>\n",
              "      <td>D. L. George \"Red Wine Quaffer\"</td>\n",
              "      <td>will we never grow up?</td>\n",
              "    </tr>\n",
              "    <tr>\n",
              "      <th>219999</th>\n",
              "      <td>0374158940</td>\n",
              "      <td>October 29, 2006</td>\n",
              "      <td>From Beirut to Jerusalem: Books: Thomas L Frie...</td>\n",
              "      <td>5.0</td>\n",
              "      <td>Neither Jew nor Arab will like this book. Is i...</td>\n",
              "      <td>Robert A. Mauro \"Writer &amp; Artist\"</td>\n",
              "      <td>GREAT BOOK</td>\n",
              "    </tr>\n",
              "  </tbody>\n",
              "</table>\n",
              "<p>220000 rows × 7 columns</p>\n",
              "</div>"
            ],
            "text/plain": [
              "              asin                date  \\\n",
              "0       1884956068       April 6, 2000   \n",
              "1       0679728740    October 20, 2006   \n",
              "2       0679728740  September 26, 2006   \n",
              "3       0679728740       July 24, 2005   \n",
              "4       0679728740   November 20, 2002   \n",
              "...            ...                 ...   \n",
              "219995  0374158940    November 6, 2006   \n",
              "219996  0374158940    November 5, 2006   \n",
              "219997  0374158940    November 3, 2006   \n",
              "219998  0374158940    October 31, 2006   \n",
              "219999  0374158940    October 29, 2006   \n",
              "\n",
              "                                             product_name  rating  \\\n",
              "0       Manual pediï¿½trico para los dueï¿½os del nuev...     5.0   \n",
              "1                    Child of God: Books: Cormac Mccarthy     5.0   \n",
              "2                    Child of God: Books: Cormac Mccarthy     2.0   \n",
              "3                    Child of God: Books: Cormac Mccarthy     5.0   \n",
              "4                    Child of God: Books: Cormac Mccarthy     4.0   \n",
              "...                                                   ...     ...   \n",
              "219995  From Beirut to Jerusalem: Books: Thomas L Frie...     4.0   \n",
              "219996  From Beirut to Jerusalem: Books: Thomas L Frie...     4.0   \n",
              "219997  From Beirut to Jerusalem: Books: Thomas L Frie...     5.0   \n",
              "219998  From Beirut to Jerusalem: Books: Thomas L Frie...     5.0   \n",
              "219999  From Beirut to Jerusalem: Books: Thomas L Frie...     5.0   \n",
              "\n",
              "                                              review_text  \\\n",
              "0       This all-Spanish handbook for parents with new...   \n",
              "1       McCarthy's writing and portrayal of Lester Bal...   \n",
              "2       Do you giggle uncontrollably when poking corps...   \n",
              "3       I was initiated into the world of Cormac McCar...   \n",
              "4       I cannot speak to the literary points in the n...   \n",
              "...                                                   ...   \n",
              "219995  Consent & deny. Filling in the gaps with retro...   \n",
              "219996  Having spent the last year in the Near East, I...   \n",
              "219997  This story tells a well articulated synopsis a...   \n",
              "219998  For century's it has been back and forth and b...   \n",
              "219999  Neither Jew nor Arab will like this book. Is i...   \n",
              "\n",
              "                                    reviewer  \\\n",
              "0                        Midwest Book Review   \n",
              "1                              Brian Asquith   \n",
              "2                               Bruce Miller   \n",
              "3       Christopher Davis \"Christopher E.D.\"   \n",
              "4                               Alex Johnson   \n",
              "...                                      ...   \n",
              "219995                                 tom c   \n",
              "219996                            Aaron Mang   \n",
              "219997         Michael Rehmeyer \"exmeromotu\"   \n",
              "219998       D. L. George \"Red Wine Quaffer\"   \n",
              "219999     Robert A. Mauro \"Writer & Artist\"   \n",
              "\n",
              "                                                    title  \n",
              "0       A mainstay reference for Spanish-speaking home...  \n",
              "1                    You want the necrophiliac to escape?  \n",
              "2                                   Low brow and juvenile  \n",
              "3       McCarthy, a brave writer with an incredible co...  \n",
              "4                             SEVIERVILLE in Child of God  \n",
              "...                                                   ...  \n",
              "219995                                       Tommy 2-pews  \n",
              "219996                           From Beirut to Jerusalem  \n",
              "219997                                   Lebanon Synopsis  \n",
              "219998                             will we never grow up?  \n",
              "219999                                         GREAT BOOK  \n",
              "\n",
              "[220000 rows x 7 columns]"
            ]
          },
          "execution_count": 73,
          "metadata": {},
          "output_type": "execute_result"
        }
      ],
      "source": [
        "reviews_full_df = pd.read_csv(\"./data/text/amazon_reviews/books.csv\")\n",
        "reviews_full_df"
      ]
    },
    {
      "cell_type": "markdown",
      "metadata": {},
      "source": [
        "This is a pretty big dataset with $220\\text{,}000$ rows of book reviews.\n",
        "\n",
        "Let's take a closer look at our output label, the `rating` column, to see how its values are distributed."
      ]
    },
    {
      "cell_type": "code",
      "execution_count": 74,
      "metadata": {},
      "outputs": [
        {
          "data": {
            "text/plain": [
              "rating\n",
              "5.0    138154\n",
              "4.0     50689\n",
              "1.0     17014\n",
              "2.0     14143\n",
              "Name: count, dtype: int64"
            ]
          },
          "execution_count": 74,
          "metadata": {},
          "output_type": "execute_result"
        }
      ],
      "source": [
        "reviews_full_df[\"rating\"].value_counts()"
      ]
    },
    {
      "cell_type": "markdown",
      "metadata": {},
      "source": [
        "# 🫤\n",
        "\n",
        "That's pretty uneven. A model could just guess $5$ all the time and be correct $60\\%$ of the time.\n",
        "\n",
        "When training a classifier we want to keep the values of our output label balanced in order to avoid any kind of artificial biasing of the model during training.\n",
        "\n",
        "Let's re-balance the dataset. We'll do this by storing the number of reviews that have the least common rating and then getting an equal number of random ratings for each of the other possible rating values.\n",
        "\n",
        "We have the ability of grouping our `DataFrame` rows by one of the columns and then sampling an equal number of reviews from each of these groups. The code for doing this is concise, but not very intuitive, requiring some extraneous parameters and function calls:"
      ]
    },
    {
      "cell_type": "code",
      "execution_count": 75,
      "metadata": {},
      "outputs": [
        {
          "data": {
            "text/html": [
              "<div>\n",
              "<style scoped>\n",
              "    .dataframe tbody tr th:only-of-type {\n",
              "        vertical-align: middle;\n",
              "    }\n",
              "\n",
              "    .dataframe tbody tr th {\n",
              "        vertical-align: top;\n",
              "    }\n",
              "\n",
              "    .dataframe thead th {\n",
              "        text-align: right;\n",
              "    }\n",
              "</style>\n",
              "<table border=\"1\" class=\"dataframe\">\n",
              "  <thead>\n",
              "    <tr style=\"text-align: right;\">\n",
              "      <th></th>\n",
              "      <th>asin</th>\n",
              "      <th>date</th>\n",
              "      <th>product_name</th>\n",
              "      <th>rating</th>\n",
              "      <th>review_text</th>\n",
              "      <th>reviewer</th>\n",
              "      <th>title</th>\n",
              "    </tr>\n",
              "  </thead>\n",
              "  <tbody>\n",
              "    <tr>\n",
              "      <th>0</th>\n",
              "      <td>088266266X</td>\n",
              "      <td>August 27, 2004</td>\n",
              "      <td>Be Your Own House Contractor: Save 25% Without...</td>\n",
              "      <td>1.0</td>\n",
              "      <td>I read the book since I am building a house so...</td>\n",
              "      <td>Bonie K. Kane \"K Kane\"</td>\n",
              "      <td>Boring reading with no information, WASTE OF TIME</td>\n",
              "    </tr>\n",
              "    <tr>\n",
              "      <th>1</th>\n",
              "      <td>0385420161</td>\n",
              "      <td>October 29, 2006</td>\n",
              "      <td>Like Water for Chocolate: Books: Laura Esquivel</td>\n",
              "      <td>1.0</td>\n",
              "      <td>This book was recommended to me by so many peo...</td>\n",
              "      <td>C. L. F. Kuehn \"Lit Girl\"</td>\n",
              "      <td>like wasting my time for nothing</td>\n",
              "    </tr>\n",
              "    <tr>\n",
              "      <th>2</th>\n",
              "      <td>0787982571</td>\n",
              "      <td>September 21, 2005</td>\n",
              "      <td>The Reading Teacher's Book Of Lists, 5th Editi...</td>\n",
              "      <td>1.0</td>\n",
              "      <td>THe Book is great, but the seller took forever...</td>\n",
              "      <td>Stefanie Sorensen \"soren\"</td>\n",
              "      <td>Reading Teachers Book od List</td>\n",
              "    </tr>\n",
              "    <tr>\n",
              "      <th>3</th>\n",
              "      <td>047146502X</td>\n",
              "      <td>May 31, 2006</td>\n",
              "      <td>The Case for Israel: Books: Alan Dershowitz</td>\n",
              "      <td>1.0</td>\n",
              "      <td>The concept that Israel needs a defence for it...</td>\n",
              "      <td>Gil Rosenberg \"Truth in print\"</td>\n",
              "      <td>NO NEED FOR \"A CASE FOR ISRAEL\" AT ALL</td>\n",
              "    </tr>\n",
              "    <tr>\n",
              "      <th>4</th>\n",
              "      <td>055357292X</td>\n",
              "      <td>October 13, 2003</td>\n",
              "      <td>Heavy Weather: Books: Bruce Sterling</td>\n",
              "      <td>1.0</td>\n",
              "      <td>Like others, I bought this book because of rec...</td>\n",
              "      <td>Julie Fugett \"Geek Girl\"</td>\n",
              "      <td>Has Bruce Sterling actually TALKED to any comp...</td>\n",
              "    </tr>\n",
              "    <tr>\n",
              "      <th>...</th>\n",
              "      <td>...</td>\n",
              "      <td>...</td>\n",
              "      <td>...</td>\n",
              "      <td>...</td>\n",
              "      <td>...</td>\n",
              "      <td>...</td>\n",
              "      <td>...</td>\n",
              "    </tr>\n",
              "    <tr>\n",
              "      <th>56567</th>\n",
              "      <td>0375726403</td>\n",
              "      <td>November 17, 2006</td>\n",
              "      <td>Empire Falls: Books: Richard Russo</td>\n",
              "      <td>5.0</td>\n",
              "      <td>This novel is truly great. It is written with ...</td>\n",
              "      <td>Krasimir Karamfilov</td>\n",
              "      <td>Just Great</td>\n",
              "    </tr>\n",
              "    <tr>\n",
              "      <th>56568</th>\n",
              "      <td>0451208188</td>\n",
              "      <td>June 11, 2006</td>\n",
              "      <td>The English Assassin: Books: Daniel Silva</td>\n",
              "      <td>5.0</td>\n",
              "      <td>Everytime I need to get lost in a book, I turn...</td>\n",
              "      <td>Karen Spencer</td>\n",
              "      <td>Silva takes us on anther ride</td>\n",
              "    </tr>\n",
              "    <tr>\n",
              "      <th>56569</th>\n",
              "      <td>0761924426</td>\n",
              "      <td>November 24, 2005</td>\n",
              "      <td>Research Design: Qualitative, Quantitative, an...</td>\n",
              "      <td>5.0</td>\n",
              "      <td>I've thoroughly enjoyed (and learned from!) th...</td>\n",
              "      <td>I Crave Privacy</td>\n",
              "      <td>Excellent source for graduate students</td>\n",
              "    </tr>\n",
              "    <tr>\n",
              "      <th>56570</th>\n",
              "      <td>0312317255</td>\n",
              "      <td>August 18, 2004</td>\n",
              "      <td>A Pound of Paper: Confessions of a Book Addict...</td>\n",
              "      <td>5.0</td>\n",
              "      <td>I am a book collector and I enjoy my passion v...</td>\n",
              "      <td>Timothy Haugh</td>\n",
              "      <td>Memoir and Peek at the World of Book Collecting</td>\n",
              "    </tr>\n",
              "    <tr>\n",
              "      <th>56571</th>\n",
              "      <td>1585676012</td>\n",
              "      <td>April 25, 2006</td>\n",
              "      <td>The Stories of English: Books: David Crystal</td>\n",
              "      <td>5.0</td>\n",
              "      <td>David Crystal makes an ambitious attempt to pr...</td>\n",
              "      <td>A. J. CORNISH-BOWDEN</td>\n",
              "      <td>From Anglo-Saxon to modern English</td>\n",
              "    </tr>\n",
              "  </tbody>\n",
              "</table>\n",
              "<p>56572 rows × 7 columns</p>\n",
              "</div>"
            ],
            "text/plain": [
              "             asin                date  \\\n",
              "0      088266266X     August 27, 2004   \n",
              "1      0385420161    October 29, 2006   \n",
              "2      0787982571  September 21, 2005   \n",
              "3      047146502X        May 31, 2006   \n",
              "4      055357292X    October 13, 2003   \n",
              "...           ...                 ...   \n",
              "56567  0375726403   November 17, 2006   \n",
              "56568  0451208188       June 11, 2006   \n",
              "56569  0761924426   November 24, 2005   \n",
              "56570  0312317255     August 18, 2004   \n",
              "56571  1585676012      April 25, 2006   \n",
              "\n",
              "                                            product_name  rating  \\\n",
              "0      Be Your Own House Contractor: Save 25% Without...     1.0   \n",
              "1        Like Water for Chocolate: Books: Laura Esquivel     1.0   \n",
              "2      The Reading Teacher's Book Of Lists, 5th Editi...     1.0   \n",
              "3            The Case for Israel: Books: Alan Dershowitz     1.0   \n",
              "4                   Heavy Weather: Books: Bruce Sterling     1.0   \n",
              "...                                                  ...     ...   \n",
              "56567                 Empire Falls: Books: Richard Russo     5.0   \n",
              "56568          The English Assassin: Books: Daniel Silva     5.0   \n",
              "56569  Research Design: Qualitative, Quantitative, an...     5.0   \n",
              "56570  A Pound of Paper: Confessions of a Book Addict...     5.0   \n",
              "56571       The Stories of English: Books: David Crystal     5.0   \n",
              "\n",
              "                                             review_text  \\\n",
              "0      I read the book since I am building a house so...   \n",
              "1      This book was recommended to me by so many peo...   \n",
              "2      THe Book is great, but the seller took forever...   \n",
              "3      The concept that Israel needs a defence for it...   \n",
              "4      Like others, I bought this book because of rec...   \n",
              "...                                                  ...   \n",
              "56567  This novel is truly great. It is written with ...   \n",
              "56568  Everytime I need to get lost in a book, I turn...   \n",
              "56569  I've thoroughly enjoyed (and learned from!) th...   \n",
              "56570  I am a book collector and I enjoy my passion v...   \n",
              "56571  David Crystal makes an ambitious attempt to pr...   \n",
              "\n",
              "                             reviewer  \\\n",
              "0              Bonie K. Kane \"K Kane\"   \n",
              "1           C. L. F. Kuehn \"Lit Girl\"   \n",
              "2           Stefanie Sorensen \"soren\"   \n",
              "3      Gil Rosenberg \"Truth in print\"   \n",
              "4            Julie Fugett \"Geek Girl\"   \n",
              "...                               ...   \n",
              "56567             Krasimir Karamfilov   \n",
              "56568                   Karen Spencer   \n",
              "56569                 I Crave Privacy   \n",
              "56570                   Timothy Haugh   \n",
              "56571            A. J. CORNISH-BOWDEN   \n",
              "\n",
              "                                                   title  \n",
              "0      Boring reading with no information, WASTE OF TIME  \n",
              "1                       like wasting my time for nothing  \n",
              "2                          Reading Teachers Book od List  \n",
              "3                 NO NEED FOR \"A CASE FOR ISRAEL\" AT ALL  \n",
              "4      Has Bruce Sterling actually TALKED to any comp...  \n",
              "...                                                  ...  \n",
              "56567                                         Just Great  \n",
              "56568                      Silva takes us on anther ride  \n",
              "56569             Excellent source for graduate students  \n",
              "56570    Memoir and Peek at the World of Book Collecting  \n",
              "56571                 From Anglo-Saxon to modern English  \n",
              "\n",
              "[56572 rows x 7 columns]"
            ]
          },
          "execution_count": 75,
          "metadata": {},
          "output_type": "execute_result"
        }
      ],
      "source": [
        "min_count = reviews_full_df[\"rating\"].value_counts().min()\n",
        "\n",
        "def sample_min(df):\n",
        "  return df.sample(min_count, random_state=10010)\n",
        "\n",
        "rg = reviews_full_df.groupby(\"rating\")\n",
        "reviews_balanced_df = rg[reviews_full_df.columns].apply(sample_min).reset_index(drop=True)\n",
        "\n",
        "reviews_balanced_df"
      ]
    },
    {
      "cell_type": "markdown",
      "metadata": {},
      "source": [
        "We should have a balanced dataset now:"
      ]
    },
    {
      "cell_type": "code",
      "execution_count": 76,
      "metadata": {},
      "outputs": [
        {
          "data": {
            "text/plain": [
              "rating\n",
              "1.0    14143\n",
              "2.0    14143\n",
              "4.0    14143\n",
              "5.0    14143\n",
              "Name: count, dtype: int64"
            ]
          },
          "execution_count": 76,
          "metadata": {},
          "output_type": "execute_result"
        }
      ],
      "source": [
        "reviews_balanced_df[\"rating\"].value_counts()"
      ]
    },
    {
      "cell_type": "markdown",
      "metadata": {},
      "source": [
        "But, there is one other thing we should check and fix before we start separating our input features and labels.\n",
        "\n",
        "We should check if we have any reviews that don't have values in the `review_text` column.\n",
        "\n",
        "We do this by using the `isna()` function to detect any empty/null values, and then getting the total count of these _na_ values per column:"
      ]
    },
    {
      "cell_type": "code",
      "execution_count": 77,
      "metadata": {},
      "outputs": [
        {
          "data": {
            "text/plain": [
              "asin            0\n",
              "date            2\n",
              "product_name    0\n",
              "rating          0\n",
              "review_text     0\n",
              "reviewer        2\n",
              "title           3\n",
              "dtype: int64"
            ]
          },
          "execution_count": 77,
          "metadata": {},
          "output_type": "execute_result"
        }
      ],
      "source": [
        "reviews_balanced_df.isna().sum()"
      ]
    },
    {
      "cell_type": "markdown",
      "metadata": {},
      "source": [
        "There seems to be some missing `reviewer`, `date` and `title` values, but all of our reviews have a `review_text`.\n",
        "\n",
        "Let's start separating our input and output features from the full dataset.\n",
        "\n",
        "We'll create a separate `DataFrame` that will basically have the `review_text` and `rating` values.\n",
        "\n",
        "We just have to make sure `rating` is represented as a whole number (`int`) so we can use it as the class labels in a `MultinomialNB` classifier."
      ]
    },
    {
      "cell_type": "code",
      "execution_count": 78,
      "metadata": {},
      "outputs": [
        {
          "data": {
            "text/html": [
              "<div>\n",
              "<style scoped>\n",
              "    .dataframe tbody tr th:only-of-type {\n",
              "        vertical-align: middle;\n",
              "    }\n",
              "\n",
              "    .dataframe tbody tr th {\n",
              "        vertical-align: top;\n",
              "    }\n",
              "\n",
              "    .dataframe thead th {\n",
              "        text-align: right;\n",
              "    }\n",
              "</style>\n",
              "<table border=\"1\" class=\"dataframe\">\n",
              "  <thead>\n",
              "    <tr style=\"text-align: right;\">\n",
              "      <th></th>\n",
              "      <th>rating</th>\n",
              "      <th>review</th>\n",
              "    </tr>\n",
              "  </thead>\n",
              "  <tbody>\n",
              "    <tr>\n",
              "      <th>0</th>\n",
              "      <td>1</td>\n",
              "      <td>I read the book since I am building a house so...</td>\n",
              "    </tr>\n",
              "    <tr>\n",
              "      <th>1</th>\n",
              "      <td>1</td>\n",
              "      <td>This book was recommended to me by so many peo...</td>\n",
              "    </tr>\n",
              "    <tr>\n",
              "      <th>2</th>\n",
              "      <td>1</td>\n",
              "      <td>THe Book is great, but the seller took forever...</td>\n",
              "    </tr>\n",
              "    <tr>\n",
              "      <th>3</th>\n",
              "      <td>1</td>\n",
              "      <td>The concept that Israel needs a defence for it...</td>\n",
              "    </tr>\n",
              "    <tr>\n",
              "      <th>4</th>\n",
              "      <td>1</td>\n",
              "      <td>Like others, I bought this book because of rec...</td>\n",
              "    </tr>\n",
              "    <tr>\n",
              "      <th>...</th>\n",
              "      <td>...</td>\n",
              "      <td>...</td>\n",
              "    </tr>\n",
              "    <tr>\n",
              "      <th>56567</th>\n",
              "      <td>5</td>\n",
              "      <td>This novel is truly great. It is written with ...</td>\n",
              "    </tr>\n",
              "    <tr>\n",
              "      <th>56568</th>\n",
              "      <td>5</td>\n",
              "      <td>Everytime I need to get lost in a book, I turn...</td>\n",
              "    </tr>\n",
              "    <tr>\n",
              "      <th>56569</th>\n",
              "      <td>5</td>\n",
              "      <td>I've thoroughly enjoyed (and learned from!) th...</td>\n",
              "    </tr>\n",
              "    <tr>\n",
              "      <th>56570</th>\n",
              "      <td>5</td>\n",
              "      <td>I am a book collector and I enjoy my passion v...</td>\n",
              "    </tr>\n",
              "    <tr>\n",
              "      <th>56571</th>\n",
              "      <td>5</td>\n",
              "      <td>David Crystal makes an ambitious attempt to pr...</td>\n",
              "    </tr>\n",
              "  </tbody>\n",
              "</table>\n",
              "<p>56572 rows × 2 columns</p>\n",
              "</div>"
            ],
            "text/plain": [
              "       rating                                             review\n",
              "0           1  I read the book since I am building a house so...\n",
              "1           1  This book was recommended to me by so many peo...\n",
              "2           1  THe Book is great, but the seller took forever...\n",
              "3           1  The concept that Israel needs a defence for it...\n",
              "4           1  Like others, I bought this book because of rec...\n",
              "...       ...                                                ...\n",
              "56567       5  This novel is truly great. It is written with ...\n",
              "56568       5  Everytime I need to get lost in a book, I turn...\n",
              "56569       5  I've thoroughly enjoyed (and learned from!) th...\n",
              "56570       5  I am a book collector and I enjoy my passion v...\n",
              "56571       5  David Crystal makes an ambitious attempt to pr...\n",
              "\n",
              "[56572 rows x 2 columns]"
            ]
          },
          "execution_count": 78,
          "metadata": {},
          "output_type": "execute_result"
        }
      ],
      "source": [
        "reviews_df = pd.DataFrame(reviews_balanced_df[\"rating\"].astype(int))\n",
        "reviews_df[\"review\"] = reviews_balanced_df[\"review_text\"]\n",
        "reviews_df"
      ]
    },
    {
      "cell_type": "markdown",
      "metadata": {},
      "source": []
    },
    {
      "cell_type": "markdown",
      "metadata": {},
      "source": [
        "### Classify !\n",
        "\n",
        "Ok. The data is ready, we just have to:\n",
        "- Split the data into train/test datasets\n",
        "- Vectorize the text column into count or tf-idf features\n",
        "- Train a classifier\n",
        "- Look at confusion matrices and evaluate the classifier\n",
        "- Adjust parameters in the vectorizer or classifier, maybe try n-grams"
      ]
    },
    {
      "cell_type": "code",
      "execution_count": null,
      "metadata": {},
      "outputs": [
        {
          "name": "stdout",
          "output_type": "stream",
          "text": [
            "Train Accuracy: 0.8014671763484101\n",
            "Test Accuracy: 0.6363234644277508\n"
          ]
        },
        {
          "data": {
            "text/plain": [
              "(['food culture',\n",
              "  'beliefs practices',\n",
              "  'various cultures',\n",
              "  'religion family',\n",
              "  'event book',\n",
              "  'certainly need',\n",
              "  'read able',\n",
              "  'recipes included',\n",
              "  'icing cake',\n",
              "  'introductory chapter'],\n",
              " [0.708819799299818,\n",
              "  0.27041686412365024,\n",
              "  0.13659079732194376,\n",
              "  0.13520843206182512,\n",
              "  0.13520843206182512,\n",
              "  0.13520843206182512,\n",
              "  0.13171065197068632,\n",
              "  0.13171065197068632,\n",
              "  0.13171065197068632,\n",
              "  0.13171065197068632])"
            ]
          },
          "execution_count": 86,
          "metadata": {},
          "output_type": "execute_result"
        }
      ],
      "source": [
        "# TODO:\n",
        "# Train/Test Split\n",
        "reviews_train_df, reviews_test_df = train_test_split(reviews_df, test_size=0.2, random_state=1010)\n",
        "train_labels = reviews_train_df[\"rating\"]\n",
        "test_labels = reviews_test_df[\"rating\"]\n",
        "\n",
        "# Vectorize\n",
        "mTfidV = TfidfVectorizer(stop_words=\"english\", min_df=5, max_df=0.75, max_features=50_000, ngram_range=(2, 5))\n",
        "reviews_train_vct = mTfidV.fit_transform(reviews_train_df[\"review\"])\n",
        "reviews_test_vct = mTfidV.transform(reviews_test_df[\"review\"])\n",
        "\n",
        "# Classify\n",
        "mClassifier = MultinomialNB()\n",
        "mClassifier.fit(reviews_train_vct, train_labels)\n",
        "\n",
        "# Evaluate\n",
        "train_preds = mClassifier.predict(reviews_train_vct)\n",
        "test_preds = mClassifier.predict(reviews_test_vct)\n",
        "print(\"Train Accuracy:\", accuracy_score(train_labels, train_preds))\n",
        "print(\"Test Accuracy:\", accuracy_score(test_labels, test_preds))\n",
        "\n",
        "get_top_words(reviews_train_vct[0], mTfidV.get_feature_names_out(), 10)\n",
        "\n",
        "\n",
        "# Try n-grams\n",
        "# ngram 2-3\n",
        "#Train Accuracy: 0.8151667145413969\n",
        "#Test Accuracy: 0.6431285903667697\n",
        "\n",
        "# ngram 1-3\n",
        "#Train Accuracy: 0.7969374903329871\n",
        "#Test Accuracy: 0.6661953159522758\n",
        "\n",
        "# ngram 1-2\n",
        "#Train Accuracy: 0.8021963453167466\n",
        "#Test Accuracy: 0.6685815289438798\n",
        "\n",
        "# ngram 1-1\n",
        "#Train Accuracy: 0.7580484786883797\n",
        "#Test Accuracy: 0.6357048166151127\n",
        "\n",
        "# ngram 2-4\n",
        "#Train Accuracy: 0.8075877764765672\n",
        "#Test Accuracy: 0.6395934600088379\n",
        "\n",
        "# ngram 2-5\n",
        "#Train Accuracy: 0.8014671763484101\n",
        "#Test Accuracy: 0.6363234644277508"
      ]
    },
    {
      "cell_type": "code",
      "execution_count": 87,
      "metadata": {},
      "outputs": [
        {
          "data": {
            "image/png": "[encoded data removed]",
            "text/plain": [
              "<Figure size 1000x600 with 1 Axes>"
            ]
          },
          "metadata": {},
          "output_type": "display_data"
        }
      ],
      "source": [
        "import matplotlib.pyplot as plt\n",
        "\n",
        "# Data for n-gram ranges and corresponding accuracies\n",
        "ngram_ranges = ['1-1', '1-2', '1-3', '2-3', '2-4', '2-5']\n",
        "train_accuracies = [0.758, 0.802, 0.797, 0.815, 0.808, 0.801]\n",
        "test_accuracies = [0.636, 0.669, 0.666, 0.643, 0.640, 0.636]\n",
        "\n",
        "# Plotting\n",
        "plt.figure(figsize=(10, 6))\n",
        "plt.plot(ngram_ranges, train_accuracies, label='Train Accuracy', marker='o')\n",
        "plt.plot(ngram_ranges, test_accuracies, label='Test Accuracy', marker='o')\n",
        "\n",
        "# Adding labels, title, and legend\n",
        "plt.xlabel('N-Gram Range')\n",
        "plt.ylabel('Accuracy')\n",
        "plt.title('N-Gram Range vs Train and Test Accuracy')\n",
        "plt.legend()\n",
        "plt.grid(True)\n",
        "\n",
        "# Show the plot\n",
        "plt.show()\n"
      ]
    }
  ],
  "metadata": {
    "colab": {
      "authorship_tag": "ABX9TyPxe2qYxIG7EblrvD1C4Pmv",
      "provenance": []
    },
    "kernelspec": {
      "display_name": "Python 3",
      "language": "python",
      "name": "python3"
    },
    "language_info": {
      "codemirror_mode": {
        "name": "ipython",
        "version": 3
      },
      "file_extension": ".py",
      "mimetype": "text/x-python",
      "name": "python",
      "nbconvert_exporter": "python",
      "pygments_lexer": "ipython3",
      "version": "3.10.16"
    }
  },
  "nbformat": 4,
  "nbformat_minor": 0
}
