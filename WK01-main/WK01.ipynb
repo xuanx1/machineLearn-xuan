{
  "cells": [
    {
      "cell_type": "markdown",
      "metadata": {
        "id": "QshK8s21WBrf"
      },
      "source": [
        "# WK01\n",
        "\n",
        "## Getting started with Python syntax"
      ]
    },
    {
      "cell_type": "markdown",
      "metadata": {},
      "source": [
        "### Notebooks\n",
        "\n",
        "Are nice.\n",
        "\n",
        "And they are very useful when we want to experiment with code because we can select which pieces of code we want to run, and in which order.\n",
        "\n",
        "Notebooks are also great for documenting experiments because we can add [Markdown](https://www.markdownguide.org/) code in special `markdonwn` cells to style the descriptions of our experiments."
      ]
    },
    {
      "cell_type": "code",
      "execution_count": 1,
      "metadata": {},
      "outputs": [
        {
          "name": "stdout",
          "output_type": "stream",
          "text": [
            "hello\n"
          ]
        }
      ],
      "source": [
        "# We can write code in code cells and select which cells/code we want to execute and when\n",
        "\n",
        "# Executing this cell creates a variable x with the value \"hello\"\n",
        "# And then we print the content of the variable x\n",
        "\n",
        "x = \"hello\"\n",
        "print(x)"
      ]
    },
    {
      "cell_type": "code",
      "execution_count": 2,
      "metadata": {},
      "outputs": [
        {
          "data": {
            "text/plain": [
              "'goodbye'"
            ]
          },
          "execution_count": 2,
          "metadata": {},
          "output_type": "execute_result"
        }
      ],
      "source": [
        "# Cells also display the result of the very last line of code\n",
        "\n",
        "x = \"goodbye\"\n",
        "x"
      ]
    },
    {
      "cell_type": "code",
      "execution_count": 3,
      "metadata": {},
      "outputs": [
        {
          "name": "stdout",
          "output_type": "stream",
          "text": [
            "z: 359948\n",
            "d: 2635.28\n",
            "dd/dt: 672.8000000000001\n"
          ]
        }
      ],
      "source": [
        "# In the cell above, the very last expression evaluates to \"goodbye\", so the cell prints that or us.\n",
        "\n",
        "# Like any programming language,\n",
        "# if we don't use any control logic,\n",
        "# our interpreter is just a very complex algebra/boolean calculator\n",
        "\n",
        "x = 214\n",
        "y = 1682\n",
        "\n",
        "z = x * y\n",
        "\n",
        "t = 0.2\n",
        "d = 12 * x + y * t**2\n",
        "\n",
        "dd_dt = 2*y*t\n",
        "\n",
        "print(\"z:\", z)\n",
        "print(\"d:\", d)\n",
        "print(\"dd/dt:\", dd_dt)"
      ]
    },
    {
      "cell_type": "code",
      "execution_count": 4,
      "metadata": {},
      "outputs": [
        {
          "name": "stdout",
          "output_type": "stream",
          "text": [
            "The value of d is 2635.28, while the value of dd_dt is 672.8000000000001\n",
            "The value of d is 2635.28, while the value of dd_dt is 672.800\n"
          ]
        }
      ],
      "source": [
        "# We can also use smart/formatted/templated strings to mix constant text with variable\n",
        "\n",
        "print(f\"The value of d is {d}, while the value of dd_dt is {dd_dt}\")\n",
        "\n",
        "# Using :.<n>f we can adjust the number of decimal places we print\n",
        "print(f\"The value of d is {d}, while the value of dd_dt is {dd_dt:.3f}\")"
      ]
    },
    {
      "cell_type": "code",
      "execution_count": 5,
      "metadata": {},
      "outputs": [
        {
          "name": "stdout",
          "output_type": "stream",
          "text": [
            "ML class already started today: True\n"
          ]
        }
      ],
      "source": [
        "# We can also use Python to evaluate Boolean expressions\n",
        "\n",
        "current_hour = 14\n",
        "current_minute = 22\n",
        "\n",
        "current_week_day = \"wednesday\"\n",
        "\n",
        "PSAM_5020_started = current_week_day == \"wednesday\" and current_hour > 12 or (current_hour == 12 and current_minute > 10)\n",
        "\n",
        "print(f\"ML class already started today: {PSAM_5020_started}\")"
      ]
    },
    {
      "cell_type": "code",
      "execution_count": 6,
      "metadata": {},
      "outputs": [
        {
          "name": "stdout",
          "output_type": "stream",
          "text": [
            "ML class is currently running: True\n"
          ]
        }
      ],
      "source": [
        "# TODO: add logic to make the above statement print true only if PSAM 5020 is currently happening\n",
        "# HINT: PSAM 5020 is running if it has started and not ended\n",
        "\n",
        "PSAM_5020_ended = current_week_day == \"wednesday\" and current_hour > 15 or (current_hour == 15 and current_minute > 0)\n",
        "\n",
        "print(f\"ML class is currently running: {PSAM_5020_started and (not PSAM_5020_ended)}\")"
      ]
    },
    {
      "cell_type": "markdown",
      "metadata": {
        "id": "7Hf8SXUwWOho"
      },
      "source": [
        "### if / else\n",
        "\n",
        "JavaScript / C++:\n",
        "\n",
        "```js\n",
        "const n = 8;\n",
        "\n",
        "if (n > 10) {\n",
        "  print(\"n is greater than 10\");\n",
        "} else if (n > 5) {\n",
        "  print(\"n is between 5 and 10\");\n",
        "} else {\n",
        "  print(\"n is 5 or less\");\n",
        "}\n",
        "```\n",
        "\n",
        "Python:"
      ]
    },
    {
      "cell_type": "code",
      "execution_count": 7,
      "metadata": {},
      "outputs": [
        {
          "name": "stdout",
          "output_type": "stream",
          "text": [
            "n is between 5 and 10\n"
          ]
        }
      ],
      "source": [
        "n = 8\n",
        "\n",
        "if n > 10:\n",
        "  print(\"n is greater than 10\")\n",
        "elif n > 5:\n",
        "  print(\"n is between 5 and 10\")\n",
        "else:\n",
        "  print(\"n is 5 or less\")"
      ]
    },
    {
      "cell_type": "markdown",
      "metadata": {},
      "source": [
        "### iterate with counter\n",
        "\n",
        "JavaScript / C++:\n",
        "\n",
        "```js\n",
        "for (let c = 0; c < 10; c++) {\n",
        "  print(c);\n",
        "}\n",
        "\n",
        "for (let c = 10; c < 50; c+=5) {\n",
        "  print(c);\n",
        "}\n",
        "```\n",
        "\n",
        "Python:"
      ]
    },
    {
      "cell_type": "code",
      "execution_count": 8,
      "metadata": {},
      "outputs": [
        {
          "name": "stdout",
          "output_type": "stream",
          "text": [
            "0\n",
            "1\n",
            "2\n",
            "3\n",
            "4\n",
            "5\n",
            "6\n",
            "7\n",
            "8\n",
            "9\n"
          ]
        }
      ],
      "source": [
        "for c in range(10):\n",
        "  print(c)"
      ]
    },
    {
      "cell_type": "code",
      "execution_count": 9,
      "metadata": {},
      "outputs": [
        {
          "name": "stdout",
          "output_type": "stream",
          "text": [
            "10\n",
            "15\n",
            "20\n",
            "25\n",
            "30\n",
            "35\n",
            "40\n",
            "45\n"
          ]
        }
      ],
      "source": [
        "for c in range(10, 50, 5):\n",
        "  print(c)"
      ]
    },
    {
      "cell_type": "markdown",
      "metadata": {},
      "source": [
        "### Print all numbers between $100$ and $200$ that end in $3$"
      ]
    },
    {
      "cell_type": "code",
      "execution_count": 10,
      "metadata": {},
      "outputs": [
        {
          "name": "stdout",
          "output_type": "stream",
          "text": [
            "103\n",
            "113\n",
            "123\n",
            "133\n",
            "143\n",
            "153\n",
            "163\n",
            "173\n",
            "183\n",
            "193\n"
          ]
        }
      ],
      "source": [
        "# TODO: Print numbers between 100 and 200 that end in 3\n",
        "for f in range(100, 200):\n",
        "  if f % 10 == 3:\n",
        "    print(f)"
      ]
    },
    {
      "cell_type": "markdown",
      "metadata": {},
      "source": [
        "### iterate over array/list\n",
        "\n",
        "JavaScript / C++:\n",
        "\n",
        "```js\n",
        "const array = [ 0, 1, 3, 6, 2, 7, 13, 20, 12, 21, 11, 22 ];\n",
        "\n",
        "for (const i of array) {\n",
        "  print(i);\n",
        "}\n",
        "```\n",
        "\n",
        "Python:"
      ]
    },
    {
      "cell_type": "code",
      "execution_count": 11,
      "metadata": {},
      "outputs": [
        {
          "name": "stdout",
          "output_type": "stream",
          "text": [
            "0\n",
            "1\n",
            "3\n",
            "6\n",
            "2\n",
            "7\n",
            "13\n",
            "20\n",
            "12\n",
            "21\n",
            "11\n",
            "22\n"
          ]
        }
      ],
      "source": [
        "array = [ 0, 1, 3, 6, 2, 7, 13, 20, 12, 21, 11, 22 ]\n",
        "\n",
        "for i in array:\n",
        "  print(i)"
      ]
    },
    {
      "cell_type": "markdown",
      "metadata": {},
      "source": [
        "### iterate over object\n",
        "\n",
        "JavaScript / C++:\n",
        "\n",
        "```js\n",
        "const obj = {\n",
        "  name: \"thiago\",\n",
        "  id: \"tgh\"\n",
        "};\n",
        "\n",
        "for (const [key, val] of Object.entries(obj)) {\n",
        "  print(key, \":\", val);\n",
        "}\n",
        "```\n",
        "\n",
        "Python:"
      ]
    },
    {
      "cell_type": "code",
      "execution_count": 12,
      "metadata": {},
      "outputs": [
        {
          "name": "stdout",
          "output_type": "stream",
          "text": [
            "name : thiago\n",
            "id : tgh\n"
          ]
        }
      ],
      "source": [
        "obj = {\n",
        "  \"name\": \"thiago\",\n",
        "  \"id\": \"tgh\"\n",
        "}\n",
        "\n",
        "for key, val in obj.items():\n",
        "  print(key, \":\", val)"
      ]
    },
    {
      "cell_type": "markdown",
      "metadata": {},
      "source": [
        "### iterate over list of objects\n",
        "\n",
        "JavaScript / C++:\n",
        "\n",
        "```js\n",
        "const objs = [{\n",
        "  name: \"thiago\",\n",
        "  id: \"tgh\"\n",
        "},\n",
        "{\n",
        "  name: \"lex\",\n",
        "  id: \"lxg\"\n",
        "}];\n",
        "\n",
        "for (const obj of objs) {\n",
        "  for (const [key, val] of Object.entries(obj)) {\n",
        "    print(key, \":\", val);\n",
        "  }\n",
        "}\n",
        "```\n",
        "\n",
        "Python:"
      ]
    },
    {
      "cell_type": "code",
      "execution_count": 13,
      "metadata": {},
      "outputs": [
        {
          "name": "stdout",
          "output_type": "stream",
          "text": [
            "name : thiago\n",
            "id : tgh\n",
            "name : lex\n",
            "id : lxg\n"
          ]
        }
      ],
      "source": [
        "objs = [{\n",
        "  \"name\": \"thiago\",\n",
        "  \"id\": \"tgh\"\n",
        "},\n",
        "{\n",
        "  \"name\": \"lex\",\n",
        "  \"id\": \"lxg\"\n",
        "}]\n",
        "\n",
        "for obj in objs:\n",
        "  for key, val in obj.items():\n",
        "    print(key, \":\", val)"
      ]
    },
    {
      "cell_type": "markdown",
      "metadata": {},
      "source": [
        "Or:"
      ]
    },
    {
      "cell_type": "code",
      "execution_count": 14,
      "metadata": {},
      "outputs": [
        {
          "name": "stdout",
          "output_type": "stream",
          "text": [
            "name : thiago\n",
            "id : tgh\n",
            "name : lex\n",
            "id : lxg\n"
          ]
        }
      ],
      "source": [
        "for k, v in [(key, val) for obj in objs for key, val in obj.items()]:\n",
        "  print(k, \":\", v)"
      ]
    },
    {
      "cell_type": "markdown",
      "metadata": {},
      "source": [
        "## 🤔 😫\n",
        "\n",
        "That last expression is very confusing. We'll break it down and explain it soon."
      ]
    },
    {
      "cell_type": "markdown",
      "metadata": {},
      "source": [
        "### List Comprehension: create a list from another list\n",
        "\n",
        "JavaScript / C++:\n",
        "\n",
        "```js\n",
        "const array = [ 1, 1, 2, 5, 14, 42, 132, 429, 1430, 4862 ];\n",
        "const squared = [];\n",
        "\n",
        "for (const i of array) {\n",
        "  squared.push(i * i);\n",
        "}\n",
        "\n",
        "for (const i of squared) {\n",
        "  print(i);\n",
        "}\n",
        "```\n",
        "\n",
        "Python:"
      ]
    },
    {
      "cell_type": "code",
      "execution_count": 15,
      "metadata": {},
      "outputs": [
        {
          "name": "stdout",
          "output_type": "stream",
          "text": [
            "1\n",
            "1\n",
            "4\n",
            "25\n",
            "196\n",
            "1764\n",
            "17424\n",
            "184041\n",
            "2044900\n",
            "23639044\n"
          ]
        }
      ],
      "source": [
        "array = [ 1, 1, 2, 5, 14, 42, 132, 429, 1430, 4862 ]\n",
        "\n",
        "# TODO: build the array of squared values\n",
        "squared = [i*i for i in array]\n",
        "\n",
        "# then print them\n",
        "for i in squared:\n",
        "  print(i)"
      ]
    },
    {
      "cell_type": "markdown",
      "metadata": {},
      "source": [
        "### List Comprehension: create a list from another list\n",
        "\n",
        "JavaScript / C++:\n",
        "\n",
        "```js\n",
        "const array = [ 1, 1, 2, 5, 14, 42, 132, 429, 1430, 4862 ];\n",
        "const squared = array.map(i => i * i);\n",
        "\n",
        "for (const i of squared) {\n",
        "  print(i);\n",
        "}\n",
        "```\n",
        "\n",
        "Python:"
      ]
    },
    {
      "cell_type": "code",
      "execution_count": 16,
      "metadata": {},
      "outputs": [
        {
          "name": "stdout",
          "output_type": "stream",
          "text": [
            "1\n",
            "1\n",
            "4\n",
            "25\n",
            "196\n",
            "1764\n",
            "17424\n",
            "184041\n",
            "2044900\n",
            "23639044\n"
          ]
        }
      ],
      "source": [
        "array = [ 1, 1, 2, 5, 14, 42, 132, 429, 1430, 4862 ]\n",
        "squared = [ i * i for i in array ]\n",
        "\n",
        "for i in squared:\n",
        "  print(i)"
      ]
    },
    {
      "cell_type": "markdown",
      "metadata": {},
      "source": [
        "### List Comprehensions\n",
        "\n",
        "<img src=\"./imgs/list-comp-00.jpg\" height=\"150px\"/>"
      ]
    },
    {
      "cell_type": "markdown",
      "metadata": {},
      "source": [
        "### List Comprehension: create a list from PARTS of another list\n",
        "\n",
        "JavaScript / C++:\n",
        "\n",
        "```js\n",
        "const array = [ 1, 1, 2, 5, 14, 42, 132, 429, 1430, 4862 ];\n",
        "const odds = [];\n",
        "\n",
        "for (const i of array) {\n",
        "  if (i % 2 == 1) {\n",
        "    odds.push(i);\n",
        "  }\n",
        "}\n",
        "\n",
        "for (const i of odds) {\n",
        "  print(i);\n",
        "}\n",
        "```\n",
        "\n",
        "Python with for loop:"
      ]
    },
    {
      "cell_type": "code",
      "execution_count": 17,
      "metadata": {},
      "outputs": [
        {
          "name": "stdout",
          "output_type": "stream",
          "text": [
            "1\n",
            "1\n",
            "5\n",
            "429\n"
          ]
        }
      ],
      "source": [
        "array = [ 1, 1, 2, 5, 14, 42, 132, 429, 1430, 4862 ]\n",
        "odds = []\n",
        "\n",
        "for i in array:\n",
        "  if i % 2 == 1:\n",
        "    odds.append(i)\n",
        "\n",
        "for i in odds:\n",
        "  print(i)"
      ]
    },
    {
      "cell_type": "markdown",
      "metadata": {},
      "source": [
        "Python with comprehension:"
      ]
    },
    {
      "cell_type": "code",
      "execution_count": 18,
      "metadata": {},
      "outputs": [
        {
          "name": "stdout",
          "output_type": "stream",
          "text": [
            "1\n",
            "1\n",
            "5\n",
            "429\n"
          ]
        }
      ],
      "source": [
        "array = [ 1, 1, 2, 5, 14, 42, 132, 429, 1430, 4862 ]\n",
        "odds = [ i for i in array if i % 2 == 1 ]\n",
        "\n",
        "for i in odds:\n",
        "  print(i)"
      ]
    },
    {
      "cell_type": "markdown",
      "metadata": {},
      "source": [
        "### List Comprehensions + predicate = Filtering\n",
        "\n",
        "<img src=\"./imgs/list-comp-01.jpg\" height=\"150px\"/>"
      ]
    },
    {
      "cell_type": "markdown",
      "metadata": {},
      "source": [
        "### Filtering: create a list from parts of another list\n",
        "\n",
        "JavaScript / C++:\n",
        "\n",
        "```js\n",
        "const array = [ 1, 1, 2, 5, 14, 42, 132, 429, 1430, 4862 ];\n",
        "const odds = array.filter(i => i % 2 == 1);\n",
        "\n",
        "for (const i of odds) {\n",
        "  print(i);\n",
        "}\n",
        "```"
      ]
    },
    {
      "cell_type": "markdown",
      "metadata": {},
      "source": [
        "Use comprehension to create a list of values between 100 and 500 that are divisible by 3 and 7\n",
        "\n",
        "Remember that in Python the keywords for the Boolean operators are : `and`, `or`, `not`"
      ]
    },
    {
      "cell_type": "code",
      "execution_count": 28,
      "metadata": {},
      "outputs": [
        {
          "name": "stdout",
          "output_type": "stream",
          "text": [
            "[105, 126, 147, 168, 189, 210, 231, 252, 273, 294, 315, 336, 357, 378, 399, 420, 441, 462, 483]\n"
          ]
        }
      ],
      "source": [
        "# TODO: Create a list of values between 100 and 500 that are divisible by 3 and 7\n",
        "div_3_7_list = [i for i in range(100, 500) if i % 3 == 0 and i % 7 == 0]\n",
        "\n",
        "# then print them\n",
        "print(div_3_7_list)"
      ]
    },
    {
      "cell_type": "markdown",
      "metadata": {},
      "source": [
        "### More complex comprehensions:"
      ]
    },
    {
      "cell_type": "code",
      "execution_count": 29,
      "metadata": {},
      "outputs": [
        {
          "name": "stdout",
          "output_type": "stream",
          "text": [
            "name : thiago\n",
            "id : tgh\n",
            "grade : A\n",
            "name : lex\n",
            "id : lxg\n",
            "grade : A+\n",
            "name : flex\n",
            "id : flx\n",
            "grade : B\n"
          ]
        }
      ],
      "source": [
        "objs = [\n",
        "  {\n",
        "    \"name\": \"thiago\",\n",
        "    \"id\": \"tgh\",\n",
        "    \"grade\": \"A\"\n",
        "  },\n",
        "  {\n",
        "    \"name\": \"lex\",\n",
        "    \"id\": \"lxg\",\n",
        "    \"grade\": \"A+\"\n",
        "  },\n",
        "  {\n",
        "    \"name\": \"flex\",\n",
        "    \"id\": \"flx\",\n",
        "    \"grade\": \"B\"\n",
        "  }\n",
        "]\n",
        "\n",
        "for obj in objs:\n",
        "  for key, val in obj.items():\n",
        "    print(key, \":\", val)"
      ]
    },
    {
      "cell_type": "markdown",
      "metadata": {},
      "source": [
        "### Flattening: produces single list\n",
        "\n",
        "```python\n",
        "# 0.\n",
        "for obj in objs:\n",
        "  for key, val in obj.items():\n",
        "```\n",
        "\n",
        "```python\n",
        "# 1.\n",
        "for obj in objs for key, val in obj.items()\n",
        "```\n",
        "\n",
        "```python\n",
        "# 2.\n",
        "[(key, val) for obj in objs for key, val in obj.items()]\n",
        "```"
      ]
    },
    {
      "cell_type": "code",
      "execution_count": 31,
      "metadata": {},
      "outputs": [
        {
          "data": {
            "text/plain": [
              "[('name', 'thiago'),\n",
              " ('id', 'tgh'),\n",
              " ('grade', 'A'),\n",
              " ('name', 'lex'),\n",
              " ('id', 'lxg'),\n",
              " ('grade', 'A+'),\n",
              " ('name', 'flex'),\n",
              " ('id', 'flx'),\n",
              " ('grade', 'B')]"
            ]
          },
          "execution_count": 31,
          "metadata": {},
          "output_type": "execute_result"
        }
      ],
      "source": [
        "[(key, val) for obj in objs for key, val in obj.items()]"
      ]
    },
    {
      "cell_type": "markdown",
      "metadata": {},
      "source": [
        "### Non-Flattening: maintains original structure\n",
        "\n",
        "```python\n",
        "# 0.\n",
        "for obj in objs:\n",
        "  for key, val in obj.items():\n",
        "```\n",
        "\n",
        "```python\n",
        "# 1.\n",
        "for key, val in obj.items() for obj in objs\n",
        "```\n",
        "\n",
        "```python\n",
        "# 2.\n",
        "[[for key,val in obj.items()] for obj in objs]\n",
        "```\n",
        "\n",
        "```python\n",
        "# 3.\n",
        "[[(key, val) for key,val in obj.items()] for obj in objs]\n",
        "```"
      ]
    },
    {
      "cell_type": "code",
      "execution_count": 22,
      "metadata": {},
      "outputs": [
        {
          "data": {
            "text/plain": [
              "[[('name', 'thiago'), ('id', 'tgh'), ('grade', 'A')],\n",
              " [('name', 'lex'), ('id', 'lxg'), ('grade', 'A+')],\n",
              " [('name', 'flex'), ('id', 'flx'), ('grade', 'B')]]"
            ]
          },
          "execution_count": 22,
          "metadata": {},
          "output_type": "execute_result"
        }
      ],
      "source": [
        "[[(key, val) for key,val in obj.items()] for obj in objs]"
      ]
    },
    {
      "cell_type": "markdown",
      "metadata": {},
      "source": [
        "### Combining lists and objects\n",
        "\n",
        "In Python we can combine multiple lists or objects by using the `+` or `|` operators."
      ]
    },
    {
      "cell_type": "code",
      "execution_count": 23,
      "metadata": {},
      "outputs": [
        {
          "name": "stdout",
          "output_type": "stream",
          "text": [
            "[1, 2, 3, 4, 5, 6, 7, 8]\n"
          ]
        }
      ],
      "source": [
        "x = [1,2,3,4]\n",
        "y = [5,6,7,8]\n",
        "\n",
        "z = x + y\n",
        "print(z)"
      ]
    },
    {
      "cell_type": "code",
      "execution_count": 24,
      "metadata": {},
      "outputs": [
        {
          "name": "stdout",
          "output_type": "stream",
          "text": [
            "{'name': 'thiago', 'grade': 'A', 'zip': 11211}\n"
          ]
        }
      ],
      "source": [
        "name = {\"name\": \"thiago\"}\n",
        "grade = {\"grade\": \"A\"}\n",
        "zipcode = {\"zip\": 11211}\n",
        "\n",
        "z = name | grade | zipcode\n",
        "print(z)"
      ]
    }
  ],
  "metadata": {
    "colab": {
      "authorship_tag": "ABX9TyPxe2qYxIG7EblrvD1C4Pmv",
      "provenance": []
    },
    "kernelspec": {
      "display_name": "Python 3",
      "language": "python",
      "name": "python3"
    },
    "language_info": {
      "codemirror_mode": {
        "name": "ipython",
        "version": 3
      },
      "file_extension": ".py",
      "mimetype": "text/x-python",
      "name": "python",
      "nbconvert_exporter": "python",
      "pygments_lexer": "ipython3",
      "version": "3.10.16"
    }
  },
  "nbformat": 4,
  "nbformat_minor": 0
}
