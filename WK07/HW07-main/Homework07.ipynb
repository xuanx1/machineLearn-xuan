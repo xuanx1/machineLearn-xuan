{
 "cells": [
  {
   "cell_type": "markdown",
   "metadata": {
    "id": "QshK8s21WBrf"
   },
   "source": [
    "# Homework07\n",
    "\n",
    "Exercises to practice pandas, data analysis and classification\n",
    "\n",
    "## Goals\n",
    "\n",
    "- Understand the effects of pre-processing data\n",
    "- Get familiar with the ML flow: encode -> normalize -> train -> evaluate\n",
    "- Understand the difference between regression and classification tasks\n",
    "- Build an intuition for different classification models"
   ]
  },
  {
   "cell_type": "markdown",
   "metadata": {
    "id": "7Hf8SXUwWOho"
   },
   "source": [
    "### Setup\n",
    "\n",
    "Run the following 2 cells to import all necessary libraries and helpers for this homework."
   ]
  },
  {
   "cell_type": "code",
   "execution_count": 32,
   "metadata": {},
   "outputs": [],
   "source": [
    "!wget -q https://github.com/PSAM-5020-2025S-A/5020-utils/raw/main/src/data_utils.py\n",
    "!wget -q https://github.com/PSAM-5020-2025S-A/5020-utils/raw/main/src/image_utils.py\n",
    "\n",
    "!wget -qO- https://github.com/PSAM-5020-2025S-A/5020-utils/releases/latest/download/0801-500.tar.gz | tar xz"
   ]
  },
  {
   "cell_type": "code",
   "execution_count": 33,
   "metadata": {},
   "outputs": [],
   "source": [
    "import pandas as pd\n",
    "import PIL.Image as PImage\n",
    "\n",
    "from os import listdir, path\n",
    "\n",
    "from data_utils import RandomForestClassifier, SVC\n",
    "from data_utils import classification_error, display_confusion_matrix, regression_error\n",
    "\n",
    "from image_utils import get_pixels, make_image\n",
    "\n",
    "from Homework07_utils import CamUtils"
   ]
  },
  {
   "cell_type": "markdown",
   "metadata": {},
   "source": [
    "## Classification\n",
    "\n",
    "The dataset we are going to use has images from $25$ different security cameras, and our task is to separate them by camera. Some of the cameras move, some of them don't, and there are more than $1000$ images, so there's no way we want to do this by hand.\n",
    "\n",
    "### Loading Data\n",
    "\n",
    "If we look at the images in `./data/image/0801-500/train/`, we'll notice that they are named and organized in a very particular way. They're all in the same directory and the first part of their filename specifies which camera they came from. Even though those `ids` are numbers, they're not sequential, so we'll use some helper functions to extract a unique `label` from their filenames.\n",
    "\n",
    "This is exactly what the `OrdinalEncoder` class does, but since we only have to encode this one column, we'll do it by hand while we read the files in."
   ]
  },
  {
   "cell_type": "code",
   "execution_count": 34,
   "metadata": {},
   "outputs": [],
   "source": [
    "# this creates a list of all the files in a given directory, that end in .jpg\n",
    "train_files = [f for f in listdir(\"./data/image/0801-500/train\") if f.endswith(\".jpg\")]"
   ]
  },
  {
   "cell_type": "code",
   "execution_count": 35,
   "metadata": {
    "tags": [
     "work_cell"
    ]
   },
   "outputs": [
    {
     "name": "stdout",
     "output_type": "stream",
     "text": [
      "['17-66.jpg', '28-27.jpg', '01-40.jpg', '03-79.jpg', '01-17.jpg', '23-07.jpg', '05-22.jpg', '08-50.jpg', '13-52.jpg', '07-01.jpg', '26-04.jpg', '26-35.jpg', '03-78.jpg', '09-62.jpg', '19-30.jpg', '03-23.jpg', '07-11.jpg', '08-27.jpg', '09-48.jpg', '08-21.jpg', '07-12.jpg', '02-36.jpg', '19-84.jpg', '18-57.jpg', '08-52.jpg', '26-61.jpg', '13-09.jpg', '10-50.jpg', '22-53.jpg', '23-60.jpg', '09-04.jpg', '23-41.jpg', '02-40.jpg', '28-67.jpg', '12-30.jpg', '17-81.jpg', '19-17.jpg', '24-50.jpg', '22-43.jpg', '12-32.jpg', '03-67.jpg', '13-56.jpg', '12-19.jpg', '03-69.jpg', '22-00.jpg', '11-25.jpg', '22-42.jpg', '02-06.jpg', '03-13.jpg', '05-30.jpg', '26-29.jpg', '07-85.jpg', '13-10.jpg', '24-10.jpg', '31-08.jpg', '21-60.jpg', '03-36.jpg', '17-10.jpg', '13-21.jpg', '02-14.jpg', '28-62.jpg', '01-07.jpg', '31-11.jpg', '28-17.jpg', '11-04.jpg', '22-38.jpg', '27-47.jpg', '10-48.jpg', '17-90.jpg', '15-38.jpg', '27-08.jpg', '22-48.jpg', '11-48.jpg', '05-25.jpg', '26-62.jpg', '12-21.jpg', '21-15.jpg', '13-32.jpg', '08-19.jpg', '28-06.jpg', '12-06.jpg', '23-63.jpg', '15-30.jpg', '10-15.jpg', '19-64.jpg', '22-58.jpg', '24-52.jpg', '31-06.jpg', '28-74.jpg', '23-28.jpg', '18-55.jpg', '19-48.jpg', '27-05.jpg', '06-36.jpg', '18-34.jpg', '18-10.jpg', '27-20.jpg', '25-14.jpg', '26-16.jpg', '01-19.jpg', '06-30.jpg', '25-65.jpg', '13-04.jpg', '12-44.jpg', '07-48.jpg', '28-69.jpg', '17-29.jpg', '08-53.jpg', '10-49.jpg', '31-13.jpg', '18-03.jpg', '26-50.jpg', '25-47.jpg', '15-10.jpg', '22-14.jpg', '15-42.jpg', '23-46.jpg', '28-64.jpg', '19-37.jpg', '11-87.jpg', '31-02.jpg', '05-40.jpg', '18-31.jpg', '25-71.jpg', '06-17.jpg', '08-35.jpg', '19-60.jpg', '24-33.jpg', '15-07.jpg', '10-61.jpg', '09-41.jpg', '25-69.jpg', '05-49.jpg', '03-35.jpg', '23-48.jpg', '19-74.jpg', '26-22.jpg', '10-70.jpg', '11-60.jpg', '09-75.jpg', '21-08.jpg', '01-46.jpg', '09-30.jpg', '21-28.jpg', '24-01.jpg', '26-60.jpg', '15-22.jpg', '27-09.jpg', '06-75.jpg', '11-27.jpg', '15-18.jpg', '22-06.jpg', '01-30.jpg', '13-26.jpg', '01-33.jpg', '21-52.jpg', '19-20.jpg', '10-26.jpg', '06-37.jpg', '18-21.jpg', '25-42.jpg', '17-57.jpg', '13-03.jpg', '31-21.jpg', '21-35.jpg', '05-42.jpg', '31-05.jpg', '27-45.jpg', '28-78.jpg', '24-44.jpg', '18-33.jpg', '11-74.jpg', '06-63.jpg', '28-77.jpg', '24-22.jpg', '17-54.jpg', '09-38.jpg', '06-47.jpg', '18-29.jpg', '12-00.jpg', '17-40.jpg', '21-38.jpg', '06-15.jpg', '31-20.jpg', '23-73.jpg', '05-21.jpg', '25-38.jpg', '26-74.jpg', '25-83.jpg', '02-47.jpg', '07-31.jpg', '12-16.jpg', '06-53.jpg', '02-21.jpg', '10-90.jpg', '07-42.jpg', '05-29.jpg', '07-15.jpg', '05-02.jpg', '10-43.jpg', '21-17.jpg', '27-15.jpg', '27-50.jpg', '18-20.jpg', '31-19.jpg', '10-40.jpg', '08-00.jpg', '15-13.jpg', '01-32.jpg', '27-12.jpg', '07-75.jpg', '08-48.jpg', '02-24.jpg', '22-36.jpg', '12-54.jpg', '05-15.jpg', '23-51.jpg', '09-86.jpg', '08-22.jpg', '07-09.jpg', '02-30.jpg', '24-58.jpg', '17-51.jpg', '03-20.jpg', '13-47.jpg', '02-31.jpg', '09-65.jpg', '21-51.jpg', '25-23.jpg', '02-48.jpg', '21-21.jpg', '23-64.jpg', '01-38.jpg', '09-06.jpg', '27-02.jpg', '12-40.jpg', '11-94.jpg', '24-09.jpg', '15-49.jpg', '01-39.jpg', '31-15.jpg', '11-67.jpg', '25-81.jpg', '19-62.jpg', '17-85.jpg', '11-45.jpg', '03-05.jpg', '15-48.jpg', '24-24.jpg', '06-32.jpg']\n"
     ]
    }
   ],
   "source": [
    "# TODO: check and see what is inside the list here\n",
    "print(train_files)"
   ]
  },
  {
   "cell_type": "markdown",
   "metadata": {},
   "source": [
    "Now we'll read the image pixels and extract their labels. `CamUtils.get_label()` is the helper function we'll use to \"encode\" and return a label id based on the filename."
   ]
  },
  {
   "cell_type": "code",
   "execution_count": 36,
   "metadata": {},
   "outputs": [],
   "source": [
    "pixel_data = []\n",
    "label_data = []\n",
    "\n",
    "for fname in train_files:\n",
    "  label = CamUtils.get_label(fname)\n",
    "  img = PImage.open(path.join(\"./data/image/0801-500/train\", fname))\n",
    "  pixel_data.append(get_pixels(img))\n",
    "  label_data.append(label)"
   ]
  },
  {
   "cell_type": "code",
   "execution_count": 37,
   "metadata": {
    "tags": [
     "work_cell"
    ]
   },
   "outputs": [
    {
     "name": "stdout",
     "output_type": "stream",
     "text": [
      "[13, 23, 0, 2, 0]\n",
      "['17-66.jpg', '28-27.jpg', '01-40.jpg', '03-79.jpg', '01-17.jpg']\n"
     ]
    }
   ],
   "source": [
    "# TODO: check if labels got extracted correctly by looking at \n",
    "#       the first few items of the label list and the filename list\n",
    "print(label_data[:5])\n",
    "print(train_files[:5])"
   ]
  },
  {
   "cell_type": "markdown",
   "metadata": {},
   "source": [
    "The labels and the filenames won't match exactly since labels start at $0$ and the filenames start at $01$ and skip some numbers.\n",
    "\n",
    "We can open some images from pixels, just to make sure we loaded them correctly:"
   ]
  },
  {
   "cell_type": "code",
   "execution_count": 38,
   "metadata": {},
   "outputs": [
    {
     "data": {
      "image/jpeg": "[encoded data removed]",
      "image/png": "[encoded data removed]",
      "text/plain": [
       "<PIL.Image.Image image mode=L size=256x256>"
      ]
     },
     "metadata": {},
     "output_type": "display_data"
    },
    {
     "data": {
      "image/jpeg": "[encoded data removed]",
      "image/png": "[encoded data removed]",
      "text/plain": [
       "<PIL.Image.Image image mode=L size=256x256>"
      ]
     },
     "metadata": {},
     "output_type": "display_data"
    }
   ],
   "source": [
    "display(make_image(pixel_data[0]))\n",
    "display(make_image(pixel_data[10]))"
   ]
  },
  {
   "cell_type": "markdown",
   "metadata": {},
   "source": [
    "And now might not be a bad time to peek into the `data/image/0801-500/` directories to see what's inside them and what the images look like.... and get to know the data..."
   ]
  },
  {
   "cell_type": "markdown",
   "metadata": {},
   "source": [
    "### DataFrame it\n",
    "\n",
    "Let's put our raw pixel data into a `DataFrame`, and create a column for storing each image's label.\n",
    "\n",
    "(this next cell might take a while to run)"
   ]
  },
  {
   "cell_type": "code",
   "execution_count": 39,
   "metadata": {},
   "outputs": [],
   "source": [
    "train_df = pd.DataFrame(pixel_data)\n",
    "train_df[\"label\"] = label_data"
   ]
  },
  {
   "cell_type": "markdown",
   "metadata": {},
   "source": [
    "Let's inspect our `DataFrame`:"
   ]
  },
  {
   "cell_type": "code",
   "execution_count": 40,
   "metadata": {},
   "outputs": [
    {
     "data": {
      "text/html": [
       "<div>\n",
       "<style scoped>\n",
       "    .dataframe tbody tr th:only-of-type {\n",
       "        vertical-align: middle;\n",
       "    }\n",
       "\n",
       "    .dataframe tbody tr th {\n",
       "        vertical-align: top;\n",
       "    }\n",
       "\n",
       "    .dataframe thead th {\n",
       "        text-align: right;\n",
       "    }\n",
       "</style>\n",
       "<table border=\"1\" class=\"dataframe\">\n",
       "  <thead>\n",
       "    <tr style=\"text-align: right;\">\n",
       "      <th></th>\n",
       "      <th>0</th>\n",
       "      <th>1</th>\n",
       "      <th>2</th>\n",
       "      <th>3</th>\n",
       "      <th>4</th>\n",
       "      <th>5</th>\n",
       "      <th>6</th>\n",
       "      <th>7</th>\n",
       "      <th>8</th>\n",
       "      <th>9</th>\n",
       "      <th>...</th>\n",
       "      <th>65527</th>\n",
       "      <th>65528</th>\n",
       "      <th>65529</th>\n",
       "      <th>65530</th>\n",
       "      <th>65531</th>\n",
       "      <th>65532</th>\n",
       "      <th>65533</th>\n",
       "      <th>65534</th>\n",
       "      <th>65535</th>\n",
       "      <th>label</th>\n",
       "    </tr>\n",
       "  </thead>\n",
       "  <tbody>\n",
       "    <tr>\n",
       "      <th>0</th>\n",
       "      <td>117</td>\n",
       "      <td>119</td>\n",
       "      <td>120</td>\n",
       "      <td>121</td>\n",
       "      <td>120</td>\n",
       "      <td>118</td>\n",
       "      <td>115</td>\n",
       "      <td>113</td>\n",
       "      <td>116</td>\n",
       "      <td>116</td>\n",
       "      <td>...</td>\n",
       "      <td>205</td>\n",
       "      <td>200</td>\n",
       "      <td>201</td>\n",
       "      <td>203</td>\n",
       "      <td>204</td>\n",
       "      <td>204</td>\n",
       "      <td>203</td>\n",
       "      <td>202</td>\n",
       "      <td>201</td>\n",
       "      <td>13</td>\n",
       "    </tr>\n",
       "    <tr>\n",
       "      <th>1</th>\n",
       "      <td>86</td>\n",
       "      <td>86</td>\n",
       "      <td>86</td>\n",
       "      <td>85</td>\n",
       "      <td>85</td>\n",
       "      <td>85</td>\n",
       "      <td>84</td>\n",
       "      <td>84</td>\n",
       "      <td>85</td>\n",
       "      <td>85</td>\n",
       "      <td>...</td>\n",
       "      <td>100</td>\n",
       "      <td>97</td>\n",
       "      <td>97</td>\n",
       "      <td>96</td>\n",
       "      <td>95</td>\n",
       "      <td>93</td>\n",
       "      <td>94</td>\n",
       "      <td>96</td>\n",
       "      <td>98</td>\n",
       "      <td>23</td>\n",
       "    </tr>\n",
       "    <tr>\n",
       "      <th>2</th>\n",
       "      <td>82</td>\n",
       "      <td>82</td>\n",
       "      <td>82</td>\n",
       "      <td>83</td>\n",
       "      <td>84</td>\n",
       "      <td>85</td>\n",
       "      <td>87</td>\n",
       "      <td>87</td>\n",
       "      <td>87</td>\n",
       "      <td>87</td>\n",
       "      <td>...</td>\n",
       "      <td>36</td>\n",
       "      <td>34</td>\n",
       "      <td>33</td>\n",
       "      <td>31</td>\n",
       "      <td>30</td>\n",
       "      <td>30</td>\n",
       "      <td>31</td>\n",
       "      <td>33</td>\n",
       "      <td>34</td>\n",
       "      <td>0</td>\n",
       "    </tr>\n",
       "    <tr>\n",
       "      <th>3</th>\n",
       "      <td>0</td>\n",
       "      <td>0</td>\n",
       "      <td>0</td>\n",
       "      <td>0</td>\n",
       "      <td>0</td>\n",
       "      <td>0</td>\n",
       "      <td>0</td>\n",
       "      <td>0</td>\n",
       "      <td>0</td>\n",
       "      <td>0</td>\n",
       "      <td>...</td>\n",
       "      <td>2</td>\n",
       "      <td>3</td>\n",
       "      <td>3</td>\n",
       "      <td>2</td>\n",
       "      <td>1</td>\n",
       "      <td>1</td>\n",
       "      <td>0</td>\n",
       "      <td>0</td>\n",
       "      <td>0</td>\n",
       "      <td>2</td>\n",
       "    </tr>\n",
       "    <tr>\n",
       "      <th>4</th>\n",
       "      <td>199</td>\n",
       "      <td>199</td>\n",
       "      <td>199</td>\n",
       "      <td>199</td>\n",
       "      <td>199</td>\n",
       "      <td>199</td>\n",
       "      <td>199</td>\n",
       "      <td>199</td>\n",
       "      <td>200</td>\n",
       "      <td>200</td>\n",
       "      <td>...</td>\n",
       "      <td>75</td>\n",
       "      <td>77</td>\n",
       "      <td>77</td>\n",
       "      <td>77</td>\n",
       "      <td>78</td>\n",
       "      <td>78</td>\n",
       "      <td>79</td>\n",
       "      <td>79</td>\n",
       "      <td>79</td>\n",
       "      <td>0</td>\n",
       "    </tr>\n",
       "  </tbody>\n",
       "</table>\n",
       "<p>5 rows × 65537 columns</p>\n",
       "</div>"
      ],
      "text/plain": [
       "     0    1    2    3    4    5    6    7    8    9  ...  65527  65528  65529  \\\n",
       "0  117  119  120  121  120  118  115  113  116  116  ...    205    200    201   \n",
       "1   86   86   86   85   85   85   84   84   85   85  ...    100     97     97   \n",
       "2   82   82   82   83   84   85   87   87   87   87  ...     36     34     33   \n",
       "3    0    0    0    0    0    0    0    0    0    0  ...      2      3      3   \n",
       "4  199  199  199  199  199  199  199  199  200  200  ...     75     77     77   \n",
       "\n",
       "   65530  65531  65532  65533  65534  65535  label  \n",
       "0    203    204    204    203    202    201     13  \n",
       "1     96     95     93     94     96     98     23  \n",
       "2     31     30     30     31     33     34      0  \n",
       "3      2      1      1      0      0      0      2  \n",
       "4     77     78     78     79     79     79      0  \n",
       "\n",
       "[5 rows x 65537 columns]"
      ]
     },
     "execution_count": 40,
     "metadata": {},
     "output_type": "execute_result"
    }
   ],
   "source": [
    "train_df.head()"
   ]
  },
  {
   "cell_type": "code",
   "execution_count": 41,
   "metadata": {},
   "outputs": [
    {
     "data": {
      "text/plain": [
       "np.int64(0)"
      ]
     },
     "execution_count": 41,
     "metadata": {},
     "output_type": "execute_result"
    }
   ],
   "source": [
    "train_df.isna().sum().sum()"
   ]
  },
  {
   "cell_type": "markdown",
   "metadata": {},
   "source": [
    "### Insight\n",
    "\n",
    "<span style=\"color:hotpink\">\n",
    "Does anything stand out as peculiar about the feature values in our <code>DataFrame</code>?<br>\n",
    "Do we have to encode or scale our data?<br>\n",
    "Why? Or, why not?<br>\n",
    "</span>"
   ]
  },
  {
   "cell_type": "markdown",
   "metadata": {
    "tags": [
     "work_cell"
    ]
   },
   "source": [
    "<span style=\"color:yellow;\">\n",
    "Scaling is not required as the pixel values are in the same range, 0-255.\n",
    "\n",
    "Encoding is not required as there is no qualitative value in the dataframe.\n",
    "\n",
    "There is no NaN values.</span>"
   ]
  },
  {
   "cell_type": "markdown",
   "metadata": {},
   "source": [
    "### Test Files\n",
    "\n",
    "If that worked, repeat the process for the test files inside the `./data/image/0801-500/test/` directory.\n",
    "\n",
    "We can almost use the exact same steps as we did above to create a `DataFrame`, the only difference being that we don't have labels for these images."
   ]
  },
  {
   "cell_type": "code",
   "execution_count": 42,
   "metadata": {
    "tags": [
     "work_cell"
    ]
   },
   "outputs": [
    {
     "name": "stdout",
     "output_type": "stream",
     "text": [
      "1573\n",
      "['14988432.jpg', '5592165.jpg', '11093418.jpg', '9283265.jpg', '13904397.jpg', '7739928.jpg', '13479893.jpg', '7458003.jpg', '6404325.jpg', '9290985.jpg', '12219053.jpg', '8220592.jpg', '8543611.jpg', '13464650.jpg', '9733942.jpg', '7982251.jpg', '7792212.jpg', '5784261.jpg', '6898947.jpg', '8873466.jpg', '8243216.jpg', '14766743.jpg', '13570821.jpg', '15034679.jpg', '16032745.jpg', '11590025.jpg', '10387542.jpg', '10972659.jpg', '12569433.jpg', '15677841.jpg', '14803978.jpg', '8121966.jpg', '8119438.jpg', '13832059.jpg', '10354550.jpg', '10032152.jpg', '6005832.jpg', '6593025.jpg', '5690715.jpg', '11102079.jpg', '12681086.jpg', '15977215.jpg', '15770408.jpg', '5797617.jpg', '10513891.jpg', '10329950.jpg', '9195185.jpg', '12394689.jpg', '15615310.jpg', '8502292.jpg', '14910193.jpg', '8540171.jpg', '11989901.jpg', '8621057.jpg', '9246565.jpg', '15602712.jpg', '12526954.jpg', '11838026.jpg', '12710918.jpg', '15087984.jpg', '7117954.jpg', '16270909.jpg', '12797500.jpg', '16324208.jpg', '9378105.jpg', '16008065.jpg', '12547555.jpg', '14548737.jpg', '10754982.jpg', '10579109.jpg', '8589641.jpg', '8183339.jpg', '14512365.jpg', '8969912.jpg', '7752588.jpg', '16298992.jpg', '8041949.jpg', '7025422.jpg', '8459756.jpg', '15658062.jpg', '8780478.jpg', '10811083.jpg', '10509307.jpg', '5417360.jpg', '11196998.jpg', '15761208.jpg', '7876008.jpg', '7891133.jpg', '8172462.jpg', '16028393.jpg', '12610865.jpg', '6817767.jpg', '8378569.jpg', '7547841.jpg', '10669441.jpg', '8686303.jpg', '7402266.jpg', '15305679.jpg', '8349872.jpg', '6641475.jpg', '9191515.jpg', '10623900.jpg', '5290480.jpg', '15363726.jpg', '10653017.jpg', '7303018.jpg', '15983719.jpg', '6019944.jpg', '11238475.jpg', '6874593.jpg', '9952025.jpg', '15684616.jpg', '15341643.jpg', '5949384.jpg', '13527647.jpg', '8159838.jpg', '10644520.jpg', '15832496.jpg', '10870721.jpg', '5655153.jpg', '11131974.jpg', '8175344.jpg', '6909771.jpg', '14835599.jpg', '12923369.jpg', '13772050.jpg', '6769059.jpg', '10678450.jpg', '5962718.jpg', '14017597.jpg', '10369703.jpg', '8768536.jpg', '10571682.jpg', '11160154.jpg', '6762338.jpg', '5967334.jpg', '8380049.jpg', '7633716.jpg', '10468247.jpg', '7857864.jpg', '14754192.jpg', '8200866.jpg', '15103443.jpg', '7931345.jpg', '7573923.jpg', '10657614.jpg', '12299185.jpg', '10870919.jpg', '13517650.jpg', '9216331.jpg', '6137977.jpg', '8046222.jpg', '9269205.jpg', '8693821.jpg', '11041683.jpg', '15425916.jpg', '16505473.jpg', '6603225.jpg', '13639550.jpg', '12075833.jpg', '14669197.jpg', '8259841.jpg', '11480628.jpg', '10708507.jpg', '13073699.jpg', '8272304.jpg', '7504371.jpg', '5280080.jpg', '7466697.jpg', '8226233.jpg', '15434255.jpg', '9362651.jpg', '10177175.jpg', '15354251.jpg', '14803877.jpg', '7709916.jpg', '6473175.jpg', '8210896.jpg', '6054887.jpg', '8371973.jpg', '10653850.jpg', '11043080.jpg', '15179649.jpg', '13428665.jpg', '5530845.jpg', '7636764.jpg', '10272966.jpg', '9958760.jpg', '13025185.jpg', '14863057.jpg', '14218526.jpg', '5373680.jpg', '14945169.jpg', '9356665.jpg', '15960376.jpg', '11643314.jpg', '7791336.jpg', '10034975.jpg', '12723385.jpg', '8430119.jpg', '5995537.jpg', '12028093.jpg', '13670909.jpg', '5976566.jpg', '13590281.jpg', '12482206.jpg', '12632845.jpg', '8148202.jpg', '6935306.jpg', '12613119.jpg', '16001568.jpg', '10277058.jpg', '13803850.jpg', '6740866.jpg', '15156201.jpg', '10729278.jpg', '11041334.jpg', '8417744.jpg', '8990744.jpg', '5661614.jpg', '9165119.jpg', '8214356.jpg', '14114239.jpg', '11606139.jpg', '5240560.jpg', '7356573.jpg', '10308113.jpg', '8600357.jpg', '10431293.jpg', '14428834.jpg', '14722413.jpg', '10716426.jpg', '8323982.jpg', '11680402.jpg', '8206949.jpg', '13890953.jpg', '6963638.jpg', '13022500.jpg', '11465425.jpg', '5697447.jpg', '10481650.jpg', '11673369.jpg', '14405249.jpg', '14241262.jpg', '16200707.jpg', '9457759.jpg', '15017967.jpg', '8356336.jpg', '5533318.jpg', '10600550.jpg', '14370821.jpg', '6076253.jpg', '9080445.jpg', '8160986.jpg', '13581513.jpg', '8747704.jpg', '10849549.jpg', '10908503.jpg', '10228525.jpg', '12204731.jpg', '10252506.jpg', '8526979.jpg', '9490681.jpg', '8276524.jpg', '10616063.jpg', '9821560.jpg', '11645652.jpg', '13520051.jpg', '11986378.jpg', '8716456.jpg', '10248275.jpg', '13967899.jpg', '15694854.jpg', '15304008.jpg', '10677613.jpg', '15403013.jpg', '8095363.jpg', '10784440.jpg', '6189684.jpg', '14651983.jpg', '15111613.jpg', '7565562.jpg', '5773462.jpg', '11024874.jpg', '12593703.jpg', '10714486.jpg', '8097776.jpg', '7848455.jpg', '8719928.jpg', '5570265.jpg', '12464765.jpg', '10995371.jpg', '13406350.jpg', '13439245.jpg', '13434011.jpg', '9116745.jpg', '11691492.jpg', '8317552.jpg', '13512011.jpg', '9352695.jpg', '11349725.jpg', '16106690.jpg', '9316295.jpg', '6834003.jpg', '7618968.jpg', '15920752.jpg', '16355728.jpg', '10272550.jpg', '11824118.jpg', '7594776.jpg', '12522500.jpg', '8373381.jpg', '14377678.jpg', '5690769.jpg', '7258041.jpg', '5890584.jpg', '15289153.jpg', '11458233.jpg', '6804938.jpg', '8630399.jpg', '5981293.jpg', '8863134.jpg', '13355471.jpg', '13559949.jpg', '16026912.jpg', '14376559.jpg', '14497042.jpg', '10637450.jpg', '5822909.jpg', '9920425.jpg', '15012689.jpg', '14644826.jpg', '15486366.jpg', '14590409.jpg', '9503465.jpg', '10530762.jpg', '12409251.jpg', '5619586.jpg', '12954317.jpg', '8871739.jpg', '6011186.jpg', '8329099.jpg', '16069765.jpg', '7916269.jpg', '8410091.jpg', '16369056.jpg', '15300989.jpg', '15840456.jpg', '11127814.jpg', '12269965.jpg', '13549450.jpg', '5692582.jpg', '13446571.jpg', '8279629.jpg', '8116957.jpg', '10484671.jpg', '8865752.jpg', '12696002.jpg', '13381055.jpg', '8421443.jpg', '11615498.jpg', '8170574.jpg', '5780386.jpg', '11028741.jpg', '10979480.jpg', '15930604.jpg', '7260958.jpg', '7454754.jpg', '10659938.jpg', '10110025.jpg', '8520383.jpg', '16197984.jpg', '16162670.jpg', '7518861.jpg', '8280871.jpg', '7007187.jpg', '14133559.jpg', '13414447.jpg', '13198931.jpg', '14478345.jpg', '6626175.jpg', '8923249.jpg', '14909997.jpg', '5858858.jpg', '15901430.jpg', '8084282.jpg', '14514271.jpg', '16199990.jpg', '11659404.jpg', '6990951.jpg', '15545315.jpg', '10848967.jpg', '15353704.jpg', '12795442.jpg', '11485212.jpg', '6031147.jpg', '8077782.jpg', '8420169.jpg', '12867500.jpg', '14857139.jpg', '10548300.jpg', '11718996.jpg', '10954040.jpg', '8453212.jpg', '8420492.jpg', '10513078.jpg', '6401775.jpg', '8305972.jpg', '5221840.jpg', '15882928.jpg', '10297150.jpg', '6109489.jpg', '15785592.jpg', '15723444.jpg', '6062009.jpg', '5782694.jpg', '6012888.jpg', '8625498.jpg', '7303122.jpg', '5487045.jpg', '10596234.jpg', '8624491.jpg', '14733495.jpg', '7624572.jpg', '8197307.jpg', '15671290.jpg', '11157678.jpg', '11851934.jpg', '15390472.jpg', '11930746.jpg', '14304707.jpg', '8338723.jpg', '9991525.jpg', '12597500.jpg', '5305040.jpg', '15755095.jpg', '7408098.jpg', '10913700.jpg', '14910401.jpg', '10938900.jpg', '9975725.jpg', '5884246.jpg', '15706344.jpg', '5796542.jpg', '7782264.jpg', '10819242.jpg', '6100862.jpg', '5946562.jpg', '15216816.jpg', '13279150.jpg', '8383387.jpg', '10771720.jpg', '13418857.jpg', '15267579.jpg', '11545525.jpg', '5671005.jpg', '6111672.jpg', '13170953.jpg', '5608407.jpg', '7400043.jpg', '10998094.jpg', '8117357.jpg', '8282927.jpg', '14710815.jpg', '11819482.jpg', '10165325.jpg', '13256329.jpg', '12782500.jpg', '9684386.jpg', '5650701.jpg', '13472117.jpg', '16178976.jpg', '14959463.jpg', '7839245.jpg', '13533550.jpg', '8969898.jpg', '6417328.jpg', '15934002.jpg', '8303369.jpg', '13739887.jpg', '13923657.jpg', '8013671.jpg', '13692550.jpg', '15449574.jpg', '7371063.jpg', '15688056.jpg', '10472353.jpg', '7830648.jpg', '7446006.jpg', '7991677.jpg', '11115021.jpg', '8646162.jpg', '11114838.jpg', '8052322.jpg', '5681955.jpg', '5657865.jpg', '8794254.jpg', '10370950.jpg', '10563650.jpg', '15674885.jpg', '8699096.jpg', '8256866.jpg', '16380944.jpg', '11067278.jpg', '15878814.jpg', '5938561.jpg', '15708610.jpg', '10964898.jpg', '15607015.jpg', '12185967.jpg', '11208686.jpg', '8385424.jpg', '14892411.jpg', '14718718.jpg', '12386845.jpg', '16296437.jpg', '10544100.jpg', '15298404.jpg', '10959717.jpg', '16034224.jpg', '12576674.jpg', '14028641.jpg', '5563695.jpg', '5586406.jpg', '10845533.jpg', '8131434.jpg', '13484601.jpg', '15101883.jpg', '15314303.jpg', '13310950.jpg', '10579866.jpg', '16558099.jpg', '6796119.jpg', '13353350.jpg', '5253040.jpg', '14263851.jpg', '10798406.jpg', '10651546.jpg', '11708218.jpg', '10496989.jpg', '6026399.jpg', '5891969.jpg', '9536495.jpg', '8000997.jpg', '15874848.jpg', '8094777.jpg', '8489204.jpg', '7818552.jpg', '12646282.jpg', '8533597.jpg', '10702801.jpg', '10830297.jpg', '9950920.jpg', '10920262.jpg', '8188242.jpg', '14887241.jpg', '13599941.jpg', '7721784.jpg', '15709132.jpg', '10632487.jpg', '16117741.jpg', '5714702.jpg', '10033240.jpg', '6813334.jpg', '8628942.jpg', '5630667.jpg', '6386475.jpg', '9413863.jpg', '8556661.jpg', '5590599.jpg', '10865542.jpg', '10939393.jpg', '13995723.jpg', '8158739.jpg', '15970794.jpg', '8804586.jpg', '16418768.jpg', '10858097.jpg', '11389775.jpg', '8909513.jpg', '11149475.jpg', '7244134.jpg', '8309797.jpg', '8217628.jpg', '10928482.jpg', '15215769.jpg', '16621919.jpg', '5775357.jpg', '10040056.jpg', '13495811.jpg', '15920090.jpg', '10814120.jpg', '7935351.jpg', '7260939.jpg', '12717500.jpg', '12591385.jpg', '5639494.jpg', '13703150.jpg', '14824123.jpg', '7408737.jpg', '8204432.jpg', '8058846.jpg', '14865456.jpg', '15474696.jpg', '12995005.jpg', '6153324.jpg', '13683087.jpg', '7753285.jpg', '8363359.jpg', '16438752.jpg', '16180399.jpg', '13245893.jpg', '6038269.jpg', '14663793.jpg', '8023558.jpg', '8779021.jpg', '9424837.jpg', '12171313.jpg', '13489403.jpg', '8085937.jpg', '6546256.jpg', '11145219.jpg', '13580707.jpg', '8194724.jpg', '5755323.jpg', '14206185.jpg', '10616950.jpg', '16081810.jpg', '7970478.jpg', '6485925.jpg', '13835371.jpg', '8084848.jpg', '8224906.jpg', '6869698.jpg', '11961257.jpg', '8711598.jpg', '11015799.jpg', '6882711.jpg', '9455755.jpg', '12491769.jpg', '11054266.jpg', '13718663.jpg', '6511425.jpg', '8071961.jpg', '10493950.jpg', '8136209.jpg', '16123033.jpg', '6869181.jpg', '5539605.jpg', '15897005.jpg', '13542943.jpg', '12647500.jpg', '5886554.jpg', '13651011.jpg', '15882770.jpg', '15267432.jpg', '10312219.jpg', '15843944.jpg', '10618841.jpg', '15551433.jpg', '5211440.jpg', '14804481.jpg', '8523583.jpg', '7908036.jpg', '11399967.jpg', '12527500.jpg', '10204825.jpg', '14548198.jpg', '15413772.jpg', '9393365.jpg', '7875957.jpg', '8651963.jpg', '10744781.jpg', '6073332.jpg', '8143024.jpg', '15413431.jpg', '5843627.jpg', '10896563.jpg', '12190409.jpg', '15232407.jpg', '6899998.jpg', '9213535.jpg', '7951542.jpg', '8017818.jpg', '12318665.jpg', '8935458.jpg', '11218618.jpg', '13703563.jpg', '5959927.jpg', '12947500.jpg', '7880604.jpg', '6125784.jpg', '5970552.jpg', '12845162.jpg', '12602665.jpg', '6972009.jpg', '6116611.jpg', '14769874.jpg', '15439496.jpg', '15359124.jpg', '7649208.jpg', '12556786.jpg', '13864183.jpg', '12642243.jpg', '15826593.jpg', '8309311.jpg', '13103899.jpg', '7530453.jpg', '5396560.jpg', '12747500.jpg', '7907217.jpg', '8239984.jpg', '5352880.jpg', '11028362.jpg', '8897574.jpg', '12380127.jpg', '7176838.jpg', '9167565.jpg', '8094544.jpg', '10883502.jpg', '7712712.jpg', '11252061.jpg', '10719593.jpg', '16072048.jpg', '10287775.jpg', '10734151.jpg', '11021207.jpg', '10264075.jpg', '9091335.jpg', '14491319.jpg', '12676114.jpg', '10212725.jpg', '7047777.jpg', '7923138.jpg', '10749900.jpg', '10911640.jpg', '13564789.jpg', '8194093.jpg', '15147121.jpg', '7697724.jpg', '16022011.jpg', '5961029.jpg', '7995815.jpg', '7845768.jpg', '8360021.jpg', '9676762.jpg', '11732748.jpg', '11318575.jpg', '14464947.jpg', '15753804.jpg', '15877032.jpg', '7306038.jpg', '15611373.jpg', '7637112.jpg', '12457346.jpg', '12258777.jpg', '15845187.jpg', '8521924.jpg', '9187067.jpg', '10933691.jpg', '12683915.jpg', '7550982.jpg', '15794672.jpg', '15623336.jpg', '12229653.jpg', '14129787.jpg', '12540309.jpg', '8569853.jpg', '11256275.jpg', '15273528.jpg', '14783957.jpg', '5626222.jpg', '11041879.jpg', '10976474.jpg', '15621530.jpg', '7417431.jpg', '7808545.jpg', '7920228.jpg', '14100427.jpg', '11037726.jpg', '15566277.jpg', '11229651.jpg', '7688815.jpg', '13759721.jpg', '15213396.jpg', '8369264.jpg', '15586568.jpg', '12452374.jpg', '12386143.jpg', '8151919.jpg', '5727974.jpg', '12128347.jpg', '15087941.jpg', '16025830.jpg', '16143269.jpg', '12201785.jpg', '13382431.jpg', '10581900.jpg', '13766417.jpg', '9527261.jpg', '12416065.jpg', '14812752.jpg', '12995581.jpg', '14684614.jpg', '10506300.jpg', '11630075.jpg', '7799335.jpg', '14591745.jpg', '7869139.jpg', '16049721.jpg', '6963891.jpg', '10874934.jpg', '15193392.jpg', '11171103.jpg', '16080711.jpg', '7376022.jpg', '11296325.jpg', '8174809.jpg', '7323534.jpg', '14455665.jpg', '5559315.jpg', '12972500.jpg', '9341805.jpg', '9472391.jpg', '14969581.jpg', '10682700.jpg', '16069370.jpg', '10309794.jpg', '14231881.jpg', '5323760.jpg', '14320838.jpg', '10633062.jpg', '6777177.jpg', '10386127.jpg', '7812504.jpg', '8551372.jpg', '5907048.jpg', '14275366.jpg', '7707235.jpg', '8724077.jpg', '11588211.jpg', '8370863.jpg', '13963599.jpg', '7709688.jpg', '7346862.jpg', '12621422.jpg', '13530703.jpg', '10287583.jpg', '15561484.jpg', '10074475.jpg', '14440202.jpg', '16464096.jpg', '14220677.jpg', '5838086.jpg', '8497297.jpg', '6818702.jpg', '11523275.jpg', '7691885.jpg', '5764227.jpg', '14170259.jpg', '10461198.jpg', '9996584.jpg', '9505313.jpg', '6996363.jpg', '5828854.jpg', '13454050.jpg', '14297367.jpg', '7734865.jpg', '15820570.jpg', '7941603.jpg', '10236138.jpg', '5542166.jpg', '13512350.jpg', '13532953.jpg', '14659785.jpg', '8892343.jpg', '9238279.jpg', '14682465.jpg', '10518900.jpg', '10452950.jpg', '10999139.jpg', '8820616.jpg', '9268585.jpg', '10930781.jpg', '5719126.jpg', '14200515.jpg', '10293050.jpg', '10788683.jpg', '8672567.jpg', '12654695.jpg', '5900402.jpg', '7850949.jpg', '11452075.jpg', '11595228.jpg', '8184908.jpg', '8831032.jpg', '6183083.jpg', '9182085.jpg', '10725080.jpg', '8097673.jpg', '6934114.jpg', '15136883.jpg', '15505176.jpg', '15826192.jpg', '5863474.jpg', '15653049.jpg', '8949234.jpg', '10543038.jpg', '11196234.jpg', '6501225.jpg', '7249347.jpg', '14672208.jpg', '10896354.jpg', '15616852.jpg', '14234535.jpg', '5588373.jpg', '12581645.jpg', '10729877.jpg', '5284240.jpg', '8388463.jpg', '8374684.jpg', '8322332.jpg', '15541284.jpg', '5988106.jpg', '7730856.jpg', '7330491.jpg', '15687012.jpg', '11426859.jpg', '6005033.jpg', '10895007.jpg', '11067523.jpg', '8304806.jpg', '5939638.jpg', '12405239.jpg', '10656623.jpg', '13565350.jpg', '16216992.jpg', '8312516.jpg', '11131675.jpg', '10859100.jpg', '8431337.jpg', '15899096.jpg', '14951031.jpg', '9021992.jpg', '13613769.jpg', '11985127.jpg', '14492877.jpg', '10839560.jpg', '10670100.jpg', '11638678.jpg', '14461335.jpg', '10985122.jpg', '10924360.jpg', '6333904.jpg', '5598735.jpg', '8010529.jpg', '6081096.jpg', '12506331.jpg', '13912679.jpg', '11054306.jpg', '13146751.jpg', '5585595.jpg', '11893188.jpg', '11977106.jpg', '15629464.jpg', '13698455.jpg', '8180162.jpg', '15945968.jpg', '8071498.jpg', '6861646.jpg', '7937485.jpg', '8768719.jpg', '6724762.jpg', '11636484.jpg', '10840366.jpg', '10759266.jpg', '8904462.jpg', '10448922.jpg', '12476849.jpg', '8049378.jpg', '10732187.jpg', '10803553.jpg', '11050427.jpg', '14495355.jpg', '10834611.jpg', '8643751.jpg', '15868512.jpg', '11596954.jpg', '15736585.jpg', '11424874.jpg', '16015312.jpg', '11002857.jpg', '11363075.jpg', '12917500.jpg', '7938516.jpg', '14431431.jpg', '5870398.jpg', '9876440.jpg', '8649606.jpg', '10951089.jpg', '16334729.jpg', '12927500.jpg', '10518089.jpg', '14953296.jpg', '8654109.jpg', '10793987.jpg', '15693395.jpg', '11777758.jpg', '7947689.jpg', '13671439.jpg', '6159343.jpg', '6389025.jpg', '12343177.jpg', '9444745.jpg', '8219802.jpg', '7983102.jpg', '8677158.jpg', '15629156.jpg', '7020717.jpg', '5497995.jpg', '14827929.jpg', '14608755.jpg', '7391349.jpg', '12423813.jpg', '15022843.jpg', '9385365.jpg', '14565913.jpg', '5962301.jpg', '7801356.jpg', '16213471.jpg', '8007578.jpg', '14695982.jpg', '14935728.jpg', '11256543.jpg', '11376425.jpg', '5595254.jpg', '16487897.jpg', '5799889.jpg', '15129367.jpg', '8673793.jpg', '10826840.jpg', '15854286.jpg', '8813672.jpg', '7783068.jpg', '11131633.jpg', '13818307.jpg', '8327248.jpg', '5948057.jpg', '5311280.jpg', '10852280.jpg', '15733623.jpg', '8129026.jpg', '14900323.jpg', '15666232.jpg', '8513569.jpg', '10850700.jpg', '8276042.jpg', '10436646.jpg', '10283477.jpg', '8352746.jpg', '8129813.jpg', '10046825.jpg', '13047161.jpg', '11646477.jpg', '12375273.jpg', '6424725.jpg', '5893478.jpg', '8243804.jpg', '8723863.jpg', '9418035.jpg', '10543277.jpg', '12767500.jpg', '5684091.jpg', '15093859.jpg', '5996424.jpg', '12725834.jpg', '7318899.jpg', '10821300.jpg', '8490203.jpg', '15566136.jpg', '5728611.jpg', '14648445.jpg', '10443611.jpg', '13305650.jpg', '10737300.jpg', '15801910.jpg', '13093583.jpg', '7977395.jpg', '14456891.jpg', '14666352.jpg', '8590151.jpg', '14029239.jpg', '16286384.jpg', '11024038.jpg', '7773924.jpg', '12278193.jpg', '10724700.jpg', '9915640.jpg', '12435545.jpg', '6276948.jpg', '9550966.jpg', '10661700.jpg', '8814918.jpg', '14342265.jpg', '14701488.jpg', '15952535.jpg', '5484855.jpg', '16583627.jpg', '11235813.jpg', '11171054.jpg', '13708051.jpg', '10971473.jpg', '7844028.jpg', '11171725.jpg', '13356641.jpg', '8490351.jpg', '15458935.jpg', '10576861.jpg', '5995559.jpg', '7486983.jpg', '9252911.jpg', '16012533.jpg', '13272959.jpg', '15489785.jpg', '14183505.jpg', '5583405.jpg', '12285889.jpg', '8249947.jpg', '12004922.jpg', '7033082.jpg', '9896725.jpg', '12487178.jpg', '15208959.jpg', '7652004.jpg', '8023097.jpg', '15615861.jpg', '13105007.jpg', '8234494.jpg', '6778442.jpg', '14506379.jpg', '15085857.jpg', '8027286.jpg', '15773605.jpg', '8837399.jpg', '11939028.jpg', '10682680.jpg', '8943853.jpg', '16381728.jpg', '10894318.jpg', '15347576.jpg', '8165167.jpg', '14577389.jpg', '11235914.jpg', '14393295.jpg', '15128976.jpg', '6168839.jpg', '8695624.jpg', '12855106.jpg', '10268450.jpg', '13662207.jpg', '15052433.jpg', '13201901.jpg', '13257950.jpg', '12532945.jpg', '5723565.jpg', '7160014.jpg', '5945683.jpg', '9880925.jpg', '13324163.jpg', '11705244.jpg', '8164487.jpg', '13750850.jpg', '12692500.jpg', '15788792.jpg', '11768486.jpg', '8749482.jpg', '9521815.jpg', '8483667.jpg', '14858551.jpg', '13936689.jpg', '16083936.jpg', '11145025.jpg', '11842764.jpg', '10816486.jpg', '10432554.jpg', '7926294.jpg', '10697702.jpg', '16315583.jpg', '14716551.jpg', '9871174.jpg', '12635215.jpg', '7887991.jpg', '15486888.jpg', '7679436.jpg', '11261858.jpg', '7857665.jpg', '5747882.jpg', '12190821.jpg', '6147473.jpg', '8430308.jpg', '15419832.jpg', '13376249.jpg', '8345236.jpg', '12552500.jpg', '15647848.jpg', '8068747.jpg', '5939976.jpg', '7362369.jpg', '5642535.jpg', '5998776.jpg', '10869123.jpg', '14945909.jpg', '10694442.jpg', '9113115.jpg', '15878495.jpg', '14880687.jpg', '15227757.jpg', '8322653.jpg', '6990478.jpg', '7975967.jpg', '15568184.jpg', '6076392.jpg', '15324661.jpg', '14017419.jpg', '8742594.jpg', '15923608.jpg', '15578346.jpg', '13631897.jpg', '6133229.jpg', '14035811.jpg', '10248414.jpg', '15814524.jpg', '13868503.jpg', '16305696.jpg', '11865842.jpg', '11956483.jpg', '14877168.jpg', '15161823.jpg', '7982241.jpg', '14747138.jpg', '7278327.jpg', '7965115.jpg', '11444787.jpg', '16096608.jpg', '8355052.jpg', '8473513.jpg', '14180061.jpg', '16097264.jpg', '8026754.jpg', '15523068.jpg', '10937558.jpg', '8758417.jpg', '5377840.jpg', '12156843.jpg', '15857890.jpg', '15676458.jpg', '9323635.jpg', '10939303.jpg', '8734379.jpg', '13516893.jpg', '11810676.jpg', '8117168.jpg', '6570075.jpg', '7564536.jpg', '9450443.jpg', '14968617.jpg', '11496575.jpg', '5317520.jpg', '9326071.jpg', '10848758.jpg', '8350007.jpg', '10694077.jpg', '8441231.jpg', '13421527.jpg', '6090504.jpg', '6870122.jpg', '12768655.jpg', '10727074.jpg', '16223344.jpg', '7573608.jpg', '10416050.jpg', '10423081.jpg', '10768343.jpg', '5878157.jpg', '5907326.jpg', '7904202.jpg', '13469247.jpg', '10836378.jpg', '15358872.jpg', '8851864.jpg', '5661831.jpg', '8623723.jpg', '9454335.jpg', '10998543.jpg', '15733490.jpg', '6844827.jpg', '7770876.jpg', '8487403.jpg', '9481445.jpg', '10271159.jpg', '15485499.jpg', '5883528.jpg', '8472844.jpg', '9892775.jpg', '14970864.jpg', '10473474.jpg', '6131508.jpg', '5904696.jpg', '6313308.jpg', '15384344.jpg', '16007170.jpg', '8049463.jpg', '7743444.jpg', '8976856.jpg', '10804413.jpg', '11508132.jpg', '8039821.jpg', '12992500.jpg', '12118799.jpg', '5641706.jpg', '8263258.jpg', '11192673.jpg', '5848231.jpg', '8603887.jpg', '15357594.jpg', '13742937.jpg', '11179702.jpg', '15053931.jpg', '11911524.jpg', '6722078.jpg', '16424077.jpg', '5794234.jpg', '10428350.jpg', '8590343.jpg', '5517705.jpg', '15816072.jpg', '16502112.jpg', '15909474.jpg', '10345067.jpg', '11067714.jpg', '5980706.jpg', '10855402.jpg', '12372235.jpg', '8717209.jpg', '9280095.jpg', '8408251.jpg', '6102264.jpg', '15229973.jpg', '7655052.jpg', '10892027.jpg', '6853594.jpg', '15476264.jpg', '5761154.jpg', '9382355.jpg', '12231005.jpg', '12196915.jpg', '5615162.jpg', '10886522.jpg', '5735289.jpg', '10501297.jpg', '11153847.jpg', '14285565.jpg', '13294183.jpg', '15101399.jpg', '15749016.jpg', '15633534.jpg', '13775229.jpg', '15329192.jpg', '15251952.jpg', '7874508.jpg', '12176087.jpg', '5662245.jpg', '15164112.jpg', '10209640.jpg', '10912263.jpg', '10098175.jpg', '9254685.jpg', '15577990.jpg', '8847701.jpg', '12844105.jpg', '7872281.jpg', '12142281.jpg', '6450225.jpg', '7793195.jpg', '6052872.jpg', '14929872.jpg', '5573134.jpg', '6901653.jpg', '11305225.jpg', '7676424.jpg', '10350714.jpg', '8292022.jpg', '12046646.jpg', '9432555.jpg', '9232905.jpg', '10793538.jpg', '11209929.jpg', '9214755.jpg', '10733562.jpg', '10810994.jpg', '8052677.jpg', '15662545.jpg', '11549388.jpg', '6059928.jpg', '6894566.jpg', '9351677.jpg', '5621763.jpg', '15247727.jpg', '9293149.jpg', '13548871.jpg', '16526189.jpg', '7907358.jpg', '8754983.jpg', '14707344.jpg', '15849504.jpg', '15024517.jpg', '12362273.jpg', '15395448.jpg', '5555438.jpg', '16115616.jpg', '15582335.jpg', '15140688.jpg', '10233704.jpg', '10704233.jpg', '6519075.jpg', '10903306.jpg', '16153632.jpg', '10809880.jpg', '15566082.jpg', '15863781.jpg', '8262608.jpg', '10457050.jpg', '9329729.jpg', '8789323.jpg', '12899854.jpg', '16232617.jpg', '7994794.jpg', '12874994.jpg', '11942161.jpg', '13400303.jpg', '10086325.jpg', '10623320.jpg', '10648760.jpg', '15868456.jpg', '8876168.jpg', '10407850.jpg', '16242256.jpg', '6031958.jpg', '8342291.jpg', '15452765.jpg', '5817651.jpg', '8263436.jpg', '15310104.jpg', '7691544.jpg', '11105989.jpg', '11150387.jpg', '6422384.jpg', '15788368.jpg', '6440025.jpg', '14073927.jpg', '11176175.jpg', '12321879.jpg', '16079449.jpg', '7123562.jpg', '12433883.jpg', '12028102.jpg', '7826965.jpg', '12810358.jpg', '9217205.jpg', '13480550.jpg', '5675187.jpg', '15912864.jpg', '10395726.jpg', '14421645.jpg', '12702500.jpg', '15144477.jpg', '13394403.jpg', '15003789.jpg', '9558515.jpg', '13672971.jpg', '8004382.jpg', '14817527.jpg', '14944621.jpg', '15334836.jpg', '15990101.jpg', '11011961.jpg', '9258315.jpg', '14634769.jpg', '7892796.jpg', '8759814.jpg', '5892936.jpg', '13601837.jpg', '6584176.jpg', '11534427.jpg', '8533797.jpg', '14686411.jpg', '6394576.jpg', '7275429.jpg', '13944493.jpg', '15070416.jpg', '7935121.jpg', '5577243.jpg', '10816147.jpg', '5699218.jpg', '12331587.jpg', '11214977.jpg', '15510894.jpg', '9642454.jpg', '14299219.jpg', '15249828.jpg', '11870268.jpg', '13819477.jpg', '9916475.jpg', '13522707.jpg', '14240205.jpg', '8252912.jpg', '12450155.jpg', '14514094.jpg', '8011506.jpg', '15584210.jpg', '8697822.jpg', '8945608.jpg', '7576632.jpg', '11628549.jpg', '7388451.jpg', '12673085.jpg', '13288877.jpg', '12161697.jpg', '16002704.jpg', '14191233.jpg', '8704239.jpg', '10596998.jpg', '13385150.jpg', '12437458.jpg', '6052513.jpg', '16135088.jpg', '8162416.jpg', '9222015.jpg', '10571822.jpg', '11088893.jpg', '10875900.jpg', '10619080.jpg', '5539954.jpg', '14687241.jpg', '9488785.jpg', '5975256.jpg', '10712100.jpg', '8197996.jpg', '10334346.jpg', '8113046.jpg', '14821631.jpg', '13851550.jpg', '8068314.jpg', '15730415.jpg', '10808727.jpg', '9145785.jpg', '10665019.jpg', '6793413.jpg', '5982312.jpg', '8918238.jpg', '7364358.jpg', '15584424.jpg', '12949574.jpg', '11512716.jpg', '12333629.jpg', '7710305.jpg', '5359120.jpg', '5575017.jpg', '5261360.jpg', '15940195.jpg', '8216591.jpg', '15555928.jpg', '10707900.jpg']\n"
     ]
    }
   ],
   "source": [
    "# TODO: create a list of files in the test/ directory\n",
    "test_files = [f for f in listdir(\"./data/image/0801-500/test\") if f.endswith(\".jpg\")]\n",
    "\n",
    "# TODO: check its length and content\n",
    "print(len(test_files))\n",
    "print(test_files)\n",
    "\n",
    "test_pixel_data = []\n",
    "\n",
    "# TODO: loop over files and load their pixels into a list\n",
    "for fname in test_files:\n",
    "  img = PImage.open(path.join(\"./data/image/0801-500/test\", fname))\n",
    "  test_pixel_data.append(get_pixels(img))\n",
    "\n",
    "# TODO: load into DataFrame (this might take 20 - 30 seconds)\n",
    "test_df = pd.DataFrame(test_pixel_data)"
   ]
  },
  {
   "cell_type": "markdown",
   "metadata": {},
   "source": [
    "Check the `DataFrame`"
   ]
  },
  {
   "cell_type": "code",
   "execution_count": 43,
   "metadata": {},
   "outputs": [
    {
     "data": {
      "text/html": [
       "<div>\n",
       "<style scoped>\n",
       "    .dataframe tbody tr th:only-of-type {\n",
       "        vertical-align: middle;\n",
       "    }\n",
       "\n",
       "    .dataframe tbody tr th {\n",
       "        vertical-align: top;\n",
       "    }\n",
       "\n",
       "    .dataframe thead th {\n",
       "        text-align: right;\n",
       "    }\n",
       "</style>\n",
       "<table border=\"1\" class=\"dataframe\">\n",
       "  <thead>\n",
       "    <tr style=\"text-align: right;\">\n",
       "      <th></th>\n",
       "      <th>0</th>\n",
       "      <th>1</th>\n",
       "      <th>2</th>\n",
       "      <th>3</th>\n",
       "      <th>4</th>\n",
       "      <th>5</th>\n",
       "      <th>6</th>\n",
       "      <th>7</th>\n",
       "      <th>8</th>\n",
       "      <th>9</th>\n",
       "      <th>...</th>\n",
       "      <th>65526</th>\n",
       "      <th>65527</th>\n",
       "      <th>65528</th>\n",
       "      <th>65529</th>\n",
       "      <th>65530</th>\n",
       "      <th>65531</th>\n",
       "      <th>65532</th>\n",
       "      <th>65533</th>\n",
       "      <th>65534</th>\n",
       "      <th>65535</th>\n",
       "    </tr>\n",
       "  </thead>\n",
       "  <tbody>\n",
       "    <tr>\n",
       "      <th>0</th>\n",
       "      <td>55</td>\n",
       "      <td>60</td>\n",
       "      <td>51</td>\n",
       "      <td>59</td>\n",
       "      <td>63</td>\n",
       "      <td>62</td>\n",
       "      <td>72</td>\n",
       "      <td>67</td>\n",
       "      <td>65</td>\n",
       "      <td>69</td>\n",
       "      <td>...</td>\n",
       "      <td>83</td>\n",
       "      <td>84</td>\n",
       "      <td>79</td>\n",
       "      <td>83</td>\n",
       "      <td>87</td>\n",
       "      <td>88</td>\n",
       "      <td>84</td>\n",
       "      <td>80</td>\n",
       "      <td>78</td>\n",
       "      <td>78</td>\n",
       "    </tr>\n",
       "    <tr>\n",
       "      <th>1</th>\n",
       "      <td>57</td>\n",
       "      <td>58</td>\n",
       "      <td>60</td>\n",
       "      <td>62</td>\n",
       "      <td>66</td>\n",
       "      <td>69</td>\n",
       "      <td>72</td>\n",
       "      <td>74</td>\n",
       "      <td>71</td>\n",
       "      <td>72</td>\n",
       "      <td>...</td>\n",
       "      <td>185</td>\n",
       "      <td>191</td>\n",
       "      <td>197</td>\n",
       "      <td>193</td>\n",
       "      <td>189</td>\n",
       "      <td>186</td>\n",
       "      <td>185</td>\n",
       "      <td>185</td>\n",
       "      <td>184</td>\n",
       "      <td>183</td>\n",
       "    </tr>\n",
       "    <tr>\n",
       "      <th>2</th>\n",
       "      <td>41</td>\n",
       "      <td>46</td>\n",
       "      <td>39</td>\n",
       "      <td>23</td>\n",
       "      <td>20</td>\n",
       "      <td>31</td>\n",
       "      <td>38</td>\n",
       "      <td>34</td>\n",
       "      <td>31</td>\n",
       "      <td>33</td>\n",
       "      <td>...</td>\n",
       "      <td>80</td>\n",
       "      <td>83</td>\n",
       "      <td>87</td>\n",
       "      <td>81</td>\n",
       "      <td>75</td>\n",
       "      <td>75</td>\n",
       "      <td>78</td>\n",
       "      <td>78</td>\n",
       "      <td>74</td>\n",
       "      <td>70</td>\n",
       "    </tr>\n",
       "    <tr>\n",
       "      <th>3</th>\n",
       "      <td>173</td>\n",
       "      <td>172</td>\n",
       "      <td>164</td>\n",
       "      <td>168</td>\n",
       "      <td>203</td>\n",
       "      <td>246</td>\n",
       "      <td>255</td>\n",
       "      <td>237</td>\n",
       "      <td>249</td>\n",
       "      <td>253</td>\n",
       "      <td>...</td>\n",
       "      <td>173</td>\n",
       "      <td>181</td>\n",
       "      <td>175</td>\n",
       "      <td>168</td>\n",
       "      <td>160</td>\n",
       "      <td>166</td>\n",
       "      <td>175</td>\n",
       "      <td>165</td>\n",
       "      <td>157</td>\n",
       "      <td>165</td>\n",
       "    </tr>\n",
       "    <tr>\n",
       "      <th>4</th>\n",
       "      <td>188</td>\n",
       "      <td>188</td>\n",
       "      <td>188</td>\n",
       "      <td>188</td>\n",
       "      <td>188</td>\n",
       "      <td>188</td>\n",
       "      <td>188</td>\n",
       "      <td>188</td>\n",
       "      <td>185</td>\n",
       "      <td>185</td>\n",
       "      <td>...</td>\n",
       "      <td>178</td>\n",
       "      <td>180</td>\n",
       "      <td>175</td>\n",
       "      <td>180</td>\n",
       "      <td>186</td>\n",
       "      <td>187</td>\n",
       "      <td>184</td>\n",
       "      <td>180</td>\n",
       "      <td>179</td>\n",
       "      <td>180</td>\n",
       "    </tr>\n",
       "  </tbody>\n",
       "</table>\n",
       "<p>5 rows × 65536 columns</p>\n",
       "</div>"
      ],
      "text/plain": [
       "   0      1      2      3      4      5      6      7      8      9      ...  \\\n",
       "0     55     60     51     59     63     62     72     67     65     69  ...   \n",
       "1     57     58     60     62     66     69     72     74     71     72  ...   \n",
       "2     41     46     39     23     20     31     38     34     31     33  ...   \n",
       "3    173    172    164    168    203    246    255    237    249    253  ...   \n",
       "4    188    188    188    188    188    188    188    188    185    185  ...   \n",
       "\n",
       "   65526  65527  65528  65529  65530  65531  65532  65533  65534  65535  \n",
       "0     83     84     79     83     87     88     84     80     78     78  \n",
       "1    185    191    197    193    189    186    185    185    184    183  \n",
       "2     80     83     87     81     75     75     78     78     74     70  \n",
       "3    173    181    175    168    160    166    175    165    157    165  \n",
       "4    178    180    175    180    186    187    184    180    179    180  \n",
       "\n",
       "[5 rows x 65536 columns]"
      ]
     },
     "execution_count": 43,
     "metadata": {},
     "output_type": "execute_result"
    }
   ],
   "source": [
    "test_df.head()"
   ]
  },
  {
   "cell_type": "markdown",
   "metadata": {},
   "source": [
    "Looks like data!!\n",
    "\n",
    "We could train a `RandomForestClassifier` directly on this `DataFrame` and see what would happen, but my guess is that Python runs out of memory and crashes our tab/browser/computer...\n",
    "\n",
    "We'll use _projection_ to reduce the number of dimensions in our dataset. Projection is when we just drop some of the columns in our dataset. \n",
    "\n",
    "Which columns ? That's up to us.\n",
    "\n",
    "Let's first try using the first $N$ columns/features where $N$ is a number around $10$.\n",
    "\n",
    "This is how we get the first $N$ columns from a `DataFrame`:"
   ]
  },
  {
   "cell_type": "code",
   "execution_count": 44,
   "metadata": {},
   "outputs": [],
   "source": [
    "# split input and output features\n",
    "NUM_FEATURES = 30\n",
    "chosen_columns = train_df.columns[:NUM_FEATURES]\n",
    "train_features = train_df[chosen_columns]\n",
    "\n",
    "out_features = train_df[\"label\"]\n",
    "\n",
    "# also separate test dataset features\n",
    "test_features = test_df[chosen_columns]"
   ]
  },
  {
   "cell_type": "markdown",
   "metadata": {},
   "source": [
    "From our [Week 07](https://github.com/PSAM-5020-2025S-A/WK07) notebook, we can create a classification model by following these steps:\n",
    "\n",
    "1. Load dataset (done! 🎉)\n",
    "2. Encode label features as numbers (not needed! done! ⚡️)\n",
    "3. Normalize the data (not needed! done! 🍾)\n",
    "4. Separate the outcome variable and the input features (done! ☀️)\n",
    "5. Create a model using chosen features\n",
    "6. Run model on training data and measure error*\n",
    "7. Run model on test data, measure error*, plot predictions, interpret results\n",
    "\n",
    "We could use the same `regression_error()` function we used above to measure the error of our classifier model, but this could lead to $2$ issues. First, we don't have labels for the images in the test dataset, and second, the regression error reported might be higher than it actually is because an image with label $0$ that gets mislabeled as $5$ will count as being more wrong than if it was mislabeled $2$. And we don't want that. We just want to get the percentage of classifications that our model gets correctly.\n",
    "\n",
    "To simplify calculating the classification accuracy we can use the `CamUtils.classification_accuracy()` function. This function takes $2$ parameters, a list of files and a list of predictions. It will work with the test and train datasets and will calculate a more meaningful accuracy value than the one returned by `regression_error()`."
   ]
  },
  {
   "cell_type": "code",
   "execution_count": 45,
   "metadata": {
    "tags": [
     "work_cell"
    ]
   },
   "outputs": [
    {
     "data": {
      "text/plain": [
       "1.0"
      ]
     },
     "execution_count": 45,
     "metadata": {},
     "output_type": "execute_result"
    }
   ],
   "source": [
    "# TODO: create a brand new classifier\n",
    "mod = RandomForestClassifier()\n",
    "\n",
    "# TODO: fit the model\n",
    "mod.fit(train_features, out_features)\n",
    "\n",
    "# TODO: run predictions\n",
    "train_predictions = mod.predict(train_features)\n",
    "\n",
    "# TODO: measure classification accuracy\n",
    "CamUtils.classification_accuracy(train_files, train_predictions)"
   ]
  },
  {
   "cell_type": "markdown",
   "metadata": {},
   "source": [
    "That should look promising. Let's run this on our test dataset.\n",
    "\n",
    "Remember we already separated the test data features into a variable called `test_features` above.\n",
    "\n",
    "Now we just have to run the prediction and measure accuracy."
   ]
  },
  {
   "cell_type": "code",
   "execution_count": 46,
   "metadata": {
    "tags": [
     "work_cell"
    ]
   },
   "outputs": [
    {
     "data": {
      "text/plain": [
       "0.7628734901462174"
      ]
     },
     "execution_count": 46,
     "metadata": {},
     "output_type": "execute_result"
    }
   ],
   "source": [
    "# TODO: run predictions on test data\n",
    "test_predictions = mod.predict(test_features)\n",
    "\n",
    "# TODO: measure classification accuracy\n",
    "CamUtils.classification_accuracy(test_files, test_predictions)"
   ]
  },
  {
   "cell_type": "code",
   "execution_count": 47,
   "metadata": {},
   "outputs": [
    {
     "data": {
      "text/plain": [
       "0.952"
      ]
     },
     "execution_count": 47,
     "metadata": {},
     "output_type": "execute_result"
    }
   ],
   "source": [
    "# SVC\n",
    "# TODO: create a brand new classifier\n",
    "mod2 = SVC()\n",
    "\n",
    "# TODO: fit the model\n",
    "mod2.fit(train_features, out_features)\n",
    "\n",
    "# TODO: run predictions\n",
    "train_predictions2 = mod2.predict(train_features)\n",
    "\n",
    "# TODO: measure classification accuracy\n",
    "CamUtils.classification_accuracy(train_files, train_predictions2)"
   ]
  },
  {
   "cell_type": "code",
   "execution_count": 48,
   "metadata": {},
   "outputs": [
    {
     "data": {
      "text/plain": [
       "0.7069294342021615"
      ]
     },
     "execution_count": 48,
     "metadata": {},
     "output_type": "execute_result"
    }
   ],
   "source": [
    "# TODO: run predictions on test data\n",
    "test_predictions2 = mod2.predict(test_features)\n",
    "\n",
    "# TODO: measure classification accuracy\n",
    "CamUtils.classification_accuracy(test_files, test_predictions2)"
   ]
  },
  {
   "cell_type": "code",
   "execution_count": 49,
   "metadata": {},
   "outputs": [
    {
     "name": "stderr",
     "output_type": "stream",
     "text": [
      "/home/vscode/.local/lib/python3.10/site-packages/sklearn/linear_model/_logistic.py:465: ConvergenceWarning: lbfgs failed to converge (status=1):\n",
      "STOP: TOTAL NO. OF ITERATIONS REACHED LIMIT.\n",
      "\n",
      "Increase the number of iterations (max_iter) or scale the data as shown in:\n",
      "    https://scikit-learn.org/stable/modules/preprocessing.html\n",
      "Please also refer to the documentation for alternative solver options:\n",
      "    https://scikit-learn.org/stable/modules/linear_model.html#logistic-regression\n",
      "  n_iter_i = _check_optimize_result(\n"
     ]
    },
    {
     "data": {
      "text/plain": [
       "0.676"
      ]
     },
     "execution_count": 49,
     "metadata": {},
     "output_type": "execute_result"
    }
   ],
   "source": [
    "from sklearn.linear_model import LogisticRegression\n",
    "\n",
    "# logistic regression\n",
    "# TODO: create a brand new classifier\n",
    "mod3 = LogisticRegression()\n",
    "\n",
    "# TODO: fit the model\n",
    "mod3.fit(train_features, out_features)\n",
    "\n",
    "# TODO: run predictions\n",
    "test_predictions3 = mod3.predict(train_features)\n",
    "\n",
    "# TODO: measure classification accuracy\n",
    "CamUtils.classification_accuracy(train_files, test_predictions3)"
   ]
  },
  {
   "cell_type": "code",
   "execution_count": 50,
   "metadata": {},
   "outputs": [
    {
     "data": {
      "text/plain": [
       "0.6160203432930705"
      ]
     },
     "execution_count": 50,
     "metadata": {},
     "output_type": "execute_result"
    }
   ],
   "source": [
    "# TODO: run predictions on test data\n",
    "test_predictions3 = mod3.predict(test_features)\n",
    "\n",
    "# TODO: measure classification accuracy\n",
    "CamUtils.classification_accuracy(test_files, test_predictions3)"
   ]
  },
  {
   "cell_type": "markdown",
   "metadata": {},
   "source": [
    "### Interpretation\n",
    "\n",
    "Using just the first $10$ pixels of the image the classifier is able to label most of the images correctly.\n",
    "\n",
    "<span style=\"color:hotpink\">\n",
    "How can we improve this classifier? How does the number of features affect the classification accuracy of the test data<br>\n",
    "How does the choice of pixels affect the accuracy?<br><br>\n",
    "If you're curious, repeat the modeling above, but using the <code>SVC</code> classifier instead of <code>RandomForest</code>.<br>How does the choice of modeling technique affect the accuracy?<br><br>\n",
    "Experiment with some of these parameters and explain your findings below.\n",
    "</span>"
   ]
  },
  {
   "cell_type": "markdown",
   "metadata": {
    "tags": [
     "work_cell"
    ]
   },
   "source": [
    "<span style=\"color:yellow;\">\n",
    "The greater the number of features, the greater the classification accuracy.\n",
    "\n",
    "The choice of pixels that capture the main bulk of the contents on the cctv are more likely to classify the images more accurately.\n",
    "\n",
    "\n",
    "In this dataset, SVC and logistic regression had lower accuracy compared to RandomForest. \n",
    "After increasing the NUM_FEATURES from 10 to 30, the accuracy of the classification through RandomForest increase from 0.6007628734901462 to 0.7628734901462174!\n",
    "</span>"
   ]
  }
 ],
 "metadata": {
  "colab": {
   "authorship_tag": "ABX9TyPxe2qYxIG7EblrvD1C4Pmv",
   "provenance": []
  },
  "kernelspec": {
   "display_name": "Python 3",
   "language": "python",
   "name": "python3"
  },
  "language_info": {
   "codemirror_mode": {
    "name": "ipython",
    "version": 3
   },
   "file_extension": ".py",
   "mimetype": "text/x-python",
   "name": "python",
   "nbconvert_exporter": "python",
   "pygments_lexer": "ipython3",
   "version": "3.10.16"
  }
 },
 "nbformat": 4,
 "nbformat_minor": 0
}
